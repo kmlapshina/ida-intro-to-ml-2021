{
 "cells": [
  {
   "cell_type": "markdown",
   "metadata": {},
   "source": [
    "# Домашнее задание 6: классификация текстов"
   ]
  },
  {
   "cell_type": "markdown",
   "metadata": {},
   "source": [
    "В этом домашнем задании вам предстоит построить классификатор текстов и поучаствовать в соревновании на Kaggle!\n",
    "Первым делом вам предстоит построить хороший бейзлайн, а дальше пытаться улучшать, соревнуясь с другими участниками.\n",
    "\n",
    "\n",
    "Ссылка на соревнование: https://www.kaggle.com/c/avito-category-prediction/overview\n",
    "Данные для домашнего задания можно скачать на странице соревнования.\n",
    "Чтобы ваше участие было засчитано, убедитесь, что имя в Leaderboard имеет вид: «Имя Фамилия номер_группы».\n",
    "\n",
    "Оценивание:\n",
    "\n",
    "Домашнее задание оценивается как обычно. Баллы указаны напротив заданий.\n",
    "\n",
    "За соревнование даются бонусные баллы следующим образом.\n",
    "Если вы пересекли baseline_2 на приватном лидерборде, ваша оценка равна \n",
    "\n",
    "10 - 10 * (i - 1) / M\n",
    "\n",
    "где M — количество студентов, принявших участие в соревновании;\n",
    "\n",
    "i — место (начиная с 1) студента в приватном лидерборде среди всех таких студентов.\n",
    "\n",
    "Правила:\n",
    "\n",
    "* Домашнее задание оценивается в 10 баллов.\n",
    "\n",
    "* Плагиат не допускается. При обнаружении случаев списывания, 0 за работу выставляется всем участникам нарушения, даже если можно установить, кто у кого списал.\n",
    "\n",
    "* Старайтесь сделать код как можно более оптимальным. В частности, будет штрафоваться использование циклов в тех случаях, когда операцию можно совершить при помощи инструментов библиотек, о которых рассказывалось в курсе.  \n",
    "\n",
    "* В течение 3 суток после окончания соревнования в соответствующее задание на anytask необходимо прислать код, воспроизводящий ответы для посылки, фигурирующей в приватном лидерборде. В случае отсутствия кода, воспроизводящего результат, в установленный срок студенту выставляется 0 в качестве оценки за соревнование. Если не оговорено иное, использовать любые внешние данные в соревнованиях '''запрещено'''. Под внешними данными понимаются размеченные данные, где разметка имеет прямое отношение к решаемой задаче. Грубо говоря, сборник текстов с википедии не считается внешними данными.\n"
   ]
  },
  {
   "cell_type": "markdown",
   "metadata": {},
   "source": [
    "Мы будем работать с датасетом объявлений Avito. Нам предстоит по заголовку и тексту объявления предсказывать категорию объявления."
   ]
  },
  {
   "cell_type": "code",
   "execution_count": 2,
   "metadata": {},
   "outputs": [],
   "source": [
    "import pandas as pd"
   ]
  },
  {
   "cell_type": "code",
   "execution_count": 3,
   "metadata": {},
   "outputs": [],
   "source": [
    "train = pd.read_csv('avito-text-classification/train.csv')\n",
    "test = pd.read_csv('avito-text-classification/test.csv')"
   ]
  },
  {
   "cell_type": "code",
   "execution_count": 4,
   "metadata": {},
   "outputs": [
    {
     "data": {
      "text/html": [
       "<div>\n",
       "<style scoped>\n",
       "    .dataframe tbody tr th:only-of-type {\n",
       "        vertical-align: middle;\n",
       "    }\n",
       "\n",
       "    .dataframe tbody tr th {\n",
       "        vertical-align: top;\n",
       "    }\n",
       "\n",
       "    .dataframe thead th {\n",
       "        text-align: right;\n",
       "    }\n",
       "</style>\n",
       "<table border=\"1\" class=\"dataframe\">\n",
       "  <thead>\n",
       "    <tr style=\"text-align: right;\">\n",
       "      <th></th>\n",
       "      <th>title</th>\n",
       "      <th>description</th>\n",
       "      <th>itemid</th>\n",
       "    </tr>\n",
       "  </thead>\n",
       "  <tbody>\n",
       "    <tr>\n",
       "      <th>0</th>\n",
       "      <td>Мастерка</td>\n",
       "      <td>Мастерка фирмы форвард. Белого цвета. В идеаль...</td>\n",
       "      <td>1778449823</td>\n",
       "    </tr>\n",
       "    <tr>\n",
       "      <th>1</th>\n",
       "      <td>Зимние сапоги</td>\n",
       "      <td>Продаю зимние сапоги, в хорошем состоянии, все...</td>\n",
       "      <td>1677656962</td>\n",
       "    </tr>\n",
       "    <tr>\n",
       "      <th>2</th>\n",
       "      <td>Видеонаблюдение 8 камер</td>\n",
       "      <td>В комплект Atis AMD-2MIR-8kit входит: /\\n1. Ку...</td>\n",
       "      <td>1758182804</td>\n",
       "    </tr>\n",
       "    <tr>\n",
       "      <th>3</th>\n",
       "      <td>Запчасти для GLE</td>\n",
       "      <td>Запчасти GLE</td>\n",
       "      <td>1689811299</td>\n",
       "    </tr>\n",
       "    <tr>\n",
       "      <th>4</th>\n",
       "      <td>Бластер nerf</td>\n",
       "      <td>Состояние 5+/\\nПродаю потому что не нужен/\\n18...</td>\n",
       "      <td>1804706240</td>\n",
       "    </tr>\n",
       "  </tbody>\n",
       "</table>\n",
       "</div>"
      ],
      "text/plain": [
       "                     title                                        description  \\\n",
       "0                 Мастерка  Мастерка фирмы форвард. Белого цвета. В идеаль...   \n",
       "1            Зимние сапоги  Продаю зимние сапоги, в хорошем состоянии, все...   \n",
       "2  Видеонаблюдение 8 камер  В комплект Atis AMD-2MIR-8kit входит: /\\n1. Ку...   \n",
       "3         Запчасти для GLE                                       Запчасти GLE   \n",
       "4             Бластер nerf  Состояние 5+/\\nПродаю потому что не нужен/\\n18...   \n",
       "\n",
       "       itemid  \n",
       "0  1778449823  \n",
       "1  1677656962  \n",
       "2  1758182804  \n",
       "3  1689811299  \n",
       "4  1804706240  "
      ]
     },
     "execution_count": 4,
     "metadata": {},
     "output_type": "execute_result"
    }
   ],
   "source": [
    "train.head()\n",
    "test.head()"
   ]
  },
  {
   "cell_type": "code",
   "execution_count": 5,
   "metadata": {},
   "outputs": [
    {
     "data": {
      "text/plain": [
       "(4234042, 4)"
      ]
     },
     "execution_count": 5,
     "metadata": {},
     "output_type": "execute_result"
    }
   ],
   "source": [
    "train.shape"
   ]
  },
  {
   "cell_type": "markdown",
   "metadata": {},
   "source": [
    "## Задание 1 (0.5 балла)\n",
    "\n",
    "Выведете на экран информацию о пропусках в данных. Если пропуски присутствуют заполните их пустой строкой."
   ]
  },
  {
   "cell_type": "code",
   "execution_count": 6,
   "metadata": {},
   "outputs": [
    {
     "name": "stdout",
     "output_type": "stream",
     "text": [
      "TRAIN DATA\n",
      "title            0\n",
      "description      2\n",
      "Category_name    0\n",
      "Category         0\n",
      "dtype: int64\n",
      "\n",
      "TEST DATA\n",
      "title          0\n",
      "description    1\n",
      "itemid         0\n",
      "dtype: int64\n"
     ]
    }
   ],
   "source": [
    "print('TRAIN DATA')\n",
    "print(pd.isna(train).sum(axis = 0), end = '\\n\\n')\n",
    "print('TEST DATA')\n",
    "print(pd.isna(test).sum(axis = 0))"
   ]
  },
  {
   "cell_type": "code",
   "execution_count": 7,
   "metadata": {},
   "outputs": [
    {
     "name": "stdout",
     "output_type": "stream",
     "text": [
      "TRAIN DATA\n",
      "title            0\n",
      "description      0\n",
      "Category_name    0\n",
      "Category         0\n",
      "dtype: int64\n",
      "\n",
      "TEST DATA\n",
      "title          0\n",
      "description    0\n",
      "itemid         0\n",
      "dtype: int64\n"
     ]
    }
   ],
   "source": [
    "import numpy as np\n",
    "train1 = train.replace(np.nan, '', regex=True)\n",
    "test1 = test.replace(np.nan, '', regex=True)\n",
    "\n",
    "print('TRAIN DATA')\n",
    "print(pd.isna(train1).sum(axis = 0), end = '\\n\\n')\n",
    "print('TEST DATA')\n",
    "print(pd.isna(test1).sum(axis = 0))"
   ]
  },
  {
   "cell_type": "markdown",
   "metadata": {},
   "source": [
    "## Задание 2 (0.5 балла)\n",
    "Сконкатенируйте заголовок и описание в единую строку и поместите результат в отдельный столбец. Таким образом мы будет работать с одним текстом, а не с двумя."
   ]
  },
  {
   "cell_type": "code",
   "execution_count": 8,
   "metadata": {},
   "outputs": [
    {
     "data": {
      "text/html": [
       "<div>\n",
       "<style scoped>\n",
       "    .dataframe tbody tr th:only-of-type {\n",
       "        vertical-align: middle;\n",
       "    }\n",
       "\n",
       "    .dataframe tbody tr th {\n",
       "        vertical-align: top;\n",
       "    }\n",
       "\n",
       "    .dataframe thead th {\n",
       "        text-align: right;\n",
       "    }\n",
       "</style>\n",
       "<table border=\"1\" class=\"dataframe\">\n",
       "  <thead>\n",
       "    <tr style=\"text-align: right;\">\n",
       "      <th></th>\n",
       "      <th>title</th>\n",
       "      <th>description</th>\n",
       "      <th>Category_name</th>\n",
       "      <th>Category</th>\n",
       "      <th>title_descr</th>\n",
       "    </tr>\n",
       "  </thead>\n",
       "  <tbody>\n",
       "    <tr>\n",
       "      <th>0</th>\n",
       "      <td>Эбу Renault / Nissan 1,5 DCI Delphi 2001-2008 год</td>\n",
       "      <td>Комплект ЭБУ (мозги, компьютер мотора, двигате...</td>\n",
       "      <td>Запчасти и аксессуары</td>\n",
       "      <td>10</td>\n",
       "      <td>Эбу Renault / Nissan 1,5 DCI Delphi 2001-2008 ...</td>\n",
       "    </tr>\n",
       "    <tr>\n",
       "      <th>1</th>\n",
       "      <td>Утюг утп 1000 ватт СССР 1987 год</td>\n",
       "      <td>Продам/\\n Фото № 1-2 /\\n /\\nУтюг УТП 1000 ватт...</td>\n",
       "      <td>Бытовая техника</td>\n",
       "      <td>21</td>\n",
       "      <td>Утюг утп 1000 ватт СССР 1987 год Продам/\\n Фот...</td>\n",
       "    </tr>\n",
       "    <tr>\n",
       "      <th>2</th>\n",
       "      <td>Возвму машину с выкупом</td>\n",
       "      <td>Возьму машину в аренду с последующим выкупом н...</td>\n",
       "      <td>Предложение услуг</td>\n",
       "      <td>114</td>\n",
       "      <td>Возвму машину с выкупом Возьму машину в аренду...</td>\n",
       "    </tr>\n",
       "    <tr>\n",
       "      <th>3</th>\n",
       "      <td>Полусапожки</td>\n",
       "      <td>полусапожки в отличном состоянии, один раз оде...</td>\n",
       "      <td>Одежда, обувь, аксессуары</td>\n",
       "      <td>27</td>\n",
       "      <td>Полусапожки полусапожки в отличном состоянии, ...</td>\n",
       "    </tr>\n",
       "    <tr>\n",
       "      <th>4</th>\n",
       "      <td>Босоножки кожаные</td>\n",
       "      <td>Кожаные(натур) босоножки Karlo Pasolini, 40 рр...</td>\n",
       "      <td>Одежда, обувь, аксессуары</td>\n",
       "      <td>27</td>\n",
       "      <td>Босоножки кожаные Кожаные(натур) босоножки Kar...</td>\n",
       "    </tr>\n",
       "  </tbody>\n",
       "</table>\n",
       "</div>"
      ],
      "text/plain": [
       "                                               title  \\\n",
       "0  Эбу Renault / Nissan 1,5 DCI Delphi 2001-2008 год   \n",
       "1                   Утюг утп 1000 ватт СССР 1987 год   \n",
       "2                            Возвму машину с выкупом   \n",
       "3                                        Полусапожки   \n",
       "4                                  Босоножки кожаные   \n",
       "\n",
       "                                         description  \\\n",
       "0  Комплект ЭБУ (мозги, компьютер мотора, двигате...   \n",
       "1  Продам/\\n Фото № 1-2 /\\n /\\nУтюг УТП 1000 ватт...   \n",
       "2  Возьму машину в аренду с последующим выкупом н...   \n",
       "3  полусапожки в отличном состоянии, один раз оде...   \n",
       "4  Кожаные(натур) босоножки Karlo Pasolini, 40 рр...   \n",
       "\n",
       "               Category_name  Category  \\\n",
       "0      Запчасти и аксессуары        10   \n",
       "1            Бытовая техника        21   \n",
       "2          Предложение услуг       114   \n",
       "3  Одежда, обувь, аксессуары        27   \n",
       "4  Одежда, обувь, аксессуары        27   \n",
       "\n",
       "                                         title_descr  \n",
       "0  Эбу Renault / Nissan 1,5 DCI Delphi 2001-2008 ...  \n",
       "1  Утюг утп 1000 ватт СССР 1987 год Продам/\\n Фот...  \n",
       "2  Возвму машину с выкупом Возьму машину в аренду...  \n",
       "3  Полусапожки полусапожки в отличном состоянии, ...  \n",
       "4  Босоножки кожаные Кожаные(натур) босоножки Kar...  "
      ]
     },
     "execution_count": 8,
     "metadata": {},
     "output_type": "execute_result"
    }
   ],
   "source": [
    "train1['title_descr'] = train1[['title', 'description']].agg(' '.join, axis=1)\n",
    "train1.head()"
   ]
  },
  {
   "cell_type": "code",
   "execution_count": 9,
   "metadata": {},
   "outputs": [
    {
     "data": {
      "text/html": [
       "<div>\n",
       "<style scoped>\n",
       "    .dataframe tbody tr th:only-of-type {\n",
       "        vertical-align: middle;\n",
       "    }\n",
       "\n",
       "    .dataframe tbody tr th {\n",
       "        vertical-align: top;\n",
       "    }\n",
       "\n",
       "    .dataframe thead th {\n",
       "        text-align: right;\n",
       "    }\n",
       "</style>\n",
       "<table border=\"1\" class=\"dataframe\">\n",
       "  <thead>\n",
       "    <tr style=\"text-align: right;\">\n",
       "      <th></th>\n",
       "      <th>title</th>\n",
       "      <th>description</th>\n",
       "      <th>itemid</th>\n",
       "      <th>title_descr</th>\n",
       "    </tr>\n",
       "  </thead>\n",
       "  <tbody>\n",
       "    <tr>\n",
       "      <th>0</th>\n",
       "      <td>Мастерка</td>\n",
       "      <td>Мастерка фирмы форвард. Белого цвета. В идеаль...</td>\n",
       "      <td>1778449823</td>\n",
       "      <td>Мастерка Мастерка фирмы форвард. Белого цвета....</td>\n",
       "    </tr>\n",
       "    <tr>\n",
       "      <th>1</th>\n",
       "      <td>Зимние сапоги</td>\n",
       "      <td>Продаю зимние сапоги, в хорошем состоянии, все...</td>\n",
       "      <td>1677656962</td>\n",
       "      <td>Зимние сапоги Продаю зимние сапоги, в хорошем ...</td>\n",
       "    </tr>\n",
       "    <tr>\n",
       "      <th>2</th>\n",
       "      <td>Видеонаблюдение 8 камер</td>\n",
       "      <td>В комплект Atis AMD-2MIR-8kit входит: /\\n1. Ку...</td>\n",
       "      <td>1758182804</td>\n",
       "      <td>Видеонаблюдение 8 камер В комплект Atis AMD-2M...</td>\n",
       "    </tr>\n",
       "    <tr>\n",
       "      <th>3</th>\n",
       "      <td>Запчасти для GLE</td>\n",
       "      <td>Запчасти GLE</td>\n",
       "      <td>1689811299</td>\n",
       "      <td>Запчасти для GLE Запчасти GLE</td>\n",
       "    </tr>\n",
       "    <tr>\n",
       "      <th>4</th>\n",
       "      <td>Бластер nerf</td>\n",
       "      <td>Состояние 5+/\\nПродаю потому что не нужен/\\n18...</td>\n",
       "      <td>1804706240</td>\n",
       "      <td>Бластер nerf Состояние 5+/\\nПродаю потому что ...</td>\n",
       "    </tr>\n",
       "  </tbody>\n",
       "</table>\n",
       "</div>"
      ],
      "text/plain": [
       "                     title                                        description  \\\n",
       "0                 Мастерка  Мастерка фирмы форвард. Белого цвета. В идеаль...   \n",
       "1            Зимние сапоги  Продаю зимние сапоги, в хорошем состоянии, все...   \n",
       "2  Видеонаблюдение 8 камер  В комплект Atis AMD-2MIR-8kit входит: /\\n1. Ку...   \n",
       "3         Запчасти для GLE                                       Запчасти GLE   \n",
       "4             Бластер nerf  Состояние 5+/\\nПродаю потому что не нужен/\\n18...   \n",
       "\n",
       "       itemid                                        title_descr  \n",
       "0  1778449823  Мастерка Мастерка фирмы форвард. Белого цвета....  \n",
       "1  1677656962  Зимние сапоги Продаю зимние сапоги, в хорошем ...  \n",
       "2  1758182804  Видеонаблюдение 8 камер В комплект Atis AMD-2M...  \n",
       "3  1689811299                      Запчасти для GLE Запчасти GLE  \n",
       "4  1804706240  Бластер nerf Состояние 5+/\\nПродаю потому что ...  "
      ]
     },
     "execution_count": 9,
     "metadata": {},
     "output_type": "execute_result"
    }
   ],
   "source": [
    "test1['title_descr'] = test1[['title', 'description']].agg(' '.join, axis=1)\n",
    "test1.head()"
   ]
  },
  {
   "cell_type": "markdown",
   "metadata": {},
   "source": [
    "## Задание 3 (0.5 балла)\n",
    "Давайте немного посмотрим на наши данные. Визуализируйте (где явно просят) или выведете информацию о следующем:\n",
    "\n",
    "1. Сколько всего уникальных классов необходимо предсказать?\n",
    "2. Постройте столбчатую диаграмму распределения по классам. Нормализуйте график, чтобы видеть доли, а не абсолютные значения.\n",
    "3. На сколько большой дисбаланс? Какой класс имеет самую большую долю в выборке (укажите класс и долю), какой класс наименьшую (укажите класс и долю)."
   ]
  },
  {
   "cell_type": "code",
   "execution_count": 10,
   "metadata": {},
   "outputs": [
    {
     "name": "stdout",
     "output_type": "stream",
     "text": [
      "Количество классов: 50\n"
     ]
    }
   ],
   "source": [
    "print('Количество классов:', len(train1.Category_name.unique()))"
   ]
  },
  {
   "cell_type": "code",
   "execution_count": 11,
   "metadata": {},
   "outputs": [
    {
     "data": {
      "image/png": "[encoded data removed]",
      "text/plain": [
       "<Figure size 1080x864 with 1 Axes>"
      ]
     },
     "metadata": {
      "needs_background": "light"
     },
     "output_type": "display_data"
    }
   ],
   "source": [
    "from matplotlib import pyplot as plt\n",
    "import seaborn as sns\n",
    "\n",
    "plt.figure(figsize=(15, 12))\n",
    "sns.set_style(\"white\")\n",
    "plt.xlabel('Название категории', fontsize=14)\n",
    "plt.ylabel('Доля объектов категории в выборке', fontsize=14)\n",
    "plt.title('Распределение объектов по категориям', fontsize=14)\n",
    "\n",
    "sns_plot = sns.histplot(train1['Category_name'], stat = 'probability',color='darksalmon')\n",
    "fig = sns_plot.get_figure()\n",
    "plt.xticks(rotation=90, horizontalalignment='center')\n",
    "sns.despine()\n",
    "plt.show()"
   ]
  },
  {
   "cell_type": "markdown",
   "metadata": {},
   "source": [
    "Дисбаланс классов очень большой, что видно невооруженным глазом на графике. По графику видно класс, имеющий наибольшую долю в выборке - это категория \"Одежда, обсувь, аксессуары\". Доля в выборке - выше 0,175. Однако из-за большого дисбаланса классов сложнее сделать вывод о наименее представленной в выборке категории. Воспользуюсь value_counts для точного ответа:"
   ]
  },
  {
   "cell_type": "code",
   "execution_count": 12,
   "metadata": {},
   "outputs": [
    {
     "name": "stdout",
     "output_type": "stream",
     "text": [
      "Наибольшую долю в выборке имеет класс \"Одежда, обувь, аксессуары\", доля класса в выборке равна 0.180707\n",
      "Наименьшую долю в выборке имеет класс \"Недвижимость за рубежом\", доля класса в выборке равна 0.000039\n"
     ]
    }
   ],
   "source": [
    "max_categ = train1['Category_name'].value_counts().index.tolist()[0]\n",
    "max_value = train1['Category_name'].value_counts()[0]\n",
    "min_categ = train1['Category_name'].value_counts().index.tolist()[-1]\n",
    "min_value = train1['Category_name'].value_counts()[-1]\n",
    "datashape = train1.shape[0]\n",
    "\n",
    "print('Наибольшую долю в выборке имеет класс \"', max_categ, '\", доля класса в выборке равна ', \n",
    "                                                \"{:.6f}\".format(max_value/datashape), sep = '')\n",
    "print('Наименьшую долю в выборке имеет класс \"', min_categ, '\", доля класса в выборке равна ', \n",
    "                                                \"{:.6f}\".format(min_value/datashape), sep = '')"
   ]
  },
  {
   "cell_type": "markdown",
   "metadata": {},
   "source": [
    "## Задание 4 (0.5 балла)\n",
    "\n",
    "Далее мы будем пока работать только с train частью. Для test части нам неизвестны истинные значения, и они понадобятся только тогда, когда мы будем отправлять решение на Kaggle.\n",
    "\n",
    "1. Предобработайте данные (train часть) с помощью CountVectorizer.\n",
    "2. Какого размера получилась матрица?\n"
   ]
  },
  {
   "cell_type": "code",
   "execution_count": 13,
   "metadata": {},
   "outputs": [
    {
     "name": "stdout",
     "output_type": "stream",
     "text": [
      "Размер матрицы: (4234042, 2125805)\n"
     ]
    }
   ],
   "source": [
    "from sklearn.feature_extraction.text import CountVectorizer\n",
    "\n",
    "vectorizer = CountVectorizer()\n",
    "X = vectorizer.fit_transform(train1.title_descr)\n",
    "print('Размер матрицы:', X.shape)"
   ]
  },
  {
   "cell_type": "markdown",
   "metadata": {},
   "source": [
    "Матрица очень немаленькая!"
   ]
  },
  {
   "cell_type": "markdown",
   "metadata": {},
   "source": [
    "## Задание 5 (0.5 балла)\n",
    "\n",
    "В предыдущем пункте у вас должная была получится очень большая матрица. Это не дело.\n",
    "Если вы взгляните на текст, то увидете, что там есть множество специальных символов.\n",
    "\n",
    "Давайте также посмотрим на словарь, который получился в результате построения CountVectorizer, его можно найти в поле _vocabulary инстанса этого класса.\n",
    "\n",
    "1. Найдите в этом словаре все слова, которые начинаются на цифру. Сколько таких слов нашлось?\n",
    "\n",
    "2. Найдите все слова, которые начинаются на символы пунктуации. Сколько таких слов нашлось? "
   ]
  },
  {
   "cell_type": "code",
   "execution_count": 14,
   "metadata": {},
   "outputs": [],
   "source": [
    "dict_avito = vectorizer.vocabulary_"
   ]
  },
  {
   "cell_type": "code",
   "execution_count": 15,
   "metadata": {},
   "outputs": [
    {
     "name": "stdout",
     "output_type": "stream",
     "text": [
      "Количество слов, начинающихся на цифру: 610944\n",
      "Всего такие слова встречаются в данных 186731478339.0 раз(а).\n"
     ]
    }
   ],
   "source": [
    "num_start = dict((key,value) for key, value in dict_avito.items() if key[0].isdigit())\n",
    "print('Количество слов, начинающихся на цифру:', len(num_start.keys()))\n",
    "print('Всего такие слова встречаются в данных', \n",
    "      sum(np.array(list(num_start.items()))[:, 1].astype(np.float)), 'раз(а).')"
   ]
  },
  {
   "cell_type": "code",
   "execution_count": 16,
   "metadata": {},
   "outputs": [
    {
     "name": "stdout",
     "output_type": "stream",
     "text": [
      "Количество слов, начинающихся на цифру: 2043\n",
      "Всего такие слова встречаются в данных 1250095356.0 раз(а).\n"
     ]
    }
   ],
   "source": [
    "import string\n",
    "\n",
    "punct_start = dict((key,value) for key, value in dict_avito.items() if key[0] in string.punctuation)\n",
    "print('Количество слов, начинающихся на цифру:', len(punct_start.keys()))\n",
    "print('Всего такие слова встречаются в данных', \n",
    "      sum(np.array(list(punct_start.items()))[:, 1].astype(np.float)), 'раз(а).')"
   ]
  },
  {
   "cell_type": "markdown",
   "metadata": {},
   "source": [
    "## Задание 6 (2.5 балла)\n",
    "\n",
    "В scikit-learn мы можем оценивать процесс подсчета матрицы через CountVectorizer. У CountVectorizer, как и у других наследников \\_VectorizerMixin, есть аргумент tokenizer и preprocessor. preprocessor применится в самом начале к каждой строке вашего датасета, tokenizer же должен принять строку и вернуть токены.\n",
    "Давайте напишем кастомный токенайзер, которые сделает все, что нам нужно: \n",
    "\n",
    "0. Приведет все буквы к нижнему регистру\n",
    "1. Разобьет текст на токены с помощью word_tokenizer из пакета nltk\n",
    "2. Удалит все токены содержащие числа и пунктуацию\n",
    "3. Удалит все токены, которые перечислены в nltk.corpus.stopwords('russian')\n",
    "4. Проведет стемминг с помощью SnowballStemmer\n",
    "\n",
    "Продемонстрируйте работу вашей функии на самом первом описании товара в датасете.\n",
    "\n",
    "Важно: так как функию будет необходимо запускать на большом корпусе, подумайте об эффективной реализации. Постарайтесь решить задачу в минимальное количество циклов и копирований.\n",
    "\n",
    "Референсная реализация на компьютере автора работала 230 секунд на 100к строчек."
   ]
  },
  {
   "cell_type": "code",
   "execution_count": 17,
   "metadata": {},
   "outputs": [],
   "source": [
    "my_text = train1.title_descr[0]"
   ]
  },
  {
   "cell_type": "code",
   "execution_count": 18,
   "metadata": {},
   "outputs": [],
   "source": [
    "from nltk import word_tokenize\n",
    "from nltk.corpus import stopwords\n",
    "import snowballstemmer\n",
    "\n",
    "stemmer = snowballstemmer.stemmer('russian')\n",
    "russian_stopwords = stopwords.words('russian')\n",
    "\n",
    "def tokenize_text(text):\n",
    "    tokens = word_tokenize(text.lower())\n",
    "    tokens = [token for token in tokens \\\n",
    "              if token not in russian_stopwords and token.isalpha() == True]\n",
    "    tokens = stemmer.stemWords(tokens)\n",
    "    \n",
    "    return tokens"
   ]
  },
  {
   "cell_type": "code",
   "execution_count": 19,
   "metadata": {},
   "outputs": [
    {
     "data": {
      "text/plain": [
       "['эб',\n",
       " 'renault',\n",
       " 'nissan',\n",
       " 'dci',\n",
       " 'delphi',\n",
       " 'год',\n",
       " 'комплект',\n",
       " 'эб',\n",
       " 'мозг',\n",
       " 'компьютер',\n",
       " 'мотор',\n",
       " 'двигател',\n",
       " 'коммутатор',\n",
       " 'электрон',\n",
       " 'блок',\n",
       " 'управлен',\n",
       " 'двигател',\n",
       " 'компьютер',\n",
       " 'мотор',\n",
       " 'рен',\n",
       " 'kangoo',\n",
       " 'канг',\n",
       " 'канг',\n",
       " 'мега',\n",
       " 'сценик',\n",
       " 'laguna',\n",
       " 'лагун',\n",
       " 'clio',\n",
       " 'кли',\n",
       " 'nissan',\n",
       " 'micra',\n",
       " 'нисса',\n",
       " 'микр',\n",
       " 'друг',\n",
       " 'рен',\n",
       " 'нисса',\n",
       " 'дизел',\n",
       " 'топливн',\n",
       " 'аппаратур',\n",
       " 'делф',\n",
       " 'оригина',\n",
       " 'отличн',\n",
       " 'состоян',\n",
       " 'проверен',\n",
       " 'гарант',\n",
       " 'запчаст',\n",
       " 'предоставля',\n",
       " 'гарант',\n",
       " 'возможн',\n",
       " 'установк',\n",
       " 'подробн',\n",
       " 'раздел',\n",
       " 'компан',\n",
       " 'дорож',\n",
       " 'сво',\n",
       " 'репутац',\n",
       " 'торгу',\n",
       " 'легальн',\n",
       " 'контрактн',\n",
       " 'запчаст',\n",
       " 'дета',\n",
       " 'налич',\n",
       " 'таможен',\n",
       " 'документ',\n",
       " 'запчаст',\n",
       " 'автомобил',\n",
       " 'пробег',\n",
       " 'росс',\n",
       " 'отправля',\n",
       " 'друг',\n",
       " 'регион',\n",
       " 'таможен',\n",
       " 'союз',\n",
       " 'транспортн',\n",
       " 'компан',\n",
       " 'наложн',\n",
       " 'платеж']"
      ]
     },
     "execution_count": 19,
     "metadata": {},
     "output_type": "execute_result"
    }
   ],
   "source": [
    "tokenize_text(my_text)"
   ]
  },
  {
   "cell_type": "markdown",
   "metadata": {},
   "source": [
    "## Задание 7 (1 балл)\n",
    "\n",
    "1. Возьмите случайные 500к строк из датасета. Постройте по ним CountVectorizer с применением вашего токенизатора.\n",
    "2. Разбейте полученную матрицу на train, test в отношении 4 к 1. Не забудьте про target переменную.\n",
    "3. Обучите SGDClassifier на полученной выборке.\n",
    "4. Посчитайте метрику accuracy"
   ]
  },
  {
   "cell_type": "code",
   "execution_count": 23,
   "metadata": {},
   "outputs": [],
   "source": [
    "n_rows = 500000\n",
    "data_500 = train1.sample(n = n_rows)"
   ]
  },
  {
   "cell_type": "code",
   "execution_count": 23,
   "metadata": {},
   "outputs": [],
   "source": [
    "from sklearn.feature_extraction.text import CountVectorizer\n",
    "from sklearn.model_selection import train_test_split\n",
    "from sklearn.linear_model import SGDClassifier\n",
    "from sklearn.metrics import accuracy_score\n",
    "\n",
    "count_vect = CountVectorizer(tokenizer = tokenize_text)\n",
    "X = count_vect.fit_transform(data_500.title_descr)"
   ]
  },
  {
   "cell_type": "code",
   "execution_count": 24,
   "metadata": {},
   "outputs": [
    {
     "name": "stdout",
     "output_type": "stream",
     "text": [
      "----CLASSIFICATION 1. Count vectorizer----\n",
      "Размер матрицы: (500000, 205209)\n",
      "Доля правильных ответов классификатора: 0.852504\n"
     ]
    }
   ],
   "source": [
    "y = data_500.Category\n",
    "X_train, X_test, y_train, y_test = train_test_split(X, y, test_size=0.25)\n",
    "clf = SGDClassifier()\n",
    "clf.fit(X_train, y_train)\n",
    "y_pred = clf.predict(X_test)\n",
    "\n",
    "print('----CLASSIFICATION 1. Count vectorizer----')\n",
    "print('Размер матрицы:', X.shape)\n",
    "print('Доля правильных ответов классификатора:', accuracy_score(y_test, y_pred))"
   ]
  },
  {
   "cell_type": "markdown",
   "metadata": {},
   "source": [
    "## Задание 8 (1 балл)\n",
    "\n",
    "1. Повторите 7 задание, но с tf-idf векторизатором. Как изменилось качество.\n",
    "2. Мы можем еще сильнее уменьшите размер нашей матрицы, если отбросим значения df близкие к единице. Скорее всего такие слова не несут много информации о категории, так как встречаются достаточно часто. Ограничьте максимальный df в параметрах TfIdfVectorizer, поставьте верхнюю границу равную 0.9. Как изменился размер матрицы, как изменилось качество?\n"
   ]
  },
  {
   "cell_type": "code",
   "execution_count": 25,
   "metadata": {},
   "outputs": [],
   "source": [
    "from sklearn.feature_extraction.text import TfidfVectorizer\n",
    "from sklearn.model_selection import train_test_split\n",
    "from sklearn.linear_model import SGDClassifier\n",
    "from sklearn.metrics import accuracy_score\n",
    "\n",
    "tfidf_vect = TfidfVectorizer(tokenizer = tokenize_text)\n",
    "X2 = tfidf_vect.fit_transform(data_500.title_descr)"
   ]
  },
  {
   "cell_type": "code",
   "execution_count": 26,
   "metadata": {},
   "outputs": [
    {
     "name": "stdout",
     "output_type": "stream",
     "text": [
      "----CLASSIFICATION 2. Tf-Idf Vectorizer, max_df = 1.0----\n",
      "Размер матрицы: (500000, 205209)\n",
      "Доля правильных ответов классификатора: 0.833528\n",
      "\n"
     ]
    }
   ],
   "source": [
    "y2 = data_500.Category\n",
    "X_train2, X_test2, y_train2, y_test2 = train_test_split(X2, y2, test_size=0.25)\n",
    "clf_tfidf = SGDClassifier()\n",
    "clf_tfidf.fit(X_train2, y_train2)\n",
    "y_pred2 = clf_tfidf.predict(X_test2)\n",
    "\n",
    "print('----CLASSIFICATION 2. Tf-Idf Vectorizer, max_df = 1.0----')\n",
    "print('Размер матрицы:', X2.shape)\n",
    "print('Доля правильных ответов классификатора:', accuracy_score(y_test2, y_pred2), end='\\n\\n')"
   ]
  },
  {
   "cell_type": "markdown",
   "metadata": {},
   "source": [
    "Качество с новым векторизатором стало ниже."
   ]
  },
  {
   "cell_type": "code",
   "execution_count": 27,
   "metadata": {},
   "outputs": [],
   "source": [
    "from sklearn.feature_extraction.text import TfidfVectorizer\n",
    "from sklearn.model_selection import train_test_split\n",
    "from sklearn.linear_model import SGDClassifier\n",
    "from sklearn.metrics import accuracy_score\n",
    "\n",
    "tfidf_vect1 = TfidfVectorizer(tokenizer = tokenize_text, max_df = 0.9)\n",
    "X3 = tfidf_vect1.fit_transform(data_500.title_descr)"
   ]
  },
  {
   "cell_type": "code",
   "execution_count": 28,
   "metadata": {},
   "outputs": [
    {
     "name": "stdout",
     "output_type": "stream",
     "text": [
      "----CLASSIFICATION 3. Tf-Idf Vectorizer, max_df = 0.9----\n",
      "Размер матрицы: (500000, 205209)\n",
      "Доля правильных ответов классификатора: 0.832888\n"
     ]
    }
   ],
   "source": [
    "y3 = data_500.Category\n",
    "X_train3, X_test3, y_train3, y_test3 = train_test_split(X3, y3, test_size=0.25)\n",
    "clf_tfidf1 = SGDClassifier()\n",
    "clf_tfidf1.fit(X_train3, y_train3)\n",
    "y_pred3 = clf_tfidf1.predict(X_test3)\n",
    "\n",
    "print('----CLASSIFICATION 3. Tf-Idf Vectorizer, max_df = 0.9----')\n",
    "print('Размер матрицы:', X3.shape)\n",
    "print('Доля правильных ответов классификатора:', accuracy_score(y_test3, y_pred3))"
   ]
  },
  {
   "cell_type": "markdown",
   "metadata": {},
   "source": [
    "Размер матрицы не изменился - видимо, не было досаточно часто встречающихся слов (??). И качество немного упало."
   ]
  },
  {
   "cell_type": "markdown",
   "metadata": {},
   "source": [
    "## Задание 9 (1 балл)\n",
    "Еще один популяпный трюк, который позволит уменьшить количество признаков называется hashing trick. Его суть в том, то мы случайно группируем признаки ииии  ..... складываем их! А потом удаляем исходные признаки. В итоге все наши признаки это просто суммы исходных. Звучит странно, но это отлично работает. Давайте проверим этот трюк в нашем сеттинге.\n",
    "Также при таком подходе вам не нужно хранить словарь token->index, что тоже иногда полезно.\n",
    "\n",
    "1. Повторите задание 7 с HashingVectorizer, укажите количество фичей равное 30000.\n",
    "2. Какой из трех подходов показал самый высокий результат?"
   ]
  },
  {
   "cell_type": "code",
   "execution_count": 29,
   "metadata": {},
   "outputs": [
    {
     "name": "stderr",
     "output_type": "stream",
     "text": [
      "C:\\Python\\ANACONDA\\lib\\site-packages\\sklearn\\feature_extraction\\text.py:484: UserWarning: The parameter 'token_pattern' will not be used since 'tokenizer' is not None'\n",
      "  warnings.warn(\"The parameter 'token_pattern' will not be used\"\n"
     ]
    }
   ],
   "source": [
    "from sklearn.feature_extraction.text import HashingVectorizer\n",
    "from sklearn.model_selection import train_test_split\n",
    "from sklearn.linear_model import SGDClassifier\n",
    "from sklearn.metrics import accuracy_score\n",
    "\n",
    "hash_vect = HashingVectorizer(n_features=30000, tokenizer = tokenize_text)\n",
    "X4 = hash_vect.fit_transform(data_500.title_descr)"
   ]
  },
  {
   "cell_type": "code",
   "execution_count": 30,
   "metadata": {},
   "outputs": [
    {
     "name": "stdout",
     "output_type": "stream",
     "text": [
      "----CLASSIFICATION 4. Hashing Vectorizer, n_features = 30 000----\n",
      "Размер матрицы: (500000, 30000)\n",
      "Доля правильных ответов классификатора: 0.81632\n"
     ]
    }
   ],
   "source": [
    "y4 = data_500.Category\n",
    "X_train4, X_test4, y_train4, y_test4 = train_test_split(X4, y4, test_size=0.25)\n",
    "clf_tfidf2 = SGDClassifier()\n",
    "clf_tfidf2.fit(X_train4, y_train4)\n",
    "y_pred4 = clf_tfidf2.predict(X_test4)\n",
    "\n",
    "print('----CLASSIFICATION 4. Hashing Vectorizer, n_features = 30 000----')\n",
    "print('Размер матрицы:', X4.shape)\n",
    "print('Доля правильных ответов классификатора:', accuracy_score(y_test4, y_pred4))"
   ]
  },
  {
   "cell_type": "markdown",
   "metadata": {},
   "source": [
    "**Самое высокое качество** - у модели, которая использовалась в первом подходе (с использованием CountVectorizer)."
   ]
  },
  {
   "cell_type": "markdown",
   "metadata": {},
   "source": [
    "## Задание 10 (1.5 балла)\n",
    "\n",
    "Пришло время выйти в мир. Отправляйтесь на Kaggle Inclass и сделайте первую посылку. Там вы найдете инструкцию как сформировать файл с предсказаниями и отправить его."
   ]
  },
  {
   "cell_type": "code",
   "execution_count": 24,
   "metadata": {},
   "outputs": [],
   "source": [
    "train_x = data_500.title_descr\n",
    "train_y = data_500.Category\n",
    "test_x = train1.title_descr"
   ]
  },
  {
   "cell_type": "code",
   "execution_count": 25,
   "metadata": {},
   "outputs": [
    {
     "data": {
      "text/plain": [
       "3262314    Диски опель астра J/ зафира/ шевроле круз Прод...\n",
       "1146899    iPhone 5s В хорошем состоянии, прилагаются нау...\n",
       "3493399    Бокалы свадебные Свадебные /\\nХрусталь/\\nНовые...\n",
       "3790193    Паровозик-пазлы Свинка пеппа Любимая свинка Пе...\n",
       "999997     Развивающий коврик Tiny Love Продам развивающи...\n",
       "Name: title_descr, dtype: object"
      ]
     },
     "execution_count": 25,
     "metadata": {},
     "output_type": "execute_result"
    }
   ],
   "source": [
    "train_x.head()"
   ]
  },
  {
   "cell_type": "code",
   "execution_count": 26,
   "metadata": {},
   "outputs": [
    {
     "data": {
      "text/plain": [
       "3262314     10\n",
       "1146899    114\n",
       "3493399     87\n",
       "3790193     30\n",
       "999997      30\n",
       "Name: Category, dtype: int64"
      ]
     },
     "execution_count": 26,
     "metadata": {},
     "output_type": "execute_result"
    }
   ],
   "source": [
    "train_y.head()"
   ]
  },
  {
   "cell_type": "code",
   "execution_count": 27,
   "metadata": {},
   "outputs": [
    {
     "data": {
      "text/plain": [
       "0    Эбу Renault / Nissan 1,5 DCI Delphi 2001-2008 ...\n",
       "1    Утюг утп 1000 ватт СССР 1987 год Продам/\\n Фот...\n",
       "2    Возвму машину с выкупом Возьму машину в аренду...\n",
       "3    Полусапожки полусапожки в отличном состоянии, ...\n",
       "4    Босоножки кожаные Кожаные(натур) босоножки Kar...\n",
       "Name: title_descr, dtype: object"
      ]
     },
     "execution_count": 27,
     "metadata": {},
     "output_type": "execute_result"
    }
   ],
   "source": [
    "test_x.head()"
   ]
  },
  {
   "cell_type": "code",
   "execution_count": 28,
   "metadata": {},
   "outputs": [],
   "source": [
    "from sklearn.feature_extraction.text import CountVectorizer\n",
    "from sklearn.linear_model import SGDClassifier"
   ]
  },
  {
   "cell_type": "code",
   "execution_count": 29,
   "metadata": {},
   "outputs": [],
   "source": [
    "vectorizer_fin = CountVectorizer(tokenizer = tokenize_text)\n",
    "train_x = vectorizer_fin.fit_transform(train_x)"
   ]
  },
  {
   "cell_type": "code",
   "execution_count": 30,
   "metadata": {},
   "outputs": [
    {
     "ename": "KeyboardInterrupt",
     "evalue": "",
     "output_type": "error",
     "traceback": [
      "\u001b[1;31m---------------------------------------------------------------------------\u001b[0m",
      "\u001b[1;31mKeyboardInterrupt\u001b[0m                         Traceback (most recent call last)",
      "\u001b[1;32m<ipython-input-30-3898ce1c7b7f>\u001b[0m in \u001b[0;36m<module>\u001b[1;34m\u001b[0m\n\u001b[1;32m----> 1\u001b[1;33m \u001b[0mtest_x\u001b[0m \u001b[1;33m=\u001b[0m \u001b[0mvectorizer_fin\u001b[0m\u001b[1;33m.\u001b[0m\u001b[0mfit_transform\u001b[0m\u001b[1;33m(\u001b[0m\u001b[0mtest_x\u001b[0m\u001b[1;33m)\u001b[0m\u001b[1;33m\u001b[0m\u001b[1;33m\u001b[0m\u001b[0m\n\u001b[0m",
      "\u001b[1;32mC:\\Python\\ANACONDA\\lib\\site-packages\\sklearn\\feature_extraction\\text.py\u001b[0m in \u001b[0;36mfit_transform\u001b[1;34m(self, raw_documents, y)\u001b[0m\n\u001b[0;32m   1196\u001b[0m         \u001b[0mmax_features\u001b[0m \u001b[1;33m=\u001b[0m \u001b[0mself\u001b[0m\u001b[1;33m.\u001b[0m\u001b[0mmax_features\u001b[0m\u001b[1;33m\u001b[0m\u001b[1;33m\u001b[0m\u001b[0m\n\u001b[0;32m   1197\u001b[0m \u001b[1;33m\u001b[0m\u001b[0m\n\u001b[1;32m-> 1198\u001b[1;33m         vocabulary, X = self._count_vocab(raw_documents,\n\u001b[0m\u001b[0;32m   1199\u001b[0m                                           self.fixed_vocabulary_)\n\u001b[0;32m   1200\u001b[0m \u001b[1;33m\u001b[0m\u001b[0m\n",
      "\u001b[1;32mC:\\Python\\ANACONDA\\lib\\site-packages\\sklearn\\feature_extraction\\text.py\u001b[0m in \u001b[0;36m_count_vocab\u001b[1;34m(self, raw_documents, fixed_vocab)\u001b[0m\n\u001b[0;32m   1108\u001b[0m         \u001b[1;32mfor\u001b[0m \u001b[0mdoc\u001b[0m \u001b[1;32min\u001b[0m \u001b[0mraw_documents\u001b[0m\u001b[1;33m:\u001b[0m\u001b[1;33m\u001b[0m\u001b[1;33m\u001b[0m\u001b[0m\n\u001b[0;32m   1109\u001b[0m             \u001b[0mfeature_counter\u001b[0m \u001b[1;33m=\u001b[0m \u001b[1;33m{\u001b[0m\u001b[1;33m}\u001b[0m\u001b[1;33m\u001b[0m\u001b[1;33m\u001b[0m\u001b[0m\n\u001b[1;32m-> 1110\u001b[1;33m             \u001b[1;32mfor\u001b[0m \u001b[0mfeature\u001b[0m \u001b[1;32min\u001b[0m \u001b[0manalyze\u001b[0m\u001b[1;33m(\u001b[0m\u001b[0mdoc\u001b[0m\u001b[1;33m)\u001b[0m\u001b[1;33m:\u001b[0m\u001b[1;33m\u001b[0m\u001b[1;33m\u001b[0m\u001b[0m\n\u001b[0m\u001b[0;32m   1111\u001b[0m                 \u001b[1;32mtry\u001b[0m\u001b[1;33m:\u001b[0m\u001b[1;33m\u001b[0m\u001b[1;33m\u001b[0m\u001b[0m\n\u001b[0;32m   1112\u001b[0m                     \u001b[0mfeature_idx\u001b[0m \u001b[1;33m=\u001b[0m \u001b[0mvocabulary\u001b[0m\u001b[1;33m[\u001b[0m\u001b[0mfeature\u001b[0m\u001b[1;33m]\u001b[0m\u001b[1;33m\u001b[0m\u001b[1;33m\u001b[0m\u001b[0m\n",
      "\u001b[1;32mC:\\Python\\ANACONDA\\lib\\site-packages\\sklearn\\feature_extraction\\text.py\u001b[0m in \u001b[0;36m_analyze\u001b[1;34m(doc, analyzer, tokenizer, ngrams, preprocessor, decoder, stop_words)\u001b[0m\n\u001b[0;32m    104\u001b[0m             \u001b[0mdoc\u001b[0m \u001b[1;33m=\u001b[0m \u001b[0mpreprocessor\u001b[0m\u001b[1;33m(\u001b[0m\u001b[0mdoc\u001b[0m\u001b[1;33m)\u001b[0m\u001b[1;33m\u001b[0m\u001b[1;33m\u001b[0m\u001b[0m\n\u001b[0;32m    105\u001b[0m         \u001b[1;32mif\u001b[0m \u001b[0mtokenizer\u001b[0m \u001b[1;32mis\u001b[0m \u001b[1;32mnot\u001b[0m \u001b[1;32mNone\u001b[0m\u001b[1;33m:\u001b[0m\u001b[1;33m\u001b[0m\u001b[1;33m\u001b[0m\u001b[0m\n\u001b[1;32m--> 106\u001b[1;33m             \u001b[0mdoc\u001b[0m \u001b[1;33m=\u001b[0m \u001b[0mtokenizer\u001b[0m\u001b[1;33m(\u001b[0m\u001b[0mdoc\u001b[0m\u001b[1;33m)\u001b[0m\u001b[1;33m\u001b[0m\u001b[1;33m\u001b[0m\u001b[0m\n\u001b[0m\u001b[0;32m    107\u001b[0m         \u001b[1;32mif\u001b[0m \u001b[0mngrams\u001b[0m \u001b[1;32mis\u001b[0m \u001b[1;32mnot\u001b[0m \u001b[1;32mNone\u001b[0m\u001b[1;33m:\u001b[0m\u001b[1;33m\u001b[0m\u001b[1;33m\u001b[0m\u001b[0m\n\u001b[0;32m    108\u001b[0m             \u001b[1;32mif\u001b[0m \u001b[0mstop_words\u001b[0m \u001b[1;32mis\u001b[0m \u001b[1;32mnot\u001b[0m \u001b[1;32mNone\u001b[0m\u001b[1;33m:\u001b[0m\u001b[1;33m\u001b[0m\u001b[1;33m\u001b[0m\u001b[0m\n",
      "\u001b[1;32m<ipython-input-18-c5a55ef1079a>\u001b[0m in \u001b[0;36mtokenize_text\u001b[1;34m(text)\u001b[0m\n\u001b[0;32m     10\u001b[0m     tokens = [token for token in tokens \\\n\u001b[0;32m     11\u001b[0m               if token not in russian_stopwords and token.isalpha() == True]\n\u001b[1;32m---> 12\u001b[1;33m     \u001b[0mtokens\u001b[0m \u001b[1;33m=\u001b[0m \u001b[0mstemmer\u001b[0m\u001b[1;33m.\u001b[0m\u001b[0mstemWords\u001b[0m\u001b[1;33m(\u001b[0m\u001b[0mtokens\u001b[0m\u001b[1;33m)\u001b[0m\u001b[1;33m\u001b[0m\u001b[1;33m\u001b[0m\u001b[0m\n\u001b[0m\u001b[0;32m     13\u001b[0m \u001b[1;33m\u001b[0m\u001b[0m\n\u001b[0;32m     14\u001b[0m     \u001b[1;32mreturn\u001b[0m \u001b[0mtokens\u001b[0m\u001b[1;33m\u001b[0m\u001b[1;33m\u001b[0m\u001b[0m\n",
      "\u001b[1;32mC:\\Python\\ANACONDA\\lib\\site-packages\\snowballstemmer\\basestemmer.py\u001b[0m in \u001b[0;36mstemWords\u001b[1;34m(self, words)\u001b[0m\n\u001b[0;32m    321\u001b[0m \u001b[1;33m\u001b[0m\u001b[0m\n\u001b[0;32m    322\u001b[0m     \u001b[1;32mdef\u001b[0m \u001b[0mstemWords\u001b[0m\u001b[1;33m(\u001b[0m\u001b[0mself\u001b[0m\u001b[1;33m,\u001b[0m \u001b[0mwords\u001b[0m\u001b[1;33m)\u001b[0m\u001b[1;33m:\u001b[0m\u001b[1;33m\u001b[0m\u001b[1;33m\u001b[0m\u001b[0m\n\u001b[1;32m--> 323\u001b[1;33m         \u001b[1;32mreturn\u001b[0m \u001b[1;33m[\u001b[0m\u001b[0mself\u001b[0m\u001b[1;33m.\u001b[0m\u001b[0mstemWord\u001b[0m\u001b[1;33m(\u001b[0m\u001b[0mword\u001b[0m\u001b[1;33m)\u001b[0m \u001b[1;32mfor\u001b[0m \u001b[0mword\u001b[0m \u001b[1;32min\u001b[0m \u001b[0mwords\u001b[0m\u001b[1;33m]\u001b[0m\u001b[1;33m\u001b[0m\u001b[1;33m\u001b[0m\u001b[0m\n\u001b[0m",
      "\u001b[1;32mC:\\Python\\ANACONDA\\lib\\site-packages\\snowballstemmer\\basestemmer.py\u001b[0m in \u001b[0;36m<listcomp>\u001b[1;34m(.0)\u001b[0m\n\u001b[0;32m    321\u001b[0m \u001b[1;33m\u001b[0m\u001b[0m\n\u001b[0;32m    322\u001b[0m     \u001b[1;32mdef\u001b[0m \u001b[0mstemWords\u001b[0m\u001b[1;33m(\u001b[0m\u001b[0mself\u001b[0m\u001b[1;33m,\u001b[0m \u001b[0mwords\u001b[0m\u001b[1;33m)\u001b[0m\u001b[1;33m:\u001b[0m\u001b[1;33m\u001b[0m\u001b[1;33m\u001b[0m\u001b[0m\n\u001b[1;32m--> 323\u001b[1;33m         \u001b[1;32mreturn\u001b[0m \u001b[1;33m[\u001b[0m\u001b[0mself\u001b[0m\u001b[1;33m.\u001b[0m\u001b[0mstemWord\u001b[0m\u001b[1;33m(\u001b[0m\u001b[0mword\u001b[0m\u001b[1;33m)\u001b[0m \u001b[1;32mfor\u001b[0m \u001b[0mword\u001b[0m \u001b[1;32min\u001b[0m \u001b[0mwords\u001b[0m\u001b[1;33m]\u001b[0m\u001b[1;33m\u001b[0m\u001b[1;33m\u001b[0m\u001b[0m\n\u001b[0m",
      "\u001b[1;32mC:\\Python\\ANACONDA\\lib\\site-packages\\snowballstemmer\\basestemmer.py\u001b[0m in \u001b[0;36mstemWord\u001b[1;34m(self, word)\u001b[0m\n\u001b[0;32m    317\u001b[0m     \u001b[1;32mdef\u001b[0m \u001b[0mstemWord\u001b[0m\u001b[1;33m(\u001b[0m\u001b[0mself\u001b[0m\u001b[1;33m,\u001b[0m \u001b[0mword\u001b[0m\u001b[1;33m)\u001b[0m\u001b[1;33m:\u001b[0m\u001b[1;33m\u001b[0m\u001b[1;33m\u001b[0m\u001b[0m\n\u001b[0;32m    318\u001b[0m         \u001b[0mself\u001b[0m\u001b[1;33m.\u001b[0m\u001b[0mset_current\u001b[0m\u001b[1;33m(\u001b[0m\u001b[0mword\u001b[0m\u001b[1;33m)\u001b[0m\u001b[1;33m\u001b[0m\u001b[1;33m\u001b[0m\u001b[0m\n\u001b[1;32m--> 319\u001b[1;33m         \u001b[0mself\u001b[0m\u001b[1;33m.\u001b[0m\u001b[0m_stem\u001b[0m\u001b[1;33m(\u001b[0m\u001b[1;33m)\u001b[0m\u001b[1;33m\u001b[0m\u001b[1;33m\u001b[0m\u001b[0m\n\u001b[0m\u001b[0;32m    320\u001b[0m         \u001b[1;32mreturn\u001b[0m \u001b[0mself\u001b[0m\u001b[1;33m.\u001b[0m\u001b[0mget_current\u001b[0m\u001b[1;33m(\u001b[0m\u001b[1;33m)\u001b[0m\u001b[1;33m\u001b[0m\u001b[1;33m\u001b[0m\u001b[0m\n\u001b[0;32m    321\u001b[0m \u001b[1;33m\u001b[0m\u001b[0m\n",
      "\u001b[1;32mC:\\Python\\ANACONDA\\lib\\site-packages\\snowballstemmer\\russian_stemmer.py\u001b[0m in \u001b[0;36m_stem\u001b[1;34m(self)\u001b[0m\n\u001b[0;32m    535\u001b[0m                     \u001b[1;32mtry\u001b[0m\u001b[1;33m:\u001b[0m\u001b[1;33m\u001b[0m\u001b[1;33m\u001b[0m\u001b[0m\n\u001b[0;32m    536\u001b[0m                         \u001b[1;31m# call verb, line 212\u001b[0m\u001b[1;33m\u001b[0m\u001b[1;33m\u001b[0m\u001b[1;33m\u001b[0m\u001b[0m\n\u001b[1;32m--> 537\u001b[1;33m                         \u001b[1;32mif\u001b[0m \u001b[1;32mnot\u001b[0m \u001b[0mself\u001b[0m\u001b[1;33m.\u001b[0m\u001b[0m__r_verb\u001b[0m\u001b[1;33m(\u001b[0m\u001b[1;33m)\u001b[0m\u001b[1;33m:\u001b[0m\u001b[1;33m\u001b[0m\u001b[1;33m\u001b[0m\u001b[0m\n\u001b[0m\u001b[0;32m    538\u001b[0m                             \u001b[1;32mraise\u001b[0m \u001b[0mlab10\u001b[0m\u001b[1;33m(\u001b[0m\u001b[1;33m)\u001b[0m\u001b[1;33m\u001b[0m\u001b[1;33m\u001b[0m\u001b[0m\n\u001b[0;32m    539\u001b[0m                         \u001b[1;32mraise\u001b[0m \u001b[0mlab8\u001b[0m\u001b[1;33m(\u001b[0m\u001b[1;33m)\u001b[0m\u001b[1;33m\u001b[0m\u001b[1;33m\u001b[0m\u001b[0m\n",
      "\u001b[1;32mC:\\Python\\ANACONDA\\lib\\site-packages\\snowballstemmer\\russian_stemmer.py\u001b[0m in \u001b[0;36m__r_verb\u001b[1;34m(self)\u001b[0m\n\u001b[0;32m    333\u001b[0m         \u001b[0mself\u001b[0m\u001b[1;33m.\u001b[0m\u001b[0mket\u001b[0m \u001b[1;33m=\u001b[0m \u001b[0mself\u001b[0m\u001b[1;33m.\u001b[0m\u001b[0mcursor\u001b[0m\u001b[1;33m\u001b[0m\u001b[1;33m\u001b[0m\u001b[0m\n\u001b[0;32m    334\u001b[0m         \u001b[1;31m# substring, line 139\u001b[0m\u001b[1;33m\u001b[0m\u001b[1;33m\u001b[0m\u001b[1;33m\u001b[0m\u001b[0m\n\u001b[1;32m--> 335\u001b[1;33m         \u001b[0mamong_var\u001b[0m \u001b[1;33m=\u001b[0m \u001b[0mself\u001b[0m\u001b[1;33m.\u001b[0m\u001b[0mfind_among_b\u001b[0m\u001b[1;33m(\u001b[0m\u001b[0mRussianStemmer\u001b[0m\u001b[1;33m.\u001b[0m\u001b[0ma_4\u001b[0m\u001b[1;33m)\u001b[0m\u001b[1;33m\u001b[0m\u001b[1;33m\u001b[0m\u001b[0m\n\u001b[0m\u001b[0;32m    336\u001b[0m         \u001b[1;32mif\u001b[0m \u001b[0mamong_var\u001b[0m \u001b[1;33m==\u001b[0m \u001b[1;36m0\u001b[0m\u001b[1;33m:\u001b[0m\u001b[1;33m\u001b[0m\u001b[1;33m\u001b[0m\u001b[0m\n\u001b[0;32m    337\u001b[0m             \u001b[1;32mreturn\u001b[0m \u001b[1;32mFalse\u001b[0m\u001b[1;33m\u001b[0m\u001b[1;33m\u001b[0m\u001b[0m\n",
      "\u001b[1;32mC:\\Python\\ANACONDA\\lib\\site-packages\\snowballstemmer\\basestemmer.py\u001b[0m in \u001b[0;36mfind_among_b\u001b[1;34m(self, v)\u001b[0m\n\u001b[0;32m    213\u001b[0m             \u001b[0mdiff\u001b[0m \u001b[1;33m=\u001b[0m \u001b[1;36m0\u001b[0m\u001b[1;33m\u001b[0m\u001b[1;33m\u001b[0m\u001b[0m\n\u001b[0;32m    214\u001b[0m             \u001b[0mcommon\u001b[0m \u001b[1;33m=\u001b[0m \u001b[0mmin\u001b[0m\u001b[1;33m(\u001b[0m\u001b[0mcommon_i\u001b[0m\u001b[1;33m,\u001b[0m \u001b[0mcommon_j\u001b[0m\u001b[1;33m)\u001b[0m\u001b[1;33m\u001b[0m\u001b[1;33m\u001b[0m\u001b[0m\n\u001b[1;32m--> 215\u001b[1;33m             \u001b[0mw\u001b[0m \u001b[1;33m=\u001b[0m \u001b[0mv\u001b[0m\u001b[1;33m[\u001b[0m\u001b[0mk\u001b[0m\u001b[1;33m]\u001b[0m\u001b[1;33m\u001b[0m\u001b[1;33m\u001b[0m\u001b[0m\n\u001b[0m\u001b[0;32m    216\u001b[0m             \u001b[1;32mfor\u001b[0m \u001b[0mi2\u001b[0m \u001b[1;32min\u001b[0m \u001b[0mrange\u001b[0m\u001b[1;33m(\u001b[0m\u001b[0mlen\u001b[0m\u001b[1;33m(\u001b[0m\u001b[0mw\u001b[0m\u001b[1;33m.\u001b[0m\u001b[0ms\u001b[0m\u001b[1;33m)\u001b[0m \u001b[1;33m-\u001b[0m \u001b[1;36m1\u001b[0m \u001b[1;33m-\u001b[0m \u001b[0mcommon\u001b[0m\u001b[1;33m,\u001b[0m \u001b[1;33m-\u001b[0m\u001b[1;36m1\u001b[0m\u001b[1;33m,\u001b[0m \u001b[1;33m-\u001b[0m\u001b[1;36m1\u001b[0m\u001b[1;33m)\u001b[0m\u001b[1;33m:\u001b[0m\u001b[1;33m\u001b[0m\u001b[1;33m\u001b[0m\u001b[0m\n\u001b[0;32m    217\u001b[0m                 \u001b[1;32mif\u001b[0m \u001b[0mc\u001b[0m \u001b[1;33m-\u001b[0m \u001b[0mcommon\u001b[0m \u001b[1;33m==\u001b[0m \u001b[0mlb\u001b[0m\u001b[1;33m:\u001b[0m\u001b[1;33m\u001b[0m\u001b[1;33m\u001b[0m\u001b[0m\n",
      "\u001b[1;31mKeyboardInterrupt\u001b[0m: "
     ]
    }
   ],
   "source": [
    "test_x = vectorizer_fin.fit_transform(test_x)"
   ]
  },
  {
   "cell_type": "code",
   "execution_count": null,
   "metadata": {},
   "outputs": [],
   "source": [
    "clf = SGDClassifier()\n",
    "clf.fit(train_x, train_y)"
   ]
  },
  {
   "cell_type": "code",
   "execution_count": null,
   "metadata": {},
   "outputs": [],
   "source": [
    "y_predict = clf.predict()"
   ]
  },
  {
   "cell_type": "code",
   "execution_count": null,
   "metadata": {},
   "outputs": [],
   "source": []
  }
 ],
 "metadata": {
  "kernelspec": {
   "display_name": "Python 3",
   "language": "python",
   "name": "python3"
  },
  "language_info": {
   "codemirror_mode": {
    "name": "ipython",
    "version": 3
   },
   "file_extension": ".py",
   "mimetype": "text/x-python",
   "name": "python",
   "nbconvert_exporter": "python",
   "pygments_lexer": "ipython3",
   "version": "3.8.5"
  }
 },
 "nbformat": 4,
 "nbformat_minor": 2
}
