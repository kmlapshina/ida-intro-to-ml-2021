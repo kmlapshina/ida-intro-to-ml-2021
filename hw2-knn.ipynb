{
 "cells": [
  {
   "cell_type": "markdown",
   "metadata": {},
   "source": [
    "# Домашнее задание 2. По чуть-чуть про pandas, sklearn, kNN"
   ]
  },
  {
   "cell_type": "markdown",
   "metadata": {},
   "source": [
    "В этом задании вы в миниатюре пройдете цикл решения задачи анализа данных от предобработки данных до построения модели и оценки качества. Вы будете решать задачу кредитного скоринга (вернет клиент кредит или нет) на примере небольшой выборки данных. \n",
    "\n",
    "В процессе решения задания вы поближе познакомитесь с библиотеками pandas, sklearn и тем, как работают классы в python, а также немного вспомните numpy, самостоятельно реализовав 1NN (это очень просто, потому что сам алгоритм очень простой).\n",
    "\n",
    "Все задачи нужно выполнять исключительно самостоятельно! Если что-то непонятно, задавайте вопросы в чате. При обнаружении списывания ноль за задание ставится и тому, кто списал, и тому, у кого списали.\n",
    "\n",
    "Также во всем задании запрещено использование циклов (исключение - второе бонусное задание)! Все операции необходимо выполнять средствами numpy, pandas и sklearn.\n",
    "\n",
    "Разделение выборки на обучение и контроль производится случайно (если только вы не указали конкретный random_state), поэтому результаты при разных запусках ноутбука могут получаться разные.\n",
    "\n",
    "Считывание данных уже сделано:"
   ]
  },
  {
   "cell_type": "code",
   "execution_count": 1,
   "metadata": {},
   "outputs": [],
   "source": [
    "import numpy as np\n",
    "import pandas as pd"
   ]
  },
  {
   "cell_type": "code",
   "execution_count": 2,
   "metadata": {},
   "outputs": [],
   "source": [
    "tab = pd.read_csv(\"https://raw.githubusercontent.com/nadiinchi/iad2019/master/materials/scoring.csv\")"
   ]
  },
  {
   "cell_type": "markdown",
   "metadata": {},
   "source": [
    "Выведите первые несколько строчек датасета, посмотрите названия колонок:"
   ]
  },
  {
   "cell_type": "code",
   "execution_count": 3,
   "metadata": {},
   "outputs": [
    {
     "data": {
      "text/html": [
       "<div>\n",
       "<style scoped>\n",
       "    .dataframe tbody tr th:only-of-type {\n",
       "        vertical-align: middle;\n",
       "    }\n",
       "\n",
       "    .dataframe tbody tr th {\n",
       "        vertical-align: top;\n",
       "    }\n",
       "\n",
       "    .dataframe thead th {\n",
       "        text-align: right;\n",
       "    }\n",
       "</style>\n",
       "<table border=\"1\" class=\"dataframe\">\n",
       "  <thead>\n",
       "    <tr style=\"text-align: right;\">\n",
       "      <th></th>\n",
       "      <th>account</th>\n",
       "      <th>duration</th>\n",
       "      <th>credit_history</th>\n",
       "      <th>purpose</th>\n",
       "      <th>amount</th>\n",
       "      <th>savings</th>\n",
       "      <th>employment</th>\n",
       "      <th>installment_rate</th>\n",
       "      <th>guarantors</th>\n",
       "      <th>residence</th>\n",
       "      <th>...</th>\n",
       "      <th>job</th>\n",
       "      <th>maintenance_people</th>\n",
       "      <th>telephone</th>\n",
       "      <th>foreign</th>\n",
       "      <th>real_estate</th>\n",
       "      <th>life_insurance</th>\n",
       "      <th>car</th>\n",
       "      <th>housing_rent</th>\n",
       "      <th>sex</th>\n",
       "      <th>target</th>\n",
       "    </tr>\n",
       "  </thead>\n",
       "  <tbody>\n",
       "    <tr>\n",
       "      <th>0</th>\n",
       "      <td>0</td>\n",
       "      <td>18</td>\n",
       "      <td>4</td>\n",
       "      <td>furniture</td>\n",
       "      <td>3780</td>\n",
       "      <td>1</td>\n",
       "      <td>1</td>\n",
       "      <td>3</td>\n",
       "      <td>1</td>\n",
       "      <td>2</td>\n",
       "      <td>...</td>\n",
       "      <td>3</td>\n",
       "      <td>1</td>\n",
       "      <td>1</td>\n",
       "      <td>yes</td>\n",
       "      <td>0</td>\n",
       "      <td>0</td>\n",
       "      <td>1</td>\n",
       "      <td>0</td>\n",
       "      <td>male</td>\n",
       "      <td>1</td>\n",
       "    </tr>\n",
       "    <tr>\n",
       "      <th>1</th>\n",
       "      <td>1</td>\n",
       "      <td>24</td>\n",
       "      <td>2</td>\n",
       "      <td>car_new</td>\n",
       "      <td>1246</td>\n",
       "      <td>1</td>\n",
       "      <td>1</td>\n",
       "      <td>4</td>\n",
       "      <td>1</td>\n",
       "      <td>2</td>\n",
       "      <td>...</td>\n",
       "      <td>1</td>\n",
       "      <td>1</td>\n",
       "      <td>0</td>\n",
       "      <td>yes</td>\n",
       "      <td>1</td>\n",
       "      <td>0</td>\n",
       "      <td>0</td>\n",
       "      <td>0</td>\n",
       "      <td>male</td>\n",
       "      <td>0</td>\n",
       "    </tr>\n",
       "    <tr>\n",
       "      <th>2</th>\n",
       "      <td>0</td>\n",
       "      <td>15</td>\n",
       "      <td>2</td>\n",
       "      <td>car_used</td>\n",
       "      <td>3029</td>\n",
       "      <td>1</td>\n",
       "      <td>3</td>\n",
       "      <td>2</td>\n",
       "      <td>1</td>\n",
       "      <td>2</td>\n",
       "      <td>...</td>\n",
       "      <td>2</td>\n",
       "      <td>1</td>\n",
       "      <td>0</td>\n",
       "      <td>yes</td>\n",
       "      <td>0</td>\n",
       "      <td>0</td>\n",
       "      <td>1</td>\n",
       "      <td>0</td>\n",
       "      <td>male</td>\n",
       "      <td>1</td>\n",
       "    </tr>\n",
       "    <tr>\n",
       "      <th>3</th>\n",
       "      <td>0</td>\n",
       "      <td>36</td>\n",
       "      <td>3</td>\n",
       "      <td>television</td>\n",
       "      <td>4463</td>\n",
       "      <td>1</td>\n",
       "      <td>2</td>\n",
       "      <td>4</td>\n",
       "      <td>1</td>\n",
       "      <td>2</td>\n",
       "      <td>...</td>\n",
       "      <td>3</td>\n",
       "      <td>1</td>\n",
       "      <td>1</td>\n",
       "      <td>yes</td>\n",
       "      <td>0</td>\n",
       "      <td>0</td>\n",
       "      <td>1</td>\n",
       "      <td>0</td>\n",
       "      <td>male</td>\n",
       "      <td>0</td>\n",
       "    </tr>\n",
       "    <tr>\n",
       "      <th>4</th>\n",
       "      <td>-1</td>\n",
       "      <td>27</td>\n",
       "      <td>2</td>\n",
       "      <td>television</td>\n",
       "      <td>3416</td>\n",
       "      <td>1</td>\n",
       "      <td>2</td>\n",
       "      <td>3</td>\n",
       "      <td>1</td>\n",
       "      <td>2</td>\n",
       "      <td>...</td>\n",
       "      <td>3</td>\n",
       "      <td>1</td>\n",
       "      <td>0</td>\n",
       "      <td>yes</td>\n",
       "      <td>0</td>\n",
       "      <td>0</td>\n",
       "      <td>1</td>\n",
       "      <td>0</td>\n",
       "      <td>male</td>\n",
       "      <td>1</td>\n",
       "    </tr>\n",
       "  </tbody>\n",
       "</table>\n",
       "<p>5 rows × 22 columns</p>\n",
       "</div>"
      ],
      "text/plain": [
       "   account  duration  credit_history     purpose  amount  savings  employment  \\\n",
       "0        0        18               4   furniture    3780        1           1   \n",
       "1        1        24               2     car_new    1246        1           1   \n",
       "2        0        15               2    car_used    3029        1           3   \n",
       "3        0        36               3  television    4463        1           2   \n",
       "4       -1        27               2  television    3416        1           2   \n",
       "\n",
       "   installment_rate  guarantors  residence  ...  job  maintenance_people  \\\n",
       "0                 3           1          2  ...    3                   1   \n",
       "1                 4           1          2  ...    1                   1   \n",
       "2                 2           1          2  ...    2                   1   \n",
       "3                 4           1          2  ...    3                   1   \n",
       "4                 3           1          2  ...    3                   1   \n",
       "\n",
       "   telephone  foreign  real_estate life_insurance  car  housing_rent   sex  \\\n",
       "0          1      yes            0              0    1             0  male   \n",
       "1          0      yes            1              0    0             0  male   \n",
       "2          0      yes            0              0    1             0  male   \n",
       "3          1      yes            0              0    1             0  male   \n",
       "4          0      yes            0              0    1             0  male   \n",
       "\n",
       "   target  \n",
       "0       1  \n",
       "1       0  \n",
       "2       1  \n",
       "3       0  \n",
       "4       1  \n",
       "\n",
       "[5 rows x 22 columns]"
      ]
     },
     "execution_count": 3,
     "metadata": {},
     "output_type": "execute_result"
    }
   ],
   "source": [
    "tab.head()"
   ]
  },
  {
   "cell_type": "markdown",
   "metadata": {},
   "source": [
    "Сначала несколько вопросов просто так:\n",
    "    \n",
    " __[0.5 балла]__ Какой процент клиентов моложе 30 лет (колонка age) снимает жилье (колонка housing_rent)? А какой процент клиентов старше 40 лет снимает жилье?"
   ]
  },
  {
   "cell_type": "code",
   "execution_count": 4,
   "metadata": {},
   "outputs": [
    {
     "name": "stdout",
     "output_type": "stream",
     "text": [
      "12.166666666666668% клиентов моложе 30 лет снимают жилье\n",
      "2.5% клиентов страше 40 лет снимают жилье\n"
     ]
    }
   ],
   "source": [
    "num = tab.shape[0]\n",
    "\n",
    "crit1 = tab.age < 30\n",
    "crit2 = tab.age > 40\n",
    "rent = tab.housing_rent == 1\n",
    "\n",
    "ans = tab.loc[crit1 & rent].shape[0]\n",
    "print(ans/num*100, '% клиентов моложе 30 лет снимают жилье', sep='')\n",
    "\n",
    "ans = tab.loc[crit2 & rent].shape[0]\n",
    "print(ans/num*100, '% клиентов страше 40 лет снимают жилье', sep='')"
   ]
  },
  {
   "cell_type": "markdown",
   "metadata": {},
   "source": [
    " __[0.5 балла]__ У скольких иностранцев (foreign == 'yes') число кредитов (credits_number) больше 2?"
   ]
  },
  {
   "cell_type": "code",
   "execution_count": 5,
   "metadata": {},
   "outputs": [
    {
     "name": "stdout",
     "output_type": "stream",
     "text": [
      "Ответ: 19\n"
     ]
    }
   ],
   "source": [
    "ans = tab.loc[(tab.foreign == 'yes') & (tab.credits_number > 2)].shape[0]\n",
    "print('Ответ:', ans)"
   ]
  },
  {
   "cell_type": "markdown",
   "metadata": {},
   "source": [
    " __[0.5 балла]__ Выведите колонки job, life_insurance и guarantors для клиентов с номерами 105, 158, 306 и 336 одной таблицей (воспользуйтесь индексацией):"
   ]
  },
  {
   "cell_type": "code",
   "execution_count": 6,
   "metadata": {},
   "outputs": [
    {
     "data": {
      "text/html": [
       "<div>\n",
       "<style scoped>\n",
       "    .dataframe tbody tr th:only-of-type {\n",
       "        vertical-align: middle;\n",
       "    }\n",
       "\n",
       "    .dataframe tbody tr th {\n",
       "        vertical-align: top;\n",
       "    }\n",
       "\n",
       "    .dataframe thead th {\n",
       "        text-align: right;\n",
       "    }\n",
       "</style>\n",
       "<table border=\"1\" class=\"dataframe\">\n",
       "  <thead>\n",
       "    <tr style=\"text-align: right;\">\n",
       "      <th></th>\n",
       "      <th>job</th>\n",
       "      <th>life_insurance</th>\n",
       "      <th>guarantors</th>\n",
       "    </tr>\n",
       "  </thead>\n",
       "  <tbody>\n",
       "    <tr>\n",
       "      <th>105</th>\n",
       "      <td>2</td>\n",
       "      <td>1</td>\n",
       "      <td>1</td>\n",
       "    </tr>\n",
       "    <tr>\n",
       "      <th>158</th>\n",
       "      <td>2</td>\n",
       "      <td>0</td>\n",
       "      <td>1</td>\n",
       "    </tr>\n",
       "    <tr>\n",
       "      <th>306</th>\n",
       "      <td>3</td>\n",
       "      <td>0</td>\n",
       "      <td>0</td>\n",
       "    </tr>\n",
       "    <tr>\n",
       "      <th>336</th>\n",
       "      <td>2</td>\n",
       "      <td>1</td>\n",
       "      <td>1</td>\n",
       "    </tr>\n",
       "  </tbody>\n",
       "</table>\n",
       "</div>"
      ],
      "text/plain": [
       "     job  life_insurance  guarantors\n",
       "105    2               1           1\n",
       "158    2               0           1\n",
       "306    3               0           0\n",
       "336    2               1           1"
      ]
     },
     "execution_count": 6,
     "metadata": {},
     "output_type": "execute_result"
    }
   ],
   "source": [
    "tab[['job', 'life_insurance', 'guarantors']].loc[[105, 158, 306, 336]]"
   ]
  },
  {
   "cell_type": "markdown",
   "metadata": {},
   "source": [
    " __[0.5 балла]__ Выведите среднюю сумму кредита (колонка amount) в каждой категории (колонка purpose), воспользовавшись методом groupby:"
   ]
  },
  {
   "cell_type": "code",
   "execution_count": 7,
   "metadata": {},
   "outputs": [
    {
     "data": {
      "text/plain": [
       "purpose\n",
       "business               4405.098361\n",
       "car_new                3156.796178\n",
       "car_used               5690.403509\n",
       "domestic_appliances    1307.875000\n",
       "education              3276.258065\n",
       "furniture              3312.677966\n",
       "others                 8681.700000\n",
       "repairs                2792.769231\n",
       "retraining             1156.000000\n",
       "television             2554.237762\n",
       "Name: amount, dtype: float64"
      ]
     },
     "execution_count": 7,
     "metadata": {},
     "output_type": "execute_result"
    }
   ],
   "source": [
    "tab.groupby(tab.purpose).aggregate(np.mean).amount"
   ]
  },
  {
   "cell_type": "markdown",
   "metadata": {},
   "source": [
    "Теперь по существу: нужно подготовить данные к построению модели."
   ]
  },
  {
   "cell_type": "markdown",
   "metadata": {},
   "source": [
    " __[0.5 балла]__ Как вы видите, не все данные являются числовыми. С признаком purpose мы работать не будем - удалите его из датафрейма:"
   ]
  },
  {
   "cell_type": "code",
   "execution_count": 8,
   "metadata": {},
   "outputs": [],
   "source": [
    "df = tab.copy()\n",
    "df = df[df.columns.drop('purpose')]"
   ]
  },
  {
   "cell_type": "code",
   "execution_count": 9,
   "metadata": {},
   "outputs": [
    {
     "data": {
      "text/plain": [
       "21"
      ]
     },
     "execution_count": 9,
     "metadata": {},
     "output_type": "execute_result"
    }
   ],
   "source": [
    "df.shape[1] # сттолбец удалился"
   ]
  },
  {
   "cell_type": "markdown",
   "metadata": {},
   "source": [
    " __[0.5 балла]__ Необходимо перекодировать оставшиеся строковые значения в числа (закодировать пол female->0 и male->1 и колонку foreign числами yes->1 и no->0). Сделайте это с помощью pandas (без циклов, конечно же):"
   ]
  },
  {
   "cell_type": "code",
   "execution_count": 10,
   "metadata": {},
   "outputs": [],
   "source": [
    "df.loc[(df.sex == 'female'),'sex'] = 0\n",
    "df.loc[(df.sex == 'male'),'sex'] = 1\n",
    "\n",
    "df.loc[(df.foreign == 'yes'),'foreign'] = 1\n",
    "df.loc[(df.foreign == 'no'),'foreign'] = 0"
   ]
  },
  {
   "cell_type": "markdown",
   "metadata": {},
   "source": [
    " __[0.5 балла]__ Целевая переменная хранится в колонке target (последняя колонка). Являются ли классы сбалансированными (одинаковое число 0 и 1)? Воспользуйтесь методом [value_counts](https://pandas.pydata.org/pandas-docs/stable/reference/api/pandas.Series.value_counts.html).\n",
    " \n",
    " **Ответ:** классы сбалансированы, число 0 и 1 одинаковое (300 и 300)"
   ]
  },
  {
   "cell_type": "code",
   "execution_count": 11,
   "metadata": {},
   "outputs": [
    {
     "data": {
      "text/plain": [
       "1    300\n",
       "0    300\n",
       "Name: target, dtype: int64"
      ]
     },
     "execution_count": 11,
     "metadata": {},
     "output_type": "execute_result"
    }
   ],
   "source": [
    "df.target.value_counts()"
   ]
  },
  {
   "cell_type": "markdown",
   "metadata": {},
   "source": [
    "Выведем статистику датасета:"
   ]
  },
  {
   "cell_type": "code",
   "execution_count": 12,
   "metadata": {},
   "outputs": [
    {
     "data": {
      "text/html": [
       "<div>\n",
       "<style scoped>\n",
       "    .dataframe tbody tr th:only-of-type {\n",
       "        vertical-align: middle;\n",
       "    }\n",
       "\n",
       "    .dataframe tbody tr th {\n",
       "        vertical-align: top;\n",
       "    }\n",
       "\n",
       "    .dataframe thead th {\n",
       "        text-align: right;\n",
       "    }\n",
       "</style>\n",
       "<table border=\"1\" class=\"dataframe\">\n",
       "  <thead>\n",
       "    <tr style=\"text-align: right;\">\n",
       "      <th></th>\n",
       "      <th>account</th>\n",
       "      <th>duration</th>\n",
       "      <th>credit_history</th>\n",
       "      <th>amount</th>\n",
       "      <th>savings</th>\n",
       "      <th>employment</th>\n",
       "      <th>installment_rate</th>\n",
       "      <th>guarantors</th>\n",
       "      <th>residence</th>\n",
       "      <th>age</th>\n",
       "      <th>credits_number</th>\n",
       "      <th>job</th>\n",
       "      <th>maintenance_people</th>\n",
       "      <th>telephone</th>\n",
       "      <th>real_estate</th>\n",
       "      <th>life_insurance</th>\n",
       "      <th>car</th>\n",
       "      <th>housing_rent</th>\n",
       "      <th>target</th>\n",
       "    </tr>\n",
       "  </thead>\n",
       "  <tbody>\n",
       "    <tr>\n",
       "      <th>count</th>\n",
       "      <td>600.000000</td>\n",
       "      <td>600.000000</td>\n",
       "      <td>600.000000</td>\n",
       "      <td>600.000000</td>\n",
       "      <td>600.000000</td>\n",
       "      <td>600.000000</td>\n",
       "      <td>600.000000</td>\n",
       "      <td>600.000000</td>\n",
       "      <td>600.000000</td>\n",
       "      <td>600.000000</td>\n",
       "      <td>600.000000</td>\n",
       "      <td>600.000000</td>\n",
       "      <td>600.000000</td>\n",
       "      <td>600.000000</td>\n",
       "      <td>600.000000</td>\n",
       "      <td>600.000000</td>\n",
       "      <td>600.000000</td>\n",
       "      <td>600.000000</td>\n",
       "      <td>600.000000</td>\n",
       "    </tr>\n",
       "    <tr>\n",
       "      <th>mean</th>\n",
       "      <td>0.083333</td>\n",
       "      <td>21.878333</td>\n",
       "      <td>2.410000</td>\n",
       "      <td>3470.491667</td>\n",
       "      <td>1.200000</td>\n",
       "      <td>2.348333</td>\n",
       "      <td>2.988333</td>\n",
       "      <td>0.901667</td>\n",
       "      <td>2.831667</td>\n",
       "      <td>35.181667</td>\n",
       "      <td>1.366667</td>\n",
       "      <td>1.906667</td>\n",
       "      <td>1.150000</td>\n",
       "      <td>0.391667</td>\n",
       "      <td>0.268333</td>\n",
       "      <td>0.205000</td>\n",
       "      <td>0.343333</td>\n",
       "      <td>0.186667</td>\n",
       "      <td>0.500000</td>\n",
       "    </tr>\n",
       "    <tr>\n",
       "      <th>std</th>\n",
       "      <td>0.915306</td>\n",
       "      <td>12.749161</td>\n",
       "      <td>1.098747</td>\n",
       "      <td>3090.052187</td>\n",
       "      <td>0.924531</td>\n",
       "      <td>1.208069</td>\n",
       "      <td>1.131517</td>\n",
       "      <td>0.298013</td>\n",
       "      <td>1.103945</td>\n",
       "      <td>11.416182</td>\n",
       "      <td>0.565174</td>\n",
       "      <td>0.662334</td>\n",
       "      <td>0.357369</td>\n",
       "      <td>0.488530</td>\n",
       "      <td>0.443462</td>\n",
       "      <td>0.404038</td>\n",
       "      <td>0.475218</td>\n",
       "      <td>0.389969</td>\n",
       "      <td>0.500417</td>\n",
       "    </tr>\n",
       "    <tr>\n",
       "      <th>min</th>\n",
       "      <td>-1.000000</td>\n",
       "      <td>4.000000</td>\n",
       "      <td>0.000000</td>\n",
       "      <td>250.000000</td>\n",
       "      <td>0.000000</td>\n",
       "      <td>0.000000</td>\n",
       "      <td>1.000000</td>\n",
       "      <td>0.000000</td>\n",
       "      <td>1.000000</td>\n",
       "      <td>19.000000</td>\n",
       "      <td>1.000000</td>\n",
       "      <td>0.000000</td>\n",
       "      <td>1.000000</td>\n",
       "      <td>0.000000</td>\n",
       "      <td>0.000000</td>\n",
       "      <td>0.000000</td>\n",
       "      <td>0.000000</td>\n",
       "      <td>0.000000</td>\n",
       "      <td>0.000000</td>\n",
       "    </tr>\n",
       "    <tr>\n",
       "      <th>25%</th>\n",
       "      <td>-1.000000</td>\n",
       "      <td>12.000000</td>\n",
       "      <td>2.000000</td>\n",
       "      <td>1363.250000</td>\n",
       "      <td>1.000000</td>\n",
       "      <td>2.000000</td>\n",
       "      <td>2.000000</td>\n",
       "      <td>1.000000</td>\n",
       "      <td>2.000000</td>\n",
       "      <td>26.000000</td>\n",
       "      <td>1.000000</td>\n",
       "      <td>2.000000</td>\n",
       "      <td>1.000000</td>\n",
       "      <td>0.000000</td>\n",
       "      <td>0.000000</td>\n",
       "      <td>0.000000</td>\n",
       "      <td>0.000000</td>\n",
       "      <td>0.000000</td>\n",
       "      <td>0.000000</td>\n",
       "    </tr>\n",
       "    <tr>\n",
       "      <th>50%</th>\n",
       "      <td>0.000000</td>\n",
       "      <td>18.000000</td>\n",
       "      <td>2.000000</td>\n",
       "      <td>2347.000000</td>\n",
       "      <td>1.000000</td>\n",
       "      <td>2.000000</td>\n",
       "      <td>3.000000</td>\n",
       "      <td>1.000000</td>\n",
       "      <td>3.000000</td>\n",
       "      <td>33.000000</td>\n",
       "      <td>1.000000</td>\n",
       "      <td>2.000000</td>\n",
       "      <td>1.000000</td>\n",
       "      <td>0.000000</td>\n",
       "      <td>0.000000</td>\n",
       "      <td>0.000000</td>\n",
       "      <td>0.000000</td>\n",
       "      <td>0.000000</td>\n",
       "      <td>0.500000</td>\n",
       "    </tr>\n",
       "    <tr>\n",
       "      <th>75%</th>\n",
       "      <td>1.000000</td>\n",
       "      <td>27.000000</td>\n",
       "      <td>4.000000</td>\n",
       "      <td>4318.750000</td>\n",
       "      <td>1.000000</td>\n",
       "      <td>3.000000</td>\n",
       "      <td>4.000000</td>\n",
       "      <td>1.000000</td>\n",
       "      <td>4.000000</td>\n",
       "      <td>41.000000</td>\n",
       "      <td>2.000000</td>\n",
       "      <td>2.000000</td>\n",
       "      <td>1.000000</td>\n",
       "      <td>1.000000</td>\n",
       "      <td>1.000000</td>\n",
       "      <td>0.000000</td>\n",
       "      <td>1.000000</td>\n",
       "      <td>0.000000</td>\n",
       "      <td>1.000000</td>\n",
       "    </tr>\n",
       "    <tr>\n",
       "      <th>max</th>\n",
       "      <td>2.000000</td>\n",
       "      <td>72.000000</td>\n",
       "      <td>4.000000</td>\n",
       "      <td>18424.000000</td>\n",
       "      <td>4.000000</td>\n",
       "      <td>4.000000</td>\n",
       "      <td>4.000000</td>\n",
       "      <td>1.000000</td>\n",
       "      <td>4.000000</td>\n",
       "      <td>75.000000</td>\n",
       "      <td>4.000000</td>\n",
       "      <td>3.000000</td>\n",
       "      <td>2.000000</td>\n",
       "      <td>1.000000</td>\n",
       "      <td>1.000000</td>\n",
       "      <td>1.000000</td>\n",
       "      <td>1.000000</td>\n",
       "      <td>1.000000</td>\n",
       "      <td>1.000000</td>\n",
       "    </tr>\n",
       "  </tbody>\n",
       "</table>\n",
       "</div>"
      ],
      "text/plain": [
       "          account    duration  credit_history        amount     savings  \\\n",
       "count  600.000000  600.000000      600.000000    600.000000  600.000000   \n",
       "mean     0.083333   21.878333        2.410000   3470.491667    1.200000   \n",
       "std      0.915306   12.749161        1.098747   3090.052187    0.924531   \n",
       "min     -1.000000    4.000000        0.000000    250.000000    0.000000   \n",
       "25%     -1.000000   12.000000        2.000000   1363.250000    1.000000   \n",
       "50%      0.000000   18.000000        2.000000   2347.000000    1.000000   \n",
       "75%      1.000000   27.000000        4.000000   4318.750000    1.000000   \n",
       "max      2.000000   72.000000        4.000000  18424.000000    4.000000   \n",
       "\n",
       "       employment  installment_rate  guarantors   residence         age  \\\n",
       "count  600.000000        600.000000  600.000000  600.000000  600.000000   \n",
       "mean     2.348333          2.988333    0.901667    2.831667   35.181667   \n",
       "std      1.208069          1.131517    0.298013    1.103945   11.416182   \n",
       "min      0.000000          1.000000    0.000000    1.000000   19.000000   \n",
       "25%      2.000000          2.000000    1.000000    2.000000   26.000000   \n",
       "50%      2.000000          3.000000    1.000000    3.000000   33.000000   \n",
       "75%      3.000000          4.000000    1.000000    4.000000   41.000000   \n",
       "max      4.000000          4.000000    1.000000    4.000000   75.000000   \n",
       "\n",
       "       credits_number         job  maintenance_people   telephone  \\\n",
       "count      600.000000  600.000000          600.000000  600.000000   \n",
       "mean         1.366667    1.906667            1.150000    0.391667   \n",
       "std          0.565174    0.662334            0.357369    0.488530   \n",
       "min          1.000000    0.000000            1.000000    0.000000   \n",
       "25%          1.000000    2.000000            1.000000    0.000000   \n",
       "50%          1.000000    2.000000            1.000000    0.000000   \n",
       "75%          2.000000    2.000000            1.000000    1.000000   \n",
       "max          4.000000    3.000000            2.000000    1.000000   \n",
       "\n",
       "       real_estate  life_insurance         car  housing_rent      target  \n",
       "count   600.000000      600.000000  600.000000    600.000000  600.000000  \n",
       "mean      0.268333        0.205000    0.343333      0.186667    0.500000  \n",
       "std       0.443462        0.404038    0.475218      0.389969    0.500417  \n",
       "min       0.000000        0.000000    0.000000      0.000000    0.000000  \n",
       "25%       0.000000        0.000000    0.000000      0.000000    0.000000  \n",
       "50%       0.000000        0.000000    0.000000      0.000000    0.500000  \n",
       "75%       1.000000        0.000000    1.000000      0.000000    1.000000  \n",
       "max       1.000000        1.000000    1.000000      1.000000    1.000000  "
      ]
     },
     "execution_count": 12,
     "metadata": {},
     "output_type": "execute_result"
    }
   ],
   "source": [
    "df.describe()"
   ]
  },
  {
   "cell_type": "markdown",
   "metadata": {},
   "source": [
    " __[0.5 балла]__ Проанализируйте таблицу. Есть ли признаки с пропущенными значениями? (ответ необходимо писать в этой же ячейке; к ответу сделайте пояснение)\n",
    " \n",
    " **Ответ:** признаков с пропущенными значениями нет, так как количество значений всех признаков одинаково и равно 600 (для этого был использован вывод уникальных значений в ячейке ниже)"
   ]
  },
  {
   "cell_type": "code",
   "execution_count": 13,
   "metadata": {},
   "outputs": [
    {
     "data": {
      "text/plain": [
       "array([600.])"
      ]
     },
     "execution_count": 13,
     "metadata": {},
     "output_type": "execute_result"
    }
   ],
   "source": [
    "desc = df.describe()\n",
    "desc.loc['count'].unique()"
   ]
  },
  {
   "cell_type": "markdown",
   "metadata": {},
   "source": [
    " __[0.5 балла]__ Запишите в переменную X матрицу объекты-признаки (выделите все колонки признаков, кроме target), а в переменную y - вектор правильных ответов (колонка target). К обоим объектам припишите .values, чтобы \"достать\" numpy-матрицу из датафрейма: далее мы везде будем работать с numpy-матрицами."
   ]
  },
  {
   "cell_type": "code",
   "execution_count": 14,
   "metadata": {},
   "outputs": [],
   "source": [
    "X = df[df.columns.drop('target')].values\n",
    "y = df.target.values"
   ]
  },
  {
   "cell_type": "markdown",
   "metadata": {},
   "source": [
    " __[0.5 балла]__ С помощью sklearn-функции train_test_split разделите данные на обучение и контроль (пропорцию оставьте по умолчанию). Ячейка ?train_test_split покажет документацию функции (с примерами использования), также можно загуглить документацию."
   ]
  },
  {
   "cell_type": "code",
   "execution_count": 15,
   "metadata": {},
   "outputs": [],
   "source": [
    "from sklearn.model_selection import train_test_split"
   ]
  },
  {
   "cell_type": "code",
   "execution_count": 16,
   "metadata": {},
   "outputs": [],
   "source": [
    "#?train_test_split"
   ]
  },
  {
   "cell_type": "code",
   "execution_count": 17,
   "metadata": {},
   "outputs": [],
   "source": [
    "X_train, X_test, y_train, y_test = train_test_split(X, y)"
   ]
  },
  {
   "cell_type": "markdown",
   "metadata": {},
   "source": [
    "Выведите форму (shape) обучающей и контрольной выборок:"
   ]
  },
  {
   "cell_type": "code",
   "execution_count": 18,
   "metadata": {},
   "outputs": [
    {
     "name": "stdout",
     "output_type": "stream",
     "text": [
      "(450, 20) (150, 20)\n"
     ]
    }
   ],
   "source": [
    "print(X_train.shape, X_test.shape)"
   ]
  },
  {
   "cell_type": "markdown",
   "metadata": {},
   "source": [
    " __[0.5 балла]__ Как вы видели выше, все колонки имеют разный масштаб, это будет мешать нам при запуске метрического классификатора. Отнормируйте данные с помощью StandardScaler (интерфейс такой же, как мы изучали на семинаре):"
   ]
  },
  {
   "cell_type": "code",
   "execution_count": 19,
   "metadata": {},
   "outputs": [],
   "source": [
    "from sklearn.preprocessing import StandardScaler"
   ]
  },
  {
   "cell_type": "code",
   "execution_count": 20,
   "metadata": {},
   "outputs": [],
   "source": [
    "#?StandardScaler"
   ]
  },
  {
   "cell_type": "code",
   "execution_count": 21,
   "metadata": {},
   "outputs": [],
   "source": [
    "scaler = StandardScaler()\n",
    "X_train_std = scaler.fit_transform(X_train)\n",
    "X_test_std = scaler.fit_transform(X_test)"
   ]
  },
  {
   "cell_type": "markdown",
   "metadata": {},
   "source": [
    " __[0.5 балла]__ Теперь обучите классификатор 1-NN из sklearn на обучающей выборке, сделайте предсказания отдельно для обучающей и для контрольной выборки, на каждой выборке посчитайте точность (accuracy) с помощью accuracy_score. При создании объекта KNeighborsClassifier необходимо указать число соседей 1 (по умолчанию оно больше). \n",
    "\n",
    "Интерфейс KNeighborsClassifier такой же, как мы изучали на семинаре, а accuracy-score принимает на вход вектор предсказаний и вектор правильных ответов."
   ]
  },
  {
   "cell_type": "code",
   "execution_count": 22,
   "metadata": {},
   "outputs": [],
   "source": [
    "from sklearn.neighbors import KNeighborsClassifier\n",
    "from sklearn.metrics import accuracy_score"
   ]
  },
  {
   "cell_type": "code",
   "execution_count": 23,
   "metadata": {},
   "outputs": [
    {
     "data": {
      "text/plain": [
       "KNeighborsClassifier(n_neighbors=1)"
      ]
     },
     "execution_count": 23,
     "metadata": {},
     "output_type": "execute_result"
    }
   ],
   "source": [
    "model = KNeighborsClassifier(n_neighbors = 1)\n",
    "model.fit(X_train_std, y_train) # обучаю классификатор"
   ]
  },
  {
   "cell_type": "code",
   "execution_count": 24,
   "metadata": {},
   "outputs": [],
   "source": [
    "pred_train = model.predict(X_train_std) # предсказываю для обучающей"
   ]
  },
  {
   "cell_type": "code",
   "execution_count": 25,
   "metadata": {},
   "outputs": [],
   "source": [
    "pred_test = model.predict(X_test_std) # предсказываю для контрольной"
   ]
  },
  {
   "cell_type": "code",
   "execution_count": 26,
   "metadata": {},
   "outputs": [
    {
     "data": {
      "text/plain": [
       "1.0"
      ]
     },
     "execution_count": 26,
     "metadata": {},
     "output_type": "execute_result"
    }
   ],
   "source": [
    "accuracy_score(y_train, pred_train)"
   ]
  },
  {
   "cell_type": "code",
   "execution_count": 27,
   "metadata": {},
   "outputs": [
    {
     "data": {
      "text/plain": [
       "0.6133333333333333"
      ]
     },
     "execution_count": 27,
     "metadata": {},
     "output_type": "execute_result"
    }
   ],
   "source": [
    "accuracy_score(y_test, pred_test)"
   ]
  },
  {
   "cell_type": "code",
   "execution_count": null,
   "metadata": {},
   "outputs": [],
   "source": []
  },
  {
   "cell_type": "markdown",
   "metadata": {},
   "source": [
    " __[4 балла,  включая my_accuracy и тестирование реализации]__ Наконец, реализуйте свой 1NN, воспользовавшись шаблоном ниже. Ваш класс должен уметь работать в двух режимах: в евклидовой метрикой и с манхэттанской метрикой (формулы метрик ниже). Напоминаем принцип работы 1NN: чтобы сделать предсказание для объекта, он выбирает ближайший объект из обучения и возвращает такой же класс, как у него.\n",
    "* в методе \\__init\\__ необходимо запомнить, с какой метрикой мы работаем\n",
    "* в методе fit нужно запомнить выборку - больше при обучении kNN ничего делать не нужно\n",
    "* в методе predict нужно сделать три шага:\n",
    "    * сначала построить матрицу расстояний между контрольными и обучающими объектами. Для этого можно использовать функцию [cdist](https://docs.scipy.org/doc/scipy/reference/generated/scipy.spatial.distance.cdist.html) (прочитайте ее документацию).\n",
    "    * затем взять argmin по строкам - получится вектор индексов ближайших обучающих объектов для каждого контрольного объекта\n",
    "    * выбрать компоненты y_train, отвечающие компонентам вектора индексов. Иными словами, вернуть те же метки классов, что у ближайших обучающих объектов.\n",
    "    \n",
    "Формулы метрик (расстояний):\n",
    "* евклидова: $$\\rho(x, y) = \\sqrt{\\sum_{i=1}^d (x_i - y_i)^2}$$\n",
    "* манхэттанская: $$\\rho(x, y) = \\sum_{i=1}^d |x_i - y_i|$$\n",
    "\n",
    "Модуль в numpy вычисляется как np.abs."
   ]
  },
  {
   "cell_type": "code",
   "execution_count": 28,
   "metadata": {},
   "outputs": [],
   "source": [
    "from scipy.spatial.distance import cdist"
   ]
  },
  {
   "cell_type": "code",
   "execution_count": 29,
   "metadata": {},
   "outputs": [],
   "source": [
    "class MyKNN:\n",
    "    def __init__(self, metric=\"euclid\"): #По умолчанию евклидова, любой друой ввод - \n",
    "                                         # - манхэттенская (чтобы не выдавал ошибку)\n",
    "        self.metric = metric         \n",
    "        \n",
    "    def fit(self, X_tr, y_tr):\n",
    "        self.X_tr = X_tr\n",
    "        self.y_tr = y_tr\n",
    "        \n",
    "    def predict(self, X_te):\n",
    "        \n",
    "        if self.metric == 'euclid':\n",
    "            self.dist = cdist(X_te, self.X_tr, 'euclidean')\n",
    "        else:\n",
    "            self.dist = cdist(X_te, self.X_tr, 'cityblock')\n",
    "            \n",
    "        nearest_idx = np.argmin(self.dist, axis=1)\n",
    "        ans = self.y_tr[nearest_idx]\n",
    "        return ans\n",
    "           "
   ]
  },
  {
   "cell_type": "markdown",
   "metadata": {},
   "source": [
    "Реализуйте также функцию вычисления точности - доли правильных ответов:"
   ]
  },
  {
   "cell_type": "code",
   "execution_count": 31,
   "metadata": {},
   "outputs": [],
   "source": [
    "def my_accuracy(y_pred, y_test):\n",
    "    return np.mean(y_pred == y_test)"
   ]
  },
  {
   "cell_type": "markdown",
   "metadata": {},
   "source": [
    "Пришло время запустить ваш классификатор и вычислить точность с помощью вашей функции. Обучите классификатор, сделайте предсказания для обучающей и контрольной выборок и посчитайте точность в обоих случаях. Сделайте это два раза - ддя евклидовой и манхэттанской метрик. Для евклидовой метрики цифры должны получиться точно такие же, как для реализации sklearn."
   ]
  },
  {
   "cell_type": "markdown",
   "metadata": {},
   "source": [
    "**Запуск классификатора номер 1 (евклидова метрика)**"
   ]
  },
  {
   "cell_type": "code",
   "execution_count": 32,
   "metadata": {},
   "outputs": [],
   "source": [
    "my_model = MyKNN() # Евклидова по умолчанию\n",
    "my_model.fit(X_train_std, y_train)    \n",
    "\n",
    "my_pred_train = my_model.predict(X_train_std)\n",
    "my_pred_test = my_model.predict(X_test_std)"
   ]
  },
  {
   "cell_type": "code",
   "execution_count": 33,
   "metadata": {},
   "outputs": [
    {
     "data": {
      "text/plain": [
       "1.0"
      ]
     },
     "execution_count": 33,
     "metadata": {},
     "output_type": "execute_result"
    }
   ],
   "source": [
    "my_accuracy(y_train, my_pred_train)"
   ]
  },
  {
   "cell_type": "code",
   "execution_count": 34,
   "metadata": {},
   "outputs": [
    {
     "data": {
      "text/plain": [
       "0.6133333333333333"
      ]
     },
     "execution_count": 34,
     "metadata": {},
     "output_type": "execute_result"
    }
   ],
   "source": [
    "my_accuracy(y_test, my_pred_test)"
   ]
  },
  {
   "cell_type": "markdown",
   "metadata": {},
   "source": [
    "Доля правильных ответов совпадает с той, что получилась при реализации sklearn"
   ]
  },
  {
   "cell_type": "markdown",
   "metadata": {},
   "source": [
    "**Запуск классификатора номер 2 (манхэттенская метрика)**"
   ]
  },
  {
   "cell_type": "code",
   "execution_count": 35,
   "metadata": {},
   "outputs": [],
   "source": [
    "my_model = MyKNN(metric ='manhattan')\n",
    "my_model.fit(X_train_std, y_train)    \n",
    "\n",
    "my_pred_train = my_model.predict(X_train_std)\n",
    "my_pred_test = my_model.predict(X_test_std)"
   ]
  },
  {
   "cell_type": "code",
   "execution_count": 36,
   "metadata": {
    "scrolled": true
   },
   "outputs": [
    {
     "data": {
      "text/plain": [
       "1.0"
      ]
     },
     "execution_count": 36,
     "metadata": {},
     "output_type": "execute_result"
    }
   ],
   "source": [
    "my_accuracy(y_train, my_pred_train)"
   ]
  },
  {
   "cell_type": "code",
   "execution_count": 37,
   "metadata": {},
   "outputs": [
    {
     "data": {
      "text/plain": [
       "0.6066666666666667"
      ]
     },
     "execution_count": 37,
     "metadata": {},
     "output_type": "execute_result"
    }
   ],
   "source": [
    "my_accuracy(y_test, my_pred_test)"
   ]
  },
  {
   "cell_type": "markdown",
   "metadata": {},
   "source": [
    "### Бонусное задание: реализация kNN\n",
    "Добавьте в ваш KNN параметр k (число соседей) и реализуйте k-NN, который возвращает самый популярный класс среди k ближайших соседей объекта. Если число ближайших объектов для разных классов совпадает, возвращайте класс с меньшим номером. За реализацию, работающую для любого числа классов - 3 балла (посмотрите функции np.bincount, np.apply_along_axis (к сожалению, bincount не применяется построчно), np.argpartition), за реализацию, работающую только для двух классов - 2 балла. Не забудьте протестировать свой алгоритм :) В этом задании циклы использовать нельзя!\n"
   ]
  },
  {
   "cell_type": "markdown",
   "metadata": {},
   "source": [
    "**Работает для двух классов**"
   ]
  },
  {
   "cell_type": "code",
   "execution_count": 38,
   "metadata": {},
   "outputs": [],
   "source": [
    "class My_KNN:\n",
    "    def __init__(self, metric='euclid', k=1): #По умолчанию евклидова метрика и 1 сосед\n",
    "        self.metric = metric\n",
    "        self.k = k\n",
    "        \n",
    "    def fit(self, X_tr, y_tr):\n",
    "        self.X_tr = X_tr\n",
    "        self.y_tr = y_tr\n",
    "        \n",
    "    def predict(self, X_te):\n",
    "        \n",
    "        if self.metric == 'euclid':\n",
    "            self.dist = cdist(X_te, self.X_tr, 'euclidean')\n",
    "        else:\n",
    "            self.dist = cdist(X_te, self.X_tr, 'cityblock')\n",
    "            \n",
    "        indicies = np.argsort(self.dist)[:, :self.k]\n",
    "        classes = self.y_tr[indicies]\n",
    "        \n",
    "        class_det = np.mean(classes, axis = 1)\n",
    "        \n",
    "        class_det[np.logical_or(class_det == 0.5, class_det < 0.5)] = 0 \n",
    "        class_det[class_det > 0.5] = 1\n",
    "        ans = class_det.astype(int)\n",
    "        \n",
    "        return ans\n",
    "           "
   ]
  },
  {
   "cell_type": "markdown",
   "metadata": {},
   "source": [
    "### Тесты"
   ]
  },
  {
   "cell_type": "markdown",
   "metadata": {},
   "source": [
    "**Тест 1.** Параметры по умолчанию: евклидова метрика и k=1"
   ]
  },
  {
   "cell_type": "code",
   "execution_count": 39,
   "metadata": {},
   "outputs": [],
   "source": [
    "my_model_k = My_KNN()\n",
    "my_model_k.fit(X_train_std, y_train)    \n",
    "\n",
    "my_pred_train_k = my_model_k.predict(X_train_std)\n",
    "my_pred_test_k = my_model_k.predict(X_test_std)"
   ]
  },
  {
   "cell_type": "code",
   "execution_count": 40,
   "metadata": {},
   "outputs": [
    {
     "data": {
      "text/plain": [
       "1.0"
      ]
     },
     "execution_count": 40,
     "metadata": {},
     "output_type": "execute_result"
    }
   ],
   "source": [
    "my_accuracy(y_train, my_pred_train_k)"
   ]
  },
  {
   "cell_type": "code",
   "execution_count": 41,
   "metadata": {},
   "outputs": [
    {
     "data": {
      "text/plain": [
       "0.6133333333333333"
      ]
     },
     "execution_count": 41,
     "metadata": {},
     "output_type": "execute_result"
    }
   ],
   "source": [
    "my_accuracy(y_test, my_pred_test_k)"
   ]
  },
  {
   "cell_type": "markdown",
   "metadata": {},
   "source": [
    "Accuracy такая же, как с использованием sklearn и MyKNN - вроде как работает"
   ]
  },
  {
   "cell_type": "markdown",
   "metadata": {},
   "source": [
    "**Тест 2.** Манхэттенская метрика и три разных k"
   ]
  },
  {
   "cell_type": "code",
   "execution_count": 42,
   "metadata": {},
   "outputs": [
    {
     "name": "stdout",
     "output_type": "stream",
     "text": [
      "Доля верных ответов на обучающей выборке для k=2: 0.8311111111111111\n",
      "Доля верных ответов на тестовой выборке для k=2: 0.5666666666666667\n",
      "\n",
      "Доля верных ответов на обучающей выборке для k=5: 0.8\n",
      "Доля верных ответов на тестовой выборке для k=5: 0.62\n",
      "\n",
      "Доля верных ответов на обучающей выборке для k=11: 0.7555555555555555\n",
      "Доля верных ответов на тестовой выборке для k=11: 0.6333333333333333\n",
      "\n"
     ]
    }
   ],
   "source": [
    "my_metric = 'manhattan'\n",
    "\n",
    "# Первый k\n",
    "\n",
    "my_k = 2\n",
    "\n",
    "my_model_k = My_KNN(metric=my_metric, k=my_k)\n",
    "my_model_k.fit(X_train_std, y_train)    \n",
    "\n",
    "my_pred_train_k = my_model_k.predict(X_train_std)\n",
    "my_pred_test_k = my_model_k.predict(X_test_std)\n",
    "\n",
    "acc_train = my_accuracy(y_train, my_pred_train_k)\n",
    "acc_test = my_accuracy(y_test, my_pred_test_k)\n",
    "\n",
    "print('Доля верных ответов на обучающей выборке для k=', my_k, ': ', acc_train, sep='')\n",
    "print('Доля верных ответов на тестовой выборке для k=', my_k, ': ', acc_test, sep='', end='\\n\\n')\n",
    "\n",
    "\n",
    "# Второй k\n",
    "\n",
    "my_k = 5\n",
    "\n",
    "my_model_k = My_KNN(metric=my_metric, k=my_k)\n",
    "my_model_k.fit(X_train_std, y_train)    \n",
    "\n",
    "my_pred_train_k = my_model_k.predict(X_train_std)\n",
    "my_pred_test_k = my_model_k.predict(X_test_std)\n",
    "\n",
    "acc_train = my_accuracy(y_train, my_pred_train_k)\n",
    "acc_test = my_accuracy(y_test, my_pred_test_k)\n",
    "\n",
    "print('Доля верных ответов на обучающей выборке для k=', my_k, ': ', acc_train, sep='')\n",
    "print('Доля верных ответов на тестовой выборке для k=', my_k, ': ', acc_test, sep='',end='\\n\\n')\n",
    "\n",
    "# Третий k\n",
    "\n",
    "my_k = 11\n",
    "\n",
    "my_model_k = My_KNN(metric=my_metric, k=my_k)\n",
    "my_model_k.fit(X_train_std, y_train)    \n",
    "\n",
    "my_pred_train_k = my_model_k.predict(X_train_std)\n",
    "my_pred_test_k = my_model_k.predict(X_test_std)\n",
    "\n",
    "acc_train = my_accuracy(y_train, my_pred_train_k)\n",
    "acc_test = my_accuracy(y_test, my_pred_test_k)\n",
    "\n",
    "print('Доля верных ответов на обучающей выборке для k=', my_k, ': ', acc_train, sep='')\n",
    "print('Доля верных ответов на тестовой выборке для k=', my_k, ': ', acc_test, sep='', end='\\n\\n')\n",
    "\n"
   ]
  },
  {
   "cell_type": "markdown",
   "metadata": {},
   "source": [
    "**Тест 3.** Евклидова метрика и три разных k"
   ]
  },
  {
   "cell_type": "code",
   "execution_count": 43,
   "metadata": {},
   "outputs": [
    {
     "name": "stdout",
     "output_type": "stream",
     "text": [
      "Доля верных ответов на обучающей выборке для k=3: 0.8088888888888889\n",
      "Доля верных ответов на тестовой выборке для k=3: 0.6133333333333333\n",
      "\n",
      "Доля верных ответов на обучающей выборке для k=9: 0.7488888888888889\n",
      "Доля верных ответов на тестовой выборке для k=9: 0.6133333333333333\n",
      "\n",
      "Доля верных ответов на обучающей выборке для k=10: 0.7488888888888889\n",
      "Доля верных ответов на тестовой выборке для k=10: 0.66\n",
      "\n"
     ]
    }
   ],
   "source": [
    "my_metric = 'euclid'\n",
    "\n",
    "# Первый k\n",
    "\n",
    "my_k = 3\n",
    "\n",
    "my_model_k = My_KNN(metric=my_metric, k=my_k)\n",
    "my_model_k.fit(X_train_std, y_train)    \n",
    "\n",
    "my_pred_train_k = my_model_k.predict(X_train_std)\n",
    "my_pred_test_k = my_model_k.predict(X_test_std)\n",
    "\n",
    "acc_train = my_accuracy(y_train, my_pred_train_k)\n",
    "acc_test = my_accuracy(y_test, my_pred_test_k)\n",
    "\n",
    "print('Доля верных ответов на обучающей выборке для k=', my_k, ': ', acc_train, sep='')\n",
    "print('Доля верных ответов на тестовой выборке для k=', my_k, ': ', acc_test, sep='', end='\\n\\n')\n",
    "\n",
    "\n",
    "# Второй k\n",
    "\n",
    "my_k = 9\n",
    "\n",
    "my_model_k = My_KNN(metric=my_metric, k=my_k)\n",
    "my_model_k.fit(X_train_std, y_train)    \n",
    "\n",
    "my_pred_train_k = my_model_k.predict(X_train_std)\n",
    "my_pred_test_k = my_model_k.predict(X_test_std)\n",
    "\n",
    "acc_train = my_accuracy(y_train, my_pred_train_k)\n",
    "acc_test = my_accuracy(y_test, my_pred_test_k)\n",
    "\n",
    "print('Доля верных ответов на обучающей выборке для k=', my_k, ': ', acc_train, sep='')\n",
    "print('Доля верных ответов на тестовой выборке для k=', my_k, ': ', acc_test, sep='',end='\\n\\n')\n",
    "\n",
    "# Третий k\n",
    "\n",
    "my_k = 10\n",
    "\n",
    "my_model_k = My_KNN(metric=my_metric, k=my_k)\n",
    "my_model_k.fit(X_train_std, y_train)    \n",
    "\n",
    "my_pred_train_k = my_model_k.predict(X_train_std)\n",
    "my_pred_test_k = my_model_k.predict(X_test_std)\n",
    "\n",
    "acc_train = my_accuracy(y_train, my_pred_train_k)\n",
    "acc_test = my_accuracy(y_test, my_pred_test_k)\n",
    "\n",
    "print('Доля верных ответов на обучающей выборке для k=', my_k, ': ', acc_train, sep='')\n",
    "print('Доля верных ответов на тестовой выборке для k=', my_k, ': ', acc_test, sep='', end='\\n\\n')\n",
    "\n"
   ]
  },
  {
   "cell_type": "code",
   "execution_count": null,
   "metadata": {},
   "outputs": [],
   "source": []
  }
 ],
 "metadata": {
  "kernelspec": {
   "display_name": "Python 2",
   "language": "python",
   "name": "python2"
  },
  "language_info": {
   "codemirror_mode": {
    "name": "ipython",
    "version": 2
   },
   "file_extension": ".py",
   "mimetype": "text/x-python",
   "name": "python",
   "nbconvert_exporter": "python",
   "pygments_lexer": "ipython2",
   "version": "2.7.6"
  }
 },
 "nbformat": 4,
 "nbformat_minor": 2
}
