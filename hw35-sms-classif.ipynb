{
 "cells": [
  {
   "cell_type": "markdown",
   "metadata": {},
   "source": [
    "# Классификация sms сообщений"
   ]
  },
  {
   "cell_type": "code",
   "execution_count": 1,
   "metadata": {},
   "outputs": [],
   "source": [
    "%matplotlib inline\n",
    "# служебная команда для отображения графиков"
   ]
  },
  {
   "cell_type": "markdown",
   "metadata": {},
   "source": [
    "В этом задании мы будем использовать данные SMS Spam collection из репозитория UCI.\n",
    "Файл с данными расположен [по ссылке](https://archive.ics.uci.edu/ml/machine-learning-databases/00228/), скачайте и разархивируйте его."
   ]
  },
  {
   "cell_type": "markdown",
   "metadata": {},
   "source": [
    "### Загрузка, визуализация и предварительный анализ данных"
   ]
  },
  {
   "cell_type": "markdown",
   "metadata": {},
   "source": [
    "Загрузим данные, используя модуль pandas:"
   ]
  },
  {
   "cell_type": "code",
   "execution_count": 2,
   "metadata": {},
   "outputs": [],
   "source": [
    "import pandas as pd"
   ]
  },
  {
   "cell_type": "code",
   "execution_count": 3,
   "metadata": {},
   "outputs": [],
   "source": [
    "data = pd.read_csv(\"SMSSpamCollection\", \\\n",
    "                  sep=\"\\t\", \\\n",
    "                  header=None,\\\n",
    "                  names=[\"label\", \"sms\"])"
   ]
  },
  {
   "cell_type": "markdown",
   "metadata": {},
   "source": [
    "Посмотрим первые десять строк:"
   ]
  },
  {
   "cell_type": "code",
   "execution_count": 4,
   "metadata": {},
   "outputs": [
    {
     "data": {
      "text/html": [
       "<div>\n",
       "<style scoped>\n",
       "    .dataframe tbody tr th:only-of-type {\n",
       "        vertical-align: middle;\n",
       "    }\n",
       "\n",
       "    .dataframe tbody tr th {\n",
       "        vertical-align: top;\n",
       "    }\n",
       "\n",
       "    .dataframe thead th {\n",
       "        text-align: right;\n",
       "    }\n",
       "</style>\n",
       "<table border=\"1\" class=\"dataframe\">\n",
       "  <thead>\n",
       "    <tr style=\"text-align: right;\">\n",
       "      <th></th>\n",
       "      <th>label</th>\n",
       "      <th>sms</th>\n",
       "    </tr>\n",
       "  </thead>\n",
       "  <tbody>\n",
       "    <tr>\n",
       "      <th>0</th>\n",
       "      <td>ham</td>\n",
       "      <td>Go until jurong point, crazy.. Available only ...</td>\n",
       "    </tr>\n",
       "    <tr>\n",
       "      <th>1</th>\n",
       "      <td>ham</td>\n",
       "      <td>Ok lar... Joking wif u oni...</td>\n",
       "    </tr>\n",
       "    <tr>\n",
       "      <th>2</th>\n",
       "      <td>spam</td>\n",
       "      <td>Free entry in 2 a wkly comp to win FA Cup fina...</td>\n",
       "    </tr>\n",
       "    <tr>\n",
       "      <th>3</th>\n",
       "      <td>ham</td>\n",
       "      <td>U dun say so early hor... U c already then say...</td>\n",
       "    </tr>\n",
       "    <tr>\n",
       "      <th>4</th>\n",
       "      <td>ham</td>\n",
       "      <td>Nah I don't think he goes to usf, he lives aro...</td>\n",
       "    </tr>\n",
       "    <tr>\n",
       "      <th>5</th>\n",
       "      <td>spam</td>\n",
       "      <td>FreeMsg Hey there darling it's been 3 week's n...</td>\n",
       "    </tr>\n",
       "    <tr>\n",
       "      <th>6</th>\n",
       "      <td>ham</td>\n",
       "      <td>Even my brother is not like to speak with me. ...</td>\n",
       "    </tr>\n",
       "    <tr>\n",
       "      <th>7</th>\n",
       "      <td>ham</td>\n",
       "      <td>As per your request 'Melle Melle (Oru Minnamin...</td>\n",
       "    </tr>\n",
       "    <tr>\n",
       "      <th>8</th>\n",
       "      <td>spam</td>\n",
       "      <td>WINNER!! As a valued network customer you have...</td>\n",
       "    </tr>\n",
       "    <tr>\n",
       "      <th>9</th>\n",
       "      <td>spam</td>\n",
       "      <td>Had your mobile 11 months or more? U R entitle...</td>\n",
       "    </tr>\n",
       "  </tbody>\n",
       "</table>\n",
       "</div>"
      ],
      "text/plain": [
       "  label                                                sms\n",
       "0   ham  Go until jurong point, crazy.. Available only ...\n",
       "1   ham                      Ok lar... Joking wif u oni...\n",
       "2  spam  Free entry in 2 a wkly comp to win FA Cup fina...\n",
       "3   ham  U dun say so early hor... U c already then say...\n",
       "4   ham  Nah I don't think he goes to usf, he lives aro...\n",
       "5  spam  FreeMsg Hey there darling it's been 3 week's n...\n",
       "6   ham  Even my brother is not like to speak with me. ...\n",
       "7   ham  As per your request 'Melle Melle (Oru Minnamin...\n",
       "8  spam  WINNER!! As a valued network customer you have...\n",
       "9  spam  Had your mobile 11 months or more? U R entitle..."
      ]
     },
     "execution_count": 4,
     "metadata": {},
     "output_type": "execute_result"
    }
   ],
   "source": [
    "data.head(10)"
   ]
  },
  {
   "cell_type": "markdown",
   "metadata": {},
   "source": [
    "В первом столбце хранятся метки (спам или не спам), во втором - текст сообщения."
   ]
  },
  {
   "cell_type": "markdown",
   "metadata": {},
   "source": [
    "Посмотрим, сколько всего объектов:"
   ]
  },
  {
   "cell_type": "code",
   "execution_count": 5,
   "metadata": {},
   "outputs": [
    {
     "data": {
      "text/plain": [
       "5572"
      ]
     },
     "execution_count": 5,
     "metadata": {},
     "output_type": "execute_result"
    }
   ],
   "source": [
    "len(data)"
   ]
  },
  {
   "cell_type": "markdown",
   "metadata": {},
   "source": [
    "Посмотрим, сколько объектов каждого класса:"
   ]
  },
  {
   "cell_type": "code",
   "execution_count": 6,
   "metadata": {},
   "outputs": [
    {
     "data": {
      "text/plain": [
       "<AxesSubplot:title={'center':'Число сообщений спам / не спам'}>"
      ]
     },
     "execution_count": 6,
     "metadata": {},
     "output_type": "execute_result"
    },
    {
     "data": {
      "image/png": "[encoded data removed]",
      "text/plain": [
       "<Figure size 432x288 with 1 Axes>"
      ]
     },
     "metadata": {
      "needs_background": "light"
     },
     "output_type": "display_data"
    }
   ],
   "source": [
    "counts = data[\"label\"].value_counts()\n",
    "counts.plot(kind='bar', title=\"Число сообщений спам / не спам\")"
   ]
  },
  {
   "cell_type": "code",
   "execution_count": 7,
   "metadata": {},
   "outputs": [
    {
     "data": {
      "text/plain": [
       "ham     4825\n",
       "spam     747\n",
       "Name: label, dtype: int64"
      ]
     },
     "execution_count": 7,
     "metadata": {},
     "output_type": "execute_result"
    }
   ],
   "source": [
    "counts"
   ]
  },
  {
   "cell_type": "markdown",
   "metadata": {},
   "source": [
    "В выборке гораздо больше не-спама, чем спама."
   ]
  },
  {
   "cell_type": "markdown",
   "metadata": {},
   "source": [
    "### Предобработка данных\n",
    "\n",
    "В данных пока что нет выделенных признаков. Для текстов можно использовать простое преобразование -- \"мешок слов\". Создадим словарь из всех слов, которые встречаются в sms. Для каждого объекта-текста мы получим столько признаков, сколько слов в словаре, и каждый признак содержит 1 (слово входит в текст) или 0 (слово не входит). Для этого в sklearn есть специальный инструмент:"
   ]
  },
  {
   "cell_type": "code",
   "execution_count": 8,
   "metadata": {},
   "outputs": [],
   "source": [
    "from sklearn.feature_extraction.text import CountVectorizer"
   ]
  },
  {
   "cell_type": "code",
   "execution_count": 9,
   "metadata": {},
   "outputs": [],
   "source": [
    "vectorizer = CountVectorizer(max_features=10000)\n",
    "X = vectorizer.fit_transform(data[\"sms\"])"
   ]
  },
  {
   "cell_type": "code",
   "execution_count": 10,
   "metadata": {},
   "outputs": [
    {
     "data": {
      "text/plain": [
       "Index(['00', '000', '000pes', '008704050406', '0089', '0121', '01223585236',\n",
       "       '01223585334', '0125698789', '02',\n",
       "       ...\n",
       "       'zhong', 'zindgi', 'zoe', 'zogtorius', 'zoom', 'zouk', 'zyada', 'èn',\n",
       "       'ú1', '〨ud'],\n",
       "      dtype='object', length=8713)"
      ]
     },
     "execution_count": 10,
     "metadata": {},
     "output_type": "execute_result"
    }
   ],
   "source": [
    "# слова в том порядке, в котором они идут в матрице X по столбцам\n",
    "words = pd.Series(vectorizer.vocabulary_).sort_values().index\n",
    "words"
   ]
  },
  {
   "cell_type": "markdown",
   "metadata": {},
   "source": [
    "Сколько получилось объектов и признаков?"
   ]
  },
  {
   "cell_type": "code",
   "execution_count": 11,
   "metadata": {},
   "outputs": [
    {
     "data": {
      "text/plain": [
       "(5572, 8713)"
      ]
     },
     "execution_count": 11,
     "metadata": {},
     "output_type": "execute_result"
    }
   ],
   "source": [
    "X.shape"
   ]
  },
  {
   "cell_type": "markdown",
   "metadata": {},
   "source": [
    "А что в самой матрице?"
   ]
  },
  {
   "cell_type": "code",
   "execution_count": 12,
   "metadata": {},
   "outputs": [
    {
     "data": {
      "text/plain": [
       "matrix([[0, 0, 0, ..., 0, 0, 0],\n",
       "        [0, 0, 0, ..., 0, 0, 0],\n",
       "        [0, 0, 0, ..., 0, 0, 0],\n",
       "        [0, 0, 0, ..., 0, 0, 0],\n",
       "        [0, 0, 0, ..., 0, 0, 0]], dtype=int64)"
      ]
     },
     "execution_count": 12,
     "metadata": {},
     "output_type": "execute_result"
    }
   ],
   "source": [
    "X[:5].todense()"
   ]
  },
  {
   "cell_type": "markdown",
   "metadata": {},
   "source": [
    "Мы почти не видим единиц в этой матрице, потому что их очень мало."
   ]
  },
  {
   "cell_type": "markdown",
   "metadata": {},
   "source": [
    "У нас есть еще одна небольшая проблема: классы обозначены не числами, а буквами. Перекодируйте \"spam\" в 1, а \"ham\" в 0 с помощью средств pandas и запишите в переменную y:"
   ]
  },
  {
   "cell_type": "code",
   "execution_count": 13,
   "metadata": {},
   "outputs": [],
   "source": [
    "### your code here\n",
    "data.loc[(data.label == 'ham'),'label'] = 0\n",
    "data.loc[(data.label == 'spam'),'label'] = 1\n",
    "\n",
    "y = data.label.astype('int')"
   ]
  },
  {
   "cell_type": "markdown",
   "metadata": {},
   "source": [
    "Теперь у нас есть X и y!"
   ]
  },
  {
   "cell_type": "markdown",
   "metadata": {},
   "source": [
    "Разделите данные на обучение и контроль в пропорции 3:1:"
   ]
  },
  {
   "cell_type": "code",
   "execution_count": 14,
   "metadata": {},
   "outputs": [],
   "source": [
    "from sklearn.model_selection import train_test_split"
   ]
  },
  {
   "cell_type": "code",
   "execution_count": 15,
   "metadata": {},
   "outputs": [
    {
     "name": "stdout",
     "output_type": "stream",
     "text": [
      "(4179, 8713) (1393, 8713)\n"
     ]
    }
   ],
   "source": [
    "### your code here\n",
    "X_train, X_test, y_train, y_test = train_test_split(X, y, test_size = 0.25)\n",
    "print(X_train.shape, X_test.shape)"
   ]
  },
  {
   "cell_type": "markdown",
   "metadata": {},
   "source": [
    "### Обучение линейной модели"
   ]
  },
  {
   "cell_type": "markdown",
   "metadata": {},
   "source": [
    "Обучите логистическую регрессию:"
   ]
  },
  {
   "cell_type": "code",
   "execution_count": 16,
   "metadata": {},
   "outputs": [],
   "source": [
    "from sklearn.linear_model import LogisticRegression"
   ]
  },
  {
   "cell_type": "code",
   "execution_count": 17,
   "metadata": {},
   "outputs": [
    {
     "data": {
      "text/plain": [
       "LogisticRegression()"
      ]
     },
     "execution_count": 17,
     "metadata": {},
     "output_type": "execute_result"
    }
   ],
   "source": [
    "### your code here\n",
    "model = LogisticRegression()\n",
    "model.fit(X_train, y_train)"
   ]
  },
  {
   "cell_type": "markdown",
   "metadata": {},
   "source": [
    "Создайте датафрейм pandas с двумя столбцами: первый столбец - слова из словаря (определены выше), второй - веса этих слов (атрибут coef\\_ модели, например,  model.coef\\_). Отсортируйте датафрейм по возрастанию весов, выведите 100 слов с наибольшими весами и 100 слов с наименьшими (наибольшими по модулю отрицательными) весами. \n",
    "\n",
    "Внимание: веса модели имеют форму (1, num\\_features), а нам нужно (num\\_features,), поэтому потребуется использовать конструкцию вида model.coef\\_[0]."
   ]
  },
  {
   "cell_type": "code",
   "execution_count": 18,
   "metadata": {},
   "outputs": [
    {
     "name": "stdout",
     "output_type": "stream",
     "text": [
      "---100 BIGGEST WEIGHT WORDS---\n",
      "['apply', 'to', '07090201529', 'minmobsmorelkpobox177hp51fl', '2day', 'luv', 'thousands', '800', 'realize', 'sex', 'or', 'games', 'tattoos', 'lucy', '40', 'top', 'bid', 'adult', 'win', '08714712388', '7pm', 'latest', 'std', 'content', '12', 'voicemail', '10am', 'account', 'mob', 'enjoy', 'customer', 'for', 'cash', 'rate', '2003', 'xxx', '0800', 'ac', 'msg', 'stories', 'sexy', 'statement', 'private', 'lost', 'video', 'have', 'filthy', 'ladies', 'services', 'calls', 'girls', 'prize', 'shortly', 'awarded', 'who', 'choose', 'freemsg', 'com', 'send', 'ltd', 'urgent', '10p', 'please', 'your', 'real', 'message', 'co', 'http', 'help', '18', 'from', '84484', 'ringtoneking', 'order', 'dating', '146tf150p', 'www', '100', 'min', 'tones', 'new', 'sms', 'cost', 'mobile', 'now', '50', '150p', 'stop', 'service', 'won', 'free', '88066', 'claim', 'chat', 'reply', 'ringtone', 'uk', 'text', 'call', 'txt']\n",
      "\n",
      "---100 SMALLEST WEIGHT WORDS---\n",
      "['but', 'gt', 'my', 'me', 'lt', 'him', 'fullonsms', 'going', 'hope', 'then', 'once', 'he', 'later', 'am', 'that', 'way', 'll', 'got', 'sir', 'da', 'friends', 'right', 'come', 'do', 'ask', 'callertune', 'home', 'happy', 'she', 'lol', 'amp', 'ok', 'his', 'up', 'if', 'it', 'always', 'really', 'miss', 'thats', 'them', 'year', 'pls', 'don', 'where', 'its', 'can', 'said', 'very', 'work', 'cant', 'at', 'stuff', 'hey', 'list', 'smile', 'good', 'how', 'copy', 'sure', 'late', 'still', 'people', 'something', 'yes', 'morning', 'gonna', 'great', 'place', 'lor', 'not', 'available', 'no', 'mail', 'yeah', 'problem', 'wat', 'gud', 'so', 'doing', 'anything', 'cos', 'month', 'already', 'lose', 'world', 'sorry', 'when', 'get', 'tomorrow', 'sleep', 'spoke', 'experience', 'never', 'coming', 'family', 're', 'her', 'id', 'didn']\n"
     ]
    }
   ],
   "source": [
    "### your code here\n",
    "\n",
    "wordsdf = pd.DataFrame(words)\n",
    "coefs = pd.DataFrame(model.coef_.reshape(8713, ))\n",
    "classes = pd.concat([wordsdf, coefs], axis = 1)\n",
    "classes.columns = ['Words', 'Weights']\n",
    "\n",
    "classes_sorted = classes.sort_values(by=['Weights'])\n",
    "\n",
    "print('---100 BIGGEST WEIGHT WORDS---')\n",
    "print(list(classes_sorted.Words[classes_sorted.Words.shape[0] - 100::]), end='\\n\\n')\n",
    "print('---100 SMALLEST WEIGHT WORDS---')\n",
    "print(list(classes_sorted.Words[:100]))"
   ]
  },
  {
   "cell_type": "markdown",
   "metadata": {},
   "source": [
    "Можно ли сказать, что топ слова действительно характеризуют каждый из двух классов? Почему?\n",
    "\n",
    "__Ваш комментарий:__ Мне кажется, что скорее да: слова с наибольшим весом из первой группы (те, которые модель вероятнее всего отнесет к классу 1, то есть к спаму) довольно характерны для смс-рассылок: есть слова вроде cash, xxx, www, filthy, adult (реклама ставок (?), порносайтов, переход по ссылкам). Слова из второй категории больше похожи на те, которые могут использоваться в разговорной речи, особенно lol, ok, sure, wat. Это не исключает того, что и те, и другие слова могут быть использованы в разных контекстах (слова из первой группы - в переписке, из второй - в рассылках), но в  целом, мне кажется, комбинации довольно характерные."
   ]
  },
  {
   "cell_type": "markdown",
   "metadata": {
    "collapsed": true
   },
   "source": [
    "### Оценивание качества"
   ]
  },
  {
   "cell_type": "markdown",
   "metadata": {},
   "source": [
    "Вычислите точность (accuracy) на обучающей и тестовой выборке:"
   ]
  },
  {
   "cell_type": "code",
   "execution_count": 19,
   "metadata": {},
   "outputs": [],
   "source": [
    "from sklearn.metrics import accuracy_score"
   ]
  },
  {
   "cell_type": "code",
   "execution_count": 20,
   "metadata": {},
   "outputs": [
    {
     "name": "stdout",
     "output_type": "stream",
     "text": [
      "Accuracy for train data:  0.998085666427375\n",
      "Accuracy for test data:  0.9849246231155779\n"
     ]
    }
   ],
   "source": [
    "### your code here\n",
    "pred_train = model.predict(X_train)\n",
    "print('Accuracy for train data: ', accuracy_score(y_train, pred_train))\n",
    "\n",
    "pred_test = model.predict(X_test)\n",
    "print('Accuracy for test data: ', accuracy_score(y_test, pred_test))"
   ]
  },
  {
   "cell_type": "markdown",
   "metadata": {},
   "source": [
    "Поскольку в данных класс 1 редкий, лучше использовать точность и полноту. Посчитайте их для тестовой выборки:"
   ]
  },
  {
   "cell_type": "code",
   "execution_count": 21,
   "metadata": {},
   "outputs": [],
   "source": [
    "from sklearn.metrics import precision_score, recall_score, f1_score"
   ]
  },
  {
   "cell_type": "code",
   "execution_count": 22,
   "metadata": {},
   "outputs": [
    {
     "name": "stdout",
     "output_type": "stream",
     "text": [
      "Precision for test data:  0.9783783783783784\n",
      "Recall for test data:  0.9141414141414141\n",
      "F-measure for test data:  0.9451697127937337\n"
     ]
    }
   ],
   "source": [
    "### your code here\n",
    "\n",
    "print('Precision for test data: ', precision_score(y_test, pred_test))\n",
    "print('Recall for test data: ', recall_score(y_test, pred_test))\n",
    "print('F-measure for test data: ', f1_score(y_test, pred_test))"
   ]
  },
  {
   "cell_type": "markdown",
   "metadata": {
    "collapsed": true
   },
   "source": [
    "Какое утверждение верно? Поясните свой ответ.\n",
    "\n",
    "* Алгоритм находит почти все спамовые смс-сообщения, но иногда неверно включает в них неспамовые.\n",
    "* Почти все, что алгоритм отнес к спамовым смс-сообщениям, действительно является спамом. Однако алгоритм находит не все спамовые сообщения.\n",
    "\n",
    "__Ваш комментарий:__ Второе. Точность показывает, что почти 99% всех объектов, онесенных моделью к категории спама (1), в действительности являются спамом. А полнота показывает, что хотя в класс \"спам\" попало очень мало неспамовых сообщений (что хорошо), в него попали и далеко не все спамовые сообщения - только 86% от всех истинно спамовых сообщений. А первое утверждение неверно, потому что \"находит почти все\" при 86% найденных спам-сообщениях - это больше преувеличение, на мой взгляд (хоть верна и вторая часть предложения, что изредка неспамовые сообщения модель относит к классу спам - это как раз 1 с небольшим процент неспамовых сообщений в классе спам)."
   ]
  },
  {
   "cell_type": "markdown",
   "metadata": {},
   "source": [
    "Постройте ROC-кривую для вашей обученной модели. Используйте предсказания на тестовой выборке. \n",
    "1. Вместо функции predict нужно использовать функцию predict_proba. Она вернет матрицу размера (число объектов, 2), для каждого объекта - вероятность класса 0 и вероятность класса 1.\n",
    "1. Вам нужно извлечь вектор вероятностей класса 1 и использовать его для построения ROC-кривой."
   ]
  },
  {
   "cell_type": "code",
   "execution_count": 23,
   "metadata": {},
   "outputs": [],
   "source": [
    "from sklearn.metrics import roc_curve, auc"
   ]
  },
  {
   "cell_type": "code",
   "execution_count": 24,
   "metadata": {},
   "outputs": [],
   "source": [
    "from matplotlib import pyplot as plt"
   ]
  },
  {
   "cell_type": "code",
   "execution_count": 25,
   "metadata": {},
   "outputs": [
    {
     "data": {
      "image/png": "[encoded data removed]",
      "text/plain": [
       "<Figure size 720x720 with 1 Axes>"
      ]
     },
     "metadata": {
      "needs_background": "light"
     },
     "output_type": "display_data"
    }
   ],
   "source": [
    "### your code here\n",
    "\n",
    "probs = model.predict_proba(X_test)[:, 1]\n",
    "fpr, tpr, threshold = roc_curve(y_test, probs)\n",
    "roc_auc = auc(fpr, tpr)\n",
    "\n",
    "plt.figure(figsize=(10, 10))\n",
    "plt.plot(fpr, tpr, 'g')\n",
    "plt.ylabel('TPR')\n",
    "plt.xlabel('FPR')\n",
    "plt.show()"
   ]
  },
  {
   "cell_type": "markdown",
   "metadata": {
    "collapsed": true
   },
   "source": [
    "### Подбор гиперпараметра - коэффициента регуляризации\n",
    "\n",
    "В наших данных очень много признаков - столько, сколько слов с словаре. В линейных моделях есть специальный инструмент, позволяющий автоматически выбирать релевантные признаки - регуляризация, а точнее, Lasso (L1) регуляризация. При использовании регуляризации к функционалу качества, который оптимизируется при обучении линейной модели, прибавляется регуляризатор - сумма модулей весов, умноженная на коэффициент регуляризации. Коэффициент регуляризации задает силу регуляризатора: если коэффициент очень маленький, регуляризатор почти не меняет модель, если коэффициент очень большой, регуляризатор мешает модели настраиваться на данные. При достаточно большом коэффициенте Lasso-регуляризации большинство весов в модели становятся нулевыми, и соответствующие признаки не используются. Коэффициент регуляризации обычно подбирают, используя кросс-валидацию.\n",
    "\n",
    "Сначала посмотрим, сколько нулевых весов в модели без регуляризации (та, которую вы уже обучили). Напомним, что веса модели хранятся в атрибуте coef\\_ модели. Посчитайте с помощью numpy, каков процент весов, равных 0:"
   ]
  },
  {
   "cell_type": "code",
   "execution_count": 26,
   "metadata": {},
   "outputs": [],
   "source": [
    "import numpy as np"
   ]
  },
  {
   "cell_type": "code",
   "execution_count": 57,
   "metadata": {},
   "outputs": [
    {
     "name": "stdout",
     "output_type": "stream",
     "text": [
      "Share of zero weights in a basic model: 14.2316079421554%\n"
     ]
    }
   ],
   "source": [
    "### your code here\n",
    "zero_percent_basic = (coefs.shape[0] - np.count_nonzero(coefs))/coefs.shape[0]*100\n",
    "print('Share of zero weights in a basic model: ', zero_percent_basic, '%', sep='')"
   ]
  },
  {
   "cell_type": "markdown",
   "metadata": {},
   "source": [
    "Теперь обучите логистическую регрессию с коэффициентом Lasso-регуляризации по умолчанию. Для этого укажите penalty='l1' при создании объекта класса LogisticRegression:"
   ]
  },
  {
   "cell_type": "code",
   "execution_count": 28,
   "metadata": {},
   "outputs": [
    {
     "data": {
      "text/plain": [
       "LogisticRegression(penalty='l1', solver='liblinear')"
      ]
     },
     "execution_count": 28,
     "metadata": {},
     "output_type": "execute_result"
    }
   ],
   "source": [
    "### your code here\n",
    "\n",
    "model_lasso = LogisticRegression( penalty='l1', solver='liblinear')\n",
    "model_lasso.fit(X_train, y_train)"
   ]
  },
  {
   "cell_type": "markdown",
   "metadata": {},
   "source": [
    "Какой процент нулевых весов в новой модели?"
   ]
  },
  {
   "cell_type": "code",
   "execution_count": 29,
   "metadata": {},
   "outputs": [
    {
     "name": "stdout",
     "output_type": "stream",
     "text": [
      "Share of zero weights in model with L1 regularization: 97.81935039596006%\n"
     ]
    }
   ],
   "source": [
    "### your code hre\n",
    "coefs_lasso = model_lasso.coef_\n",
    "zero_percent_lasso = (coefs_lasso.shape[1] - np.count_nonzero(coefs_lasso))/coefs_lasso.shape[1]*100\n",
    "print('Share of zero weights in model with L1 regularization: ', zero_percent_lasso, '%', sep='')"
   ]
  },
  {
   "cell_type": "markdown",
   "metadata": {},
   "source": [
    "Теперь подберем коэффициент регуляризации в помощью кросс-валидации. Для этого воспользуемся GridSearchCV:"
   ]
  },
  {
   "cell_type": "code",
   "execution_count": 30,
   "metadata": {},
   "outputs": [],
   "source": [
    "from sklearn.model_selection import GridSearchCV"
   ]
  },
  {
   "cell_type": "markdown",
   "metadata": {},
   "source": [
    "GridSearchCV имеет такой же интерфейс, как и классификатор, с фит-предикт. Но, в отличие от обычного классификатора, во время вызова fit обучается не одна модель, а несколько. Более подробно:\n",
    "1. Для каждого варианта коэффициента регуляризации:\n",
    "    1. Разделить выборку на несколько блоков\n",
    "    2. Повторять несколько раз: выбрать один блок как тестовую выборку, все остальные - как обучающие. Обучить модель, вычислить качество на тестовом блоке.\n",
    "    3. Усреднить качество по всем повторам с предыдущего шага.\n",
    "2. Выбрать коэффициент регуляризации с лучшим средним качеством\n",
    "3. Переобучить модель на всех обучающих данных с выбранным коэффициентом регуляризации.\n",
    "\n",
    "В итоге, после вызова fit, в атрибуте .best\\_estimator\\_ будет храниться итоговая модель (с ней можно будет делать все то же самое, что с обычной логистической регрессией), а в атрибуте .grid\\_scores\\_ - история всех запусков.\n",
    "\n",
    "Запишите в переменную model\\_for\\_cv модель логистической регрессии с выбранной регуляризацией \"l1\", а в переменную param\\_grid - вектор коэффициентов регуляризации $1, 10, 100, \\dots, 10^9$ (воспользуйтесь numpy)."
   ]
  },
  {
   "cell_type": "code",
   "execution_count": 33,
   "metadata": {},
   "outputs": [],
   "source": [
    "model_for_gs = LogisticRegression( penalty='l1', solver='liblinear')\n",
    "param_grid = np.array([10**a for a in np.arange(10)])\n",
    "gs = GridSearchCV(model_for_gs, \\\n",
    "                   {\"C\":param_grid}, \\\n",
    "                   verbose=3)"
   ]
  },
  {
   "cell_type": "markdown",
   "metadata": {},
   "source": [
    "Запустите обучение:"
   ]
  },
  {
   "cell_type": "code",
   "execution_count": 35,
   "metadata": {},
   "outputs": [
    {
     "name": "stdout",
     "output_type": "stream",
     "text": [
      "Fitting 5 folds for each of 10 candidates, totalling 50 fits\n",
      "[CV] C=1 .............................................................\n",
      "[CV] ................................. C=1, score=0.975, total=   0.0s\n",
      "[CV] C=1 .............................................................\n",
      "[CV] ................................. C=1, score=0.976, total=   0.0s\n",
      "[CV] C=1 .............................................................\n",
      "[CV] ................................. C=1, score=0.976, total=   0.0s\n",
      "[CV] C=1 .............................................................\n",
      "[CV] ................................. C=1, score=0.975, total=   0.0s\n",
      "[CV] C=1 .............................................................\n",
      "[CV] ................................. C=1, score=0.980, total=   0.0s\n",
      "[CV] C=10 ............................................................\n",
      "[CV] ................................ C=10, score=0.980, total=   0.0s\n",
      "[CV] C=10 ............................................................\n",
      "[CV] ................................ C=10, score=0.976, total=   0.0s\n",
      "[CV] C=10 ............................................................\n"
     ]
    },
    {
     "name": "stderr",
     "output_type": "stream",
     "text": [
      "[Parallel(n_jobs=1)]: Using backend SequentialBackend with 1 concurrent workers.\n",
      "[Parallel(n_jobs=1)]: Done   1 out of   1 | elapsed:    0.0s remaining:    0.0s\n",
      "[Parallel(n_jobs=1)]: Done   2 out of   2 | elapsed:    0.0s remaining:    0.0s\n"
     ]
    },
    {
     "name": "stdout",
     "output_type": "stream",
     "text": [
      "[CV] ................................ C=10, score=0.976, total=   0.1s\n",
      "[CV] C=10 ............................................................\n",
      "[CV] ................................ C=10, score=0.980, total=   0.0s\n",
      "[CV] C=10 ............................................................\n",
      "[CV] ................................ C=10, score=0.982, total=   0.0s\n",
      "[CV] C=100 ...........................................................\n",
      "[CV] ............................... C=100, score=0.975, total=   0.0s\n",
      "[CV] C=100 ...........................................................\n",
      "[CV] ............................... C=100, score=0.978, total=   0.0s\n",
      "[CV] C=100 ...........................................................\n",
      "[CV] ............................... C=100, score=0.976, total=   0.0s\n",
      "[CV] C=100 ...........................................................\n",
      "[CV] ............................... C=100, score=0.981, total=   0.0s\n",
      "[CV] C=100 ...........................................................\n",
      "[CV] ............................... C=100, score=0.984, total=   0.0s\n",
      "[CV] C=1000 ..........................................................\n",
      "[CV] .............................. C=1000, score=0.972, total=   0.0s\n",
      "[CV] C=1000 ..........................................................\n",
      "[CV] .............................. C=1000, score=0.978, total=   0.0s\n",
      "[CV] C=1000 ..........................................................\n",
      "[CV] .............................. C=1000, score=0.977, total=   0.0s\n",
      "[CV] C=1000 ..........................................................\n",
      "[CV] .............................. C=1000, score=0.981, total=   0.0s\n",
      "[CV] C=1000 ..........................................................\n",
      "[CV] .............................. C=1000, score=0.987, total=   0.0s\n",
      "[CV] C=10000 .........................................................\n",
      "[CV] ............................. C=10000, score=0.969, total=   0.0s\n",
      "[CV] C=10000 .........................................................\n",
      "[CV] ............................. C=10000, score=0.976, total=   0.0s\n",
      "[CV] C=10000 .........................................................\n",
      "[CV] ............................. C=10000, score=0.972, total=   0.0s\n",
      "[CV] C=10000 .........................................................\n",
      "[CV] ............................. C=10000, score=0.971, total=   0.0s\n",
      "[CV] C=10000 .........................................................\n",
      "[CV] ............................. C=10000, score=0.988, total=   0.0s\n",
      "[CV] C=100000 ........................................................\n",
      "[CV] ............................ C=100000, score=0.970, total=   0.0s\n",
      "[CV] C=100000 ........................................................\n",
      "[CV] ............................ C=100000, score=0.968, total=   0.0s\n",
      "[CV] C=100000 ........................................................\n",
      "[CV] ............................ C=100000, score=0.969, total=   0.0s\n",
      "[CV] C=100000 ........................................................\n",
      "[CV] ............................ C=100000, score=0.974, total=   0.0s\n",
      "[CV] C=100000 ........................................................\n",
      "[CV] ............................ C=100000, score=0.978, total=   0.0s\n",
      "[CV] C=1000000 .......................................................\n",
      "[CV] ........................... C=1000000, score=0.956, total=   0.0s\n",
      "[CV] C=1000000 .......................................................\n",
      "[CV] ........................... C=1000000, score=0.959, total=   0.0s\n",
      "[CV] C=1000000 .......................................................\n",
      "[CV] ........................... C=1000000, score=0.955, total=   0.0s\n",
      "[CV] C=1000000 .......................................................\n",
      "[CV] ........................... C=1000000, score=0.959, total=   0.0s\n",
      "[CV] C=1000000 .......................................................\n",
      "[CV] ........................... C=1000000, score=0.972, total=   0.0s\n",
      "[CV] C=10000000 ......................................................\n",
      "[CV] .......................... C=10000000, score=0.964, total=   0.0s\n",
      "[CV] C=10000000 ......................................................\n",
      "[CV] .......................... C=10000000, score=0.955, total=   0.0s\n",
      "[CV] C=10000000 ......................................................\n",
      "[CV] .......................... C=10000000, score=0.958, total=   0.0s\n",
      "[CV] C=10000000 ......................................................\n",
      "[CV] .......................... C=10000000, score=0.957, total=   0.0s\n",
      "[CV] C=10000000 ......................................................\n",
      "[CV] .......................... C=10000000, score=0.969, total=   0.0s\n",
      "[CV] C=100000000 .....................................................\n",
      "[CV] ......................... C=100000000, score=0.955, total=   0.0s\n",
      "[CV] C=100000000 .....................................................\n",
      "[CV] ......................... C=100000000, score=0.951, total=   0.0s\n",
      "[CV] C=100000000 .....................................................\n",
      "[CV] ......................... C=100000000, score=0.955, total=   0.0s\n",
      "[CV] C=100000000 .....................................................\n",
      "[CV] ......................... C=100000000, score=0.955, total=   0.0s\n",
      "[CV] C=100000000 .....................................................\n",
      "[CV] ......................... C=100000000, score=0.969, total=   0.0s\n",
      "[CV] C=1000000000 ....................................................\n",
      "[CV] ........................ C=1000000000, score=0.955, total=   0.0s\n",
      "[CV] C=1000000000 ....................................................\n",
      "[CV] ........................ C=1000000000, score=0.957, total=   0.0s\n",
      "[CV] C=1000000000 ....................................................\n",
      "[CV] ........................ C=1000000000, score=0.958, total=   0.0s\n",
      "[CV] C=1000000000 ....................................................\n",
      "[CV] ........................ C=1000000000, score=0.961, total=   0.0s\n",
      "[CV] C=1000000000 ....................................................\n",
      "[CV] ........................ C=1000000000, score=0.965, total=   0.0s\n"
     ]
    },
    {
     "name": "stderr",
     "output_type": "stream",
     "text": [
      "[Parallel(n_jobs=1)]: Done  50 out of  50 | elapsed:    1.2s finished\n"
     ]
    },
    {
     "data": {
      "text/plain": [
       "GridSearchCV(estimator=LogisticRegression(penalty='l1', solver='liblinear'),\n",
       "             param_grid={'C': array([         1,         10,        100,       1000,      10000,\n",
       "           100000,    1000000,   10000000,  100000000, 1000000000])},\n",
       "             verbose=3)"
      ]
     },
     "execution_count": 35,
     "metadata": {},
     "output_type": "execute_result"
    }
   ],
   "source": [
    "### your code here\n",
    "gs.fit(X_train, y_train)"
   ]
  },
  {
   "cell_type": "markdown",
   "metadata": {},
   "source": [
    "Построим график: коэффициент регуляризации - качество:"
   ]
  },
  {
   "cell_type": "code",
   "execution_count": 36,
   "metadata": {},
   "outputs": [
    {
     "data": {
      "text/plain": [
       "Text(0, 0.5, 'accuracy')"
      ]
     },
     "execution_count": 36,
     "metadata": {},
     "output_type": "execute_result"
    },
    {
     "data": {
      "image/png": "[encoded data removed]",
      "text/plain": [
       "<Figure size 432x288 with 1 Axes>"
      ]
     },
     "metadata": {
      "needs_background": "light"
     },
     "output_type": "display_data"
    }
   ],
   "source": [
    "cs = np.log10([elem for elem in gs.cv_results_['param_C']])\n",
    "quals = [elem for elem in gs.cv_results_['mean_test_score']]\n",
    "plt.plot(cs, quals)\n",
    "\n",
    "plt.xlabel(\"log10 of C\")\n",
    "plt.ylabel(\"accuracy\")"
   ]
  },
  {
   "cell_type": "markdown",
   "metadata": {},
   "source": [
    "Какое C оптимально? Что происходит при очень больших и маленьких С? Обратите внимание, что в логистической регрессии на самом деле коэффициент регуляризации равен $\\frac 1 C$, то есть чем больше C, тем меньше коэффициент.\n",
    "\n",
    "__Ваш комментарий:__ Наиболее оптимально С = 10^3, то есть C = 1000. При таком значении достигается наивысшее значение качества модели.\n",
    "\n",
    "При больших С коэффициент регуляризации уменьшается, при маленьких С - увеличивается. При С = 1 коэффициент регулиризации равен единице. Из полученных на кросс-валидации для разных С accuracy можно утверждать, что при увеличении С от единицы к очень большим значениям коэффициент регуляризации (который уменьшается) сначала доходит до оптимальной точки, где штраф за веса минимизирует возможные эффекты переобучения (и модель становится максимально близка к истинному распределению), однако затем модель ухудшается, потому что все больше и больше подстраивается под имеющиеся данные (штраф очень маленький)."
   ]
  },
  {
   "cell_type": "markdown",
   "metadata": {},
   "source": [
    "Какова доля нулевых весов в модели с лучшим C? "
   ]
  },
  {
   "cell_type": "code",
   "execution_count": 43,
   "metadata": {},
   "outputs": [
    {
     "name": "stdout",
     "output_type": "stream",
     "text": [
      "Share of zero weights in a model with best C: 92.94158154481809%\n"
     ]
    }
   ],
   "source": [
    "## your code here\n",
    "best_model = gs.best_estimator_\n",
    "best_coefs = best_model.coef_\n",
    "zero_percent_best_model = (best_coefs.shape[1] - np.count_nonzero(best_coefs))/best_coefs.shape[1]*100\n",
    "print('Share of zero weights in a model with best C: ', zero_percent_best_model, '%', sep='')"
   ]
  },
  {
   "cell_type": "markdown",
   "metadata": {},
   "source": [
    "Какое качество показывает модель с лучшим C на наших отложенных, тестовых данных?"
   ]
  },
  {
   "cell_type": "code",
   "execution_count": 50,
   "metadata": {},
   "outputs": [
    {
     "name": "stdout",
     "output_type": "stream",
     "text": [
      "Accuracy for test data in a model with best C: 0.990667623833453\n"
     ]
    }
   ],
   "source": [
    "## your code here\n",
    "preds_best = best_model.predict(X_test)\n",
    "print('Accuracy for test data in a model with best C:', accuracy_score(y_test, preds_best))"
   ]
  },
  {
   "cell_type": "markdown",
   "metadata": {},
   "source": [
    "Сравните неразреженную (без регуляризации) и разреженную (с оптимальным C) модели по качеству на тестовой выборке и доле нулевых весов.\n",
    "\n",
    "__Ваш комментарий:__ С точки зрения качества модель с регуляризацией оказалась лучше на тестовой выборке, чем базовая модель без регуляризации (accuracy = 0,985 для базовой против 0,991 для модели с оптимальным С). При этом это качество было достигнуто, похоже, за счет \"исключения\" из модели большого количества переменных: в базовой модели доля переменных с нулевым весом составила 14,23 процента, в модели с регуляризацией - 92,94 процента). Ниже для удобства отображены все показатели для сравнения"
   ]
  },
  {
   "cell_type": "code",
   "execution_count": 58,
   "metadata": {},
   "outputs": [
    {
     "name": "stdout",
     "output_type": "stream",
     "text": [
      "---ACCURACY---\n",
      "Accuracy for test data in a basic model:  0.9849246231155779\n",
      "Accuracy for test data in a model with best C: 0.990667623833453\n",
      "\n",
      "---SHARE OF ZERO WEIGHTS---\n",
      "Share of zero weights in a basic model: 14.2316079421554%\n",
      "Share of zero weights in a model with best C: 92.94158154481809%\n"
     ]
    }
   ],
   "source": [
    "print('---ACCURACY---')\n",
    "print('Accuracy for test data in a basic model: ', accuracy_score(y_test, pred_test))\n",
    "print('Accuracy for test data in a model with best C:', accuracy_score(y_test, preds_best), end = '\\n\\n')\n",
    "\n",
    "print('---SHARE OF ZERO WEIGHTS---')\n",
    "print('Share of zero weights in a basic model: ', zero_percent_basic, '%', sep='')\n",
    "print('Share of zero weights in a model with best C: ', zero_percent_best_model, '%', sep='')"
   ]
  },
  {
   "cell_type": "code",
   "execution_count": null,
   "metadata": {},
   "outputs": [],
   "source": []
  }
 ],
 "metadata": {
  "kernelspec": {
   "display_name": "Python 3",
   "language": "python",
   "name": "python3"
  },
  "language_info": {
   "codemirror_mode": {
    "name": "ipython",
    "version": 3
   },
   "file_extension": ".py",
   "mimetype": "text/x-python",
   "name": "python",
   "nbconvert_exporter": "python",
   "pygments_lexer": "ipython3",
   "version": "3.8.5"
  }
 },
 "nbformat": 4,
 "nbformat_minor": 2
}
