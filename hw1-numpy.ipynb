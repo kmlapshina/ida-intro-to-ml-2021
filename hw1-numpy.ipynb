{
 "cells": [
  {
   "cell_type": "code",
   "execution_count": 1,
   "metadata": {},
   "outputs": [],
   "source": [
    "import numpy as np"
   ]
  },
  {
   "cell_type": "markdown",
   "metadata": {},
   "source": [
    "# Домашнее задание на повторение numpy\n",
    "В задании все пункты необходимо выполнить с помощью numpy, без использования циклов/map/и тд! \n",
    "\n",
    "Задание выполняется __самостоятельно__. Категорически запрещено пользоваться чужими решениями заданий (даже смотреть их), в том числе, размещенными в открытых источниках (если таковые обнаружатся). При обнаружении списывания выставляется 0 за задание (в случае списывания у одногруппника/однокурскника - __ему/ей тоже__), а также подается докладная записка в учебный офис. Проверка на списывание проводится и автоматическими средствами, и вручную.\n",
    "\n",
    "### История\n",
    "\n",
    "В конце каждого семестра каждый семинарист сталкивается с необходимостью выставить студентам накопленную в семестре оценку. Часто семинаристы делают это с помощью Excel или GoogleSheets, но поверьте, с этим возникают проблемы. В задании вам надо помочь семинаристу некоторого курса выполнить эту непростую работу с помощью numpy :)\n",
    "\n",
    "Выполните ячейку ниже, чтобы загрузить данные и визуально проверить корректность их считывания.\n",
    "\n",
    "По строкам - студенты, по столбцам - их оценки. В курсе семинарист провел три проверочных (первые три колонки), выдал три домашних работы (следующие три колонки), кроме того, у студентов есть оценка за коллоквиум (последняя колонка)."
   ]
  },
  {
   "cell_type": "code",
   "execution_count": 2,
   "metadata": {},
   "outputs": [],
   "source": [
    "marks = np.loadtxt(\"https://raw.githubusercontent.com/nadiinchi/iad2019/master/materials/data_hw1.txt\")"
   ]
  },
  {
   "cell_type": "code",
   "execution_count": 3,
   "metadata": {},
   "outputs": [
    {
     "data": {
      "text/plain": [
       "array([[ 7. ,  8. , 10. ,  0. ,  0. ,  2.1,  1.5],\n",
       "       [ 0. ,  6. ,  4.4,  4. ,  0. ,  5. ,  4.3],\n",
       "       [ 3. ,  7. ,  8.7,  7.6,  7. ,  9.7, 10. ]])"
      ]
     },
     "execution_count": 3,
     "metadata": {},
     "output_type": "execute_result"
    }
   ],
   "source": [
    "marks[:3]"
   ]
  },
  {
   "cell_type": "markdown",
   "metadata": {},
   "source": [
    "### Число студентов (0.5 балла)\n",
    "Сколько студентов в группе семинариста?"
   ]
  },
  {
   "cell_type": "code",
   "execution_count": 4,
   "metadata": {},
   "outputs": [],
   "source": [
    "# Записать ответ в переменную num_studs\n",
    "num_studs = marks.shape[0]"
   ]
  },
  {
   "cell_type": "code",
   "execution_count": 5,
   "metadata": {},
   "outputs": [
    {
     "name": "stdout",
     "output_type": "stream",
     "text": [
      "28\n"
     ]
    }
   ],
   "source": [
    "print(num_studs)"
   ]
  },
  {
   "cell_type": "markdown",
   "metadata": {},
   "source": [
    "### Очень сложная проверочная, или просто добрый семинарист (1.25 балла)\n",
    "Семинарист помнит, что первая проверочная получилась очень сложной, и максимальный балл в группе был далеко не 10. Поэтому он решил перенормировать баллы за эту проверочную на максимум по группе (поделить на максимум и умножить на 10) - чтобы у студента с максимальной оценкой получилось 10, а у остальных - просто оценка больше."
   ]
  },
  {
   "cell_type": "markdown",
   "metadata": {},
   "source": [
    "Каков максимальный балл за первую проверочную?"
   ]
  },
  {
   "cell_type": "code",
   "execution_count": 6,
   "metadata": {},
   "outputs": [],
   "source": [
    "# Записать ответ в переменную max_mark\n",
    "\n",
    "num = 0 #первая проверочная\n",
    "max_mark = np.max(marks, axis=0)[num]"
   ]
  },
  {
   "cell_type": "code",
   "execution_count": 7,
   "metadata": {},
   "outputs": [
    {
     "name": "stdout",
     "output_type": "stream",
     "text": [
      "7.0\n"
     ]
    }
   ],
   "source": [
    "print(max_mark)"
   ]
  },
  {
   "cell_type": "markdown",
   "metadata": {},
   "source": [
    "Разделите первый столбец на max_mark (для этого надо выделить столбец, поставить после соответствующего выражения знак = и присвоить новое значение столбца)"
   ]
  },
  {
   "cell_type": "code",
   "execution_count": 8,
   "metadata": {},
   "outputs": [],
   "source": [
    "marks[:, num] = marks[:, num] / max_mark * 10"
   ]
  },
  {
   "cell_type": "markdown",
   "metadata": {
    "collapsed": true
   },
   "source": [
    "Снова вычислите максимальный балл за первую проверочную (теперь он должен быть равен 10):"
   ]
  },
  {
   "cell_type": "code",
   "execution_count": 9,
   "metadata": {},
   "outputs": [
    {
     "name": "stdout",
     "output_type": "stream",
     "text": [
      "10.0\n"
     ]
    }
   ],
   "source": [
    "max_mark_new = np.max(marks, axis=0)[num]\n",
    "print(max_mark_new)"
   ]
  },
  {
   "cell_type": "markdown",
   "metadata": {},
   "source": [
    "### Подсчет накопленной оценки (1.25 балла)\n",
    "Для вычисления накопленной надо посчитать средние оценки за проверочные для каждого студента и средние за домашние работы (может пригодиться np.mean). Накопленная оценка есть 0.3\\*Проверочные + 0.4\\*Домашние + 0.3\\*Коллоквиум. Вычислите накопленные оценки и добавьте их в последний столбец матрицы (нужно добавить еще один новый столбец)."
   ]
  },
  {
   "cell_type": "code",
   "execution_count": 10,
   "metadata": {},
   "outputs": [],
   "source": [
    "# Веса следует брать из переменной weights, а не вписывать вручную\n",
    "# Используйте np.dot\n",
    "weights = [0.3, 0.4, 0.3]\n",
    "\n",
    "#Будут умножаться матрицы размеров (28, 3) и (3, 1) = (28, 1)"
   ]
  },
  {
   "cell_type": "code",
   "execution_count": 11,
   "metadata": {},
   "outputs": [],
   "source": [
    "#Готовлю столбцы для матрицы со средними \n",
    "test_mean = np.mean(marks[:, :3], axis=1)\n",
    "hw_mean = np.mean(marks[:, 3:6], axis=1)\n",
    "col_mark = marks[:, 6]"
   ]
  },
  {
   "cell_type": "code",
   "execution_count": 12,
   "metadata": {},
   "outputs": [
    {
     "data": {
      "text/plain": [
       "(28, 3)"
      ]
     },
     "execution_count": 12,
     "metadata": {},
     "output_type": "execute_result"
    }
   ],
   "source": [
    "marks_means = np.vstack((test_mean, hw_mean, col_mark)).T\n",
    "marks_means.shape # Матрица для расчета накполеннной"
   ]
  },
  {
   "cell_type": "code",
   "execution_count": 13,
   "metadata": {},
   "outputs": [],
   "source": [
    "pre_finals = np.dot(marks_means, weights) # Вычисляю накопленные оценки"
   ]
  },
  {
   "cell_type": "code",
   "execution_count": 14,
   "metadata": {},
   "outputs": [
    {
     "data": {
      "text/plain": [
       "(28, 8)"
      ]
     },
     "execution_count": 14,
     "metadata": {},
     "output_type": "execute_result"
    }
   ],
   "source": [
    "marks = np.append(marks, pre_finals.reshape(num_studs, 1), axis=1) # Добавляю столбец с накопленными оценками в общую таблицу\n",
    "marks.shape"
   ]
  },
  {
   "cell_type": "code",
   "execution_count": 15,
   "metadata": {},
   "outputs": [
    {
     "data": {
      "text/plain": [
       "array([[10.        ,  8.        , 10.        ,  0.        ,  0.        ,\n",
       "         2.1       ,  1.5       ,  3.53      ],\n",
       "       [ 0.        ,  6.        ,  4.4       ,  4.        ,  0.        ,\n",
       "         5.        ,  4.3       ,  3.53      ],\n",
       "       [ 4.28571429,  7.        ,  8.7       ,  7.6       ,  7.        ,\n",
       "         9.7       , 10.        ,  8.23857143]])"
      ]
     },
     "execution_count": 15,
     "metadata": {},
     "output_type": "execute_result"
    }
   ],
   "source": [
    "marks[:3] #Накопленные на месте"
   ]
  },
  {
   "cell_type": "markdown",
   "metadata": {},
   "source": [
    "### Студенты, которых, вероятно, отчислят (1.25 балла)"
   ]
  },
  {
   "cell_type": "markdown",
   "metadata": {},
   "source": [
    "Сколько в группе студентов с накопленной оценкой 0? Вам может понадобиться тот факт, что применение np.sum к бинарному вектору дает число значений True в нем, например:"
   ]
  },
  {
   "cell_type": "code",
   "execution_count": 16,
   "metadata": {},
   "outputs": [
    {
     "data": {
      "text/plain": [
       "2"
      ]
     },
     "execution_count": 16,
     "metadata": {},
     "output_type": "execute_result"
    }
   ],
   "source": [
    "np.sum([True, False, True]) # 2 значения True"
   ]
  },
  {
   "cell_type": "markdown",
   "metadata": {
    "collapsed": true
   },
   "source": [
    "Также обратим внимание на операцию поэлементного сравнения, возвращающую массив из True и False:"
   ]
  },
  {
   "cell_type": "code",
   "execution_count": 17,
   "metadata": {},
   "outputs": [
    {
     "name": "stdout",
     "output_type": "stream",
     "text": [
      "[False False  True]\n",
      "[False False False]\n"
     ]
    }
   ],
   "source": [
    "a = np.array([1, 2, 3])\n",
    "b = np.array([2, 3, 3])\n",
    "print(a == b)\n",
    "print(a > b)"
   ]
  },
  {
   "cell_type": "code",
   "execution_count": null,
   "metadata": {},
   "outputs": [],
   "source": []
  },
  {
   "cell_type": "code",
   "execution_count": 18,
   "metadata": {},
   "outputs": [],
   "source": [
    "zero_pre_finals = np.zeros((num_studs))\n",
    "prob_exp_num = np.sum(pre_finals == zero_pre_finals)"
   ]
  },
  {
   "cell_type": "code",
   "execution_count": 19,
   "metadata": {},
   "outputs": [
    {
     "name": "stdout",
     "output_type": "stream",
     "text": [
      "3\n"
     ]
    }
   ],
   "source": [
    "print(prob_exp_num) # Итого трое кандидатов на отчисление"
   ]
  },
  {
   "cell_type": "markdown",
   "metadata": {},
   "source": [
    "### Студенты, которые получат автоматы (1.25 балла)\n",
    "Автомат получат студенты, у которых накопленная оценка больше 7. Добавьте еще один столбец - в нем стоит 1, если студент получает автомат, и 0 иначе."
   ]
  },
  {
   "cell_type": "code",
   "execution_count": 20,
   "metadata": {},
   "outputs": [],
   "source": [
    "auto = np.zeros((num_studs))\n",
    "auto[pre_finals > 7.0] = 1"
   ]
  },
  {
   "cell_type": "code",
   "execution_count": 21,
   "metadata": {},
   "outputs": [],
   "source": [
    "marks = np.append(marks, auto.reshape(num_studs, 1), axis=1) # Добавляю столбец с данными по автомату"
   ]
  },
  {
   "cell_type": "code",
   "execution_count": 22,
   "metadata": {},
   "outputs": [
    {
     "data": {
      "text/plain": [
       "array([[10.        ,  8.        , 10.        ,  0.        ,  0.        ,\n",
       "         2.1       ,  1.5       ,  3.53      ,  0.        ],\n",
       "       [ 0.        ,  6.        ,  4.4       ,  4.        ,  0.        ,\n",
       "         5.        ,  4.3       ,  3.53      ,  0.        ],\n",
       "       [ 4.28571429,  7.        ,  8.7       ,  7.6       ,  7.        ,\n",
       "         9.7       , 10.        ,  8.23857143,  1.        ]])"
      ]
     },
     "execution_count": 22,
     "metadata": {},
     "output_type": "execute_result"
    }
   ],
   "source": [
    "marks[:3] #Данные по автомату появились в таблице с оценками"
   ]
  },
  {
   "cell_type": "markdown",
   "metadata": {},
   "source": [
    "### Студенты, которые будут освобождены от задач на экзамене (1.25 балла)\n",
    "Семинарист решил, что первая половина группы в рейтинге по накопленной оценке будет освобождена от решения задач на экзамене. Выделите этих студентов в отдельный массив. Для этого надо отсортировать строки массива (np.argsort) и взять первую половину."
   ]
  },
  {
   "cell_type": "code",
   "execution_count": 23,
   "metadata": {},
   "outputs": [],
   "source": [
    "marks_sorted = marks[np.argsort(marks[:, -2])]\n",
    "top_studs = marks_sorted[num_studs//2:]"
   ]
  },
  {
   "cell_type": "code",
   "execution_count": 24,
   "metadata": {},
   "outputs": [
    {
     "name": "stdout",
     "output_type": "stream",
     "text": [
      "[[ 4.28571429  7.          8.7         7.6         7.          9.7\n",
      "  10.          8.23857143  1.        ]\n",
      " [ 8.57142857 10.         10.          9.7         7.         10.\n",
      "   7.          8.51714286  1.        ]\n",
      " [ 0.          8.7         8.          9.7        10.          9.5\n",
      "  10.          8.56333333  1.        ]\n",
      " [ 7.14285714 10.          9.          7.          7.9        10.\n",
      "   9.          8.63428571  1.        ]\n",
      " [ 8.57142857  5.         10.          9.7        10.         10.\n",
      "   8.          8.71714286  1.        ]\n",
      " [ 5.          9.3        10.          9.9        10.         10.\n",
      "   8.          8.81666667  1.        ]\n",
      " [ 8.57142857 10.          9.7         8.7         7.          8.5\n",
      "   9.7         8.96380952  1.        ]\n",
      " [ 4.28571429  8.7        10.          9.4        10.7        10.\n",
      "   9.          9.01190476  1.        ]\n",
      " [10.         10.         10.          9.          9.5        10.\n",
      "   8.          9.2         1.        ]\n",
      " [ 5.71428571 10.         10.          9.9         9.7        10.\n",
      "   9.          9.21809524  1.        ]\n",
      " [ 7.14285714 10.         10.          9.9        10.5        10.\n",
      "   9.          9.46761905  1.        ]\n",
      " [10.          9.7        10.          8.1        10.         10.\n",
      "   9.5         9.56666667  1.        ]\n",
      " [ 9.28571429  8.7         9.5        10.5         9.8        10.\n",
      "  10.          9.78857143  1.        ]\n",
      " [10.         10.         10.          9.7        10.         10.\n",
      "  10.          9.96        1.        ]]\n"
     ]
    }
   ],
   "source": [
    "print(top_studs)"
   ]
  },
  {
   "cell_type": "markdown",
   "metadata": {},
   "source": [
    "### Сложность заданий (1.25 балла)\n",
    "После выставления оценок семинаристу нужно решить, как усовершнествовать курс в будущем году. Семинарист хочет оценить сложность заданий, проверочных и коллоквиума по своей особой системе. Он присвоил каждому студенту вес (веса суммируются в 1) и хочет посчитать для каждого задания, проверочной и коллоквиума среднюю оценку с весами.\n",
    "Пример, что имеется в виду: если есть 4 студента с весами [0.1, 0.2, 0.3, 0.4] и оценками [3, 7, 9, 10], то средняя оценка за задание с весами получится "
   ]
  },
  {
   "cell_type": "code",
   "execution_count": 25,
   "metadata": {},
   "outputs": [
    {
     "data": {
      "text/plain": [
       "8.4"
      ]
     },
     "execution_count": 25,
     "metadata": {},
     "output_type": "execute_result"
    }
   ],
   "source": [
    "0.1 * 3 + 0.2 * 7 + 0.3 * 9 + 0.4 * 10 "
   ]
  },
  {
   "cell_type": "markdown",
   "metadata": {},
   "source": [
    "Веса:"
   ]
  },
  {
   "cell_type": "code",
   "execution_count": 26,
   "metadata": {},
   "outputs": [],
   "source": [
    "weights = np.array([1.]*7+[2.]*4+[3.]*7+[4.]*(marks.shape[0]-18))\n",
    "# разделите веса на их сумму, чтобы они суммировались к 1\n",
    "weights = weights/np.sum(weights)"
   ]
  },
  {
   "cell_type": "code",
   "execution_count": 27,
   "metadata": {},
   "outputs": [],
   "source": [
    "#np.sum(weights)"
   ]
  },
  {
   "cell_type": "markdown",
   "metadata": {},
   "source": [
    "Посчитайте указанным образом сложность каждого \"столбца\"."
   ]
  },
  {
   "cell_type": "code",
   "execution_count": 28,
   "metadata": {},
   "outputs": [],
   "source": [
    "weighted_marks = marks[:, :-2] * weights.reshape(num_studs, 1)\n",
    "weighted_means = np.sum(weighted_marks, axis=0)"
   ]
  },
  {
   "cell_type": "code",
   "execution_count": 29,
   "metadata": {},
   "outputs": [
    {
     "name": "stdout",
     "output_type": "stream",
     "text": [
      "[4.90037594 7.11973684 7.85789474 6.16447368 4.83289474 5.87894737\n",
      " 4.87368421]\n"
     ]
    }
   ],
   "source": [
    "print(weighted_means) #Средние взвешенные баллы за каждую работу"
   ]
  },
  {
   "cell_type": "code",
   "execution_count": null,
   "metadata": {},
   "outputs": [],
   "source": []
  },
  {
   "cell_type": "markdown",
   "metadata": {},
   "source": [
    "### Визуализация данных (2=1.5+0.5 балла)\n",
    "Наконец, семинарист решил визуализировать оценки. Постройте три точечных графика (scatter plot): на каждом по оси y будет накопленная оценка студента (вы рассчитали ее выше), а по оси x на одном графике средняя оценка за проверочные, на втором - за домашние работы, на третьем - за коллоквиум. Обязательно подпишите графики и оси!"
   ]
  },
  {
   "cell_type": "code",
   "execution_count": 30,
   "metadata": {},
   "outputs": [],
   "source": [
    "from matplotlib import pyplot as plt\n",
    "%matplotlib inline\n",
    "# другие библиотеки использовать нельзя"
   ]
  },
  {
   "cell_type": "code",
   "execution_count": 31,
   "metadata": {},
   "outputs": [
    {
     "data": {
      "text/plain": [
       "Text(0.5, 1.0, 'Scatter plot for pre-final marks')"
      ]
     },
     "execution_count": 31,
     "metadata": {},
     "output_type": "execute_result"
    },
    {
     "data": {
      "image/png": "[encoded data removed]",
      "text/plain": [
       "<Figure size 432x288 with 1 Axes>"
      ]
     },
     "metadata": {
      "needs_background": "light"
     },
     "output_type": "display_data"
    }
   ],
   "source": [
    "plt.scatter(test_mean, pre_finals)\n",
    "plt.xlabel(\"Mean marks for tests\", fontsize=15)\n",
    "plt.ylabel(\"Pre-final marks\", fontsize=15)\n",
    "plt.title(\"Scatter plot for pre-final marks\", fontsize=17)"
   ]
  },
  {
   "cell_type": "code",
   "execution_count": 32,
   "metadata": {},
   "outputs": [
    {
     "data": {
      "text/plain": [
       "Text(0.5, 1.0, 'Scatter plot for pre-final marks')"
      ]
     },
     "execution_count": 32,
     "metadata": {},
     "output_type": "execute_result"
    },
    {
     "data": {
      "image/png": "[encoded data removed]",
      "text/plain": [
       "<Figure size 432x288 with 1 Axes>"
      ]
     },
     "metadata": {
      "needs_background": "light"
     },
     "output_type": "display_data"
    }
   ],
   "source": [
    "plt.scatter(hw_mean, pre_finals)\n",
    "plt.xlabel(\"Mean marks for homeworks\", fontsize=15)\n",
    "plt.ylabel(\"Pre-final marks\", fontsize=15)\n",
    "plt.title(\"Scatter plot for pre-final marks\", fontsize=17)"
   ]
  },
  {
   "cell_type": "code",
   "execution_count": 33,
   "metadata": {},
   "outputs": [
    {
     "data": {
      "text/plain": [
       "Text(0.5, 1.0, 'Scatter plot for pre-final marks')"
      ]
     },
     "execution_count": 33,
     "metadata": {},
     "output_type": "execute_result"
    },
    {
     "data": {
      "image/png": "[encoded data removed]",
      "text/plain": [
       "<Figure size 432x288 with 1 Axes>"
      ]
     },
     "metadata": {
      "needs_background": "light"
     },
     "output_type": "display_data"
    }
   ],
   "source": [
    "plt.scatter(col_mark, pre_finals)\n",
    "plt.xlabel(\"Marks for a colloquium\", fontsize=15)\n",
    "plt.ylabel(\"Pre-final marks\", fontsize=15)\n",
    "plt.title(\"Scatter plot for pre-final marks\", fontsize=17)"
   ]
  },
  {
   "cell_type": "markdown",
   "metadata": {},
   "source": [
    "На отдельном графике визуализируйте отсортированные накопленные оценки: отсортруйте столбец с помощью функции np.sort, разверните слева направо (чтобы оценки оказались отсортированы по убыванию) и визуализируйте его с помощью функции plt.plot. Вновь не забудьте подписать оси!"
   ]
  },
  {
   "cell_type": "code",
   "execution_count": 34,
   "metadata": {},
   "outputs": [],
   "source": [
    "p_f_sorted = np.sort(pre_finals)[::-1]"
   ]
  },
  {
   "cell_type": "code",
   "execution_count": 35,
   "metadata": {},
   "outputs": [
    {
     "data": {
      "text/plain": [
       "Text(0.5, 1.0, 'Plot for pre-final marks')"
      ]
     },
     "execution_count": 35,
     "metadata": {},
     "output_type": "execute_result"
    },
    {
     "data": {
      "image/png": "[encoded data removed]",
      "text/plain": [
       "<Figure size 432x288 with 1 Axes>"
      ]
     },
     "metadata": {
      "needs_background": "light"
     },
     "output_type": "display_data"
    }
   ],
   "source": [
    "plt.plot(p_f_sorted)\n",
    "plt.xlabel(\"Cumulative number of students\", fontsize=15)\n",
    "plt.ylabel(\"Pre-final marks\", fontsize=15)\n",
    "plt.title(\"Plot for pre-final marks\", fontsize=17)"
   ]
  },
  {
   "cell_type": "code",
   "execution_count": null,
   "metadata": {},
   "outputs": [],
   "source": []
  }
 ],
 "metadata": {
  "kernelspec": {
   "display_name": "Python 3",
   "language": "python",
   "name": "python3"
  },
  "language_info": {
   "codemirror_mode": {
    "name": "ipython",
    "version": 3
   },
   "file_extension": ".py",
   "mimetype": "text/x-python",
   "name": "python",
   "nbconvert_exporter": "python",
   "pygments_lexer": "ipython3",
   "version": "3.7.4"
  }
 },
 "nbformat": 4,
 "nbformat_minor": 2
}
