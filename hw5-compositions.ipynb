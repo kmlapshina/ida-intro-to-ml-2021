{
 "cells": [
  {
   "cell_type": "markdown",
   "metadata": {},
   "source": [
    "# Домашнее задание 9. Настройка композиций алгоритмов\n",
    "\n",
    "В этом задании вы настроите случайный лес, градиентный бустинг, а также их композицию на данных\n",
    "соревнования [Mercedes-Benz Greener Manufacturing](https://www.kaggle.com/c/mercedes-benz-greener-manufacturing).\n",
    "\n",
    "Данные загружаются сразу из гитхаба ниже.\n",
    "\n",
    "Кратко о задаче: объекты - автомобили, целевая переменная - время, за которое автомобиль проходит тест, задача регрессии, качество измеряется с помощью $R^2$-метрики.\n",
    "\n",
    "Скрипт загрузки и базовой предобработки данных взят с [Kaggle Kernels](https://www.kaggle.com/anokas/mercedes-eda-xgboost-starter-0-55/notebook). В этом же ядре приводится базовый exploration данных."
   ]
  },
  {
   "cell_type": "markdown",
   "metadata": {},
   "source": [
    "## Загрузка данных"
   ]
  },
  {
   "cell_type": "code",
   "execution_count": 1,
   "metadata": {
    "_cell_guid": "45578147-cb22-cd2a-ccc7-1b81c82e137b"
   },
   "outputs": [],
   "source": [
    "import numpy as np\n",
    "import pandas as pd\n",
    "import os\n",
    "import gc\n",
    "import matplotlib.pyplot as plt\n",
    "# import seaborn as sns\n",
    "%matplotlib inline"
   ]
  },
  {
   "cell_type": "code",
   "execution_count": 2,
   "metadata": {
    "_cell_guid": "ba151bcc-e94e-3ff4-d213-4e80e7b4d956"
   },
   "outputs": [
    {
     "name": "stdout",
     "output_type": "stream",
     "text": [
      "Size of training set: 4209 rows and 378 columns\n"
     ]
    },
    {
     "data": {
      "text/html": [
       "<div>\n",
       "<style scoped>\n",
       "    .dataframe tbody tr th:only-of-type {\n",
       "        vertical-align: middle;\n",
       "    }\n",
       "\n",
       "    .dataframe tbody tr th {\n",
       "        vertical-align: top;\n",
       "    }\n",
       "\n",
       "    .dataframe thead th {\n",
       "        text-align: right;\n",
       "    }\n",
       "</style>\n",
       "<table border=\"1\" class=\"dataframe\">\n",
       "  <thead>\n",
       "    <tr style=\"text-align: right;\">\n",
       "      <th></th>\n",
       "      <th>ID</th>\n",
       "      <th>y</th>\n",
       "      <th>X0</th>\n",
       "      <th>X1</th>\n",
       "      <th>X2</th>\n",
       "      <th>X3</th>\n",
       "      <th>X4</th>\n",
       "      <th>X5</th>\n",
       "      <th>X6</th>\n",
       "      <th>X8</th>\n",
       "      <th>...</th>\n",
       "      <th>X375</th>\n",
       "      <th>X376</th>\n",
       "      <th>X377</th>\n",
       "      <th>X378</th>\n",
       "      <th>X379</th>\n",
       "      <th>X380</th>\n",
       "      <th>X382</th>\n",
       "      <th>X383</th>\n",
       "      <th>X384</th>\n",
       "      <th>X385</th>\n",
       "    </tr>\n",
       "  </thead>\n",
       "  <tbody>\n",
       "    <tr>\n",
       "      <th>0</th>\n",
       "      <td>0</td>\n",
       "      <td>130.81</td>\n",
       "      <td>k</td>\n",
       "      <td>v</td>\n",
       "      <td>at</td>\n",
       "      <td>a</td>\n",
       "      <td>d</td>\n",
       "      <td>u</td>\n",
       "      <td>j</td>\n",
       "      <td>o</td>\n",
       "      <td>...</td>\n",
       "      <td>0</td>\n",
       "      <td>0</td>\n",
       "      <td>1</td>\n",
       "      <td>0</td>\n",
       "      <td>0</td>\n",
       "      <td>0</td>\n",
       "      <td>0</td>\n",
       "      <td>0</td>\n",
       "      <td>0</td>\n",
       "      <td>0</td>\n",
       "    </tr>\n",
       "    <tr>\n",
       "      <th>1</th>\n",
       "      <td>6</td>\n",
       "      <td>88.53</td>\n",
       "      <td>k</td>\n",
       "      <td>t</td>\n",
       "      <td>av</td>\n",
       "      <td>e</td>\n",
       "      <td>d</td>\n",
       "      <td>y</td>\n",
       "      <td>l</td>\n",
       "      <td>o</td>\n",
       "      <td>...</td>\n",
       "      <td>1</td>\n",
       "      <td>0</td>\n",
       "      <td>0</td>\n",
       "      <td>0</td>\n",
       "      <td>0</td>\n",
       "      <td>0</td>\n",
       "      <td>0</td>\n",
       "      <td>0</td>\n",
       "      <td>0</td>\n",
       "      <td>0</td>\n",
       "    </tr>\n",
       "    <tr>\n",
       "      <th>2</th>\n",
       "      <td>7</td>\n",
       "      <td>76.26</td>\n",
       "      <td>az</td>\n",
       "      <td>w</td>\n",
       "      <td>n</td>\n",
       "      <td>c</td>\n",
       "      <td>d</td>\n",
       "      <td>x</td>\n",
       "      <td>j</td>\n",
       "      <td>x</td>\n",
       "      <td>...</td>\n",
       "      <td>0</td>\n",
       "      <td>0</td>\n",
       "      <td>0</td>\n",
       "      <td>0</td>\n",
       "      <td>0</td>\n",
       "      <td>0</td>\n",
       "      <td>1</td>\n",
       "      <td>0</td>\n",
       "      <td>0</td>\n",
       "      <td>0</td>\n",
       "    </tr>\n",
       "    <tr>\n",
       "      <th>3</th>\n",
       "      <td>9</td>\n",
       "      <td>80.62</td>\n",
       "      <td>az</td>\n",
       "      <td>t</td>\n",
       "      <td>n</td>\n",
       "      <td>f</td>\n",
       "      <td>d</td>\n",
       "      <td>x</td>\n",
       "      <td>l</td>\n",
       "      <td>e</td>\n",
       "      <td>...</td>\n",
       "      <td>0</td>\n",
       "      <td>0</td>\n",
       "      <td>0</td>\n",
       "      <td>0</td>\n",
       "      <td>0</td>\n",
       "      <td>0</td>\n",
       "      <td>0</td>\n",
       "      <td>0</td>\n",
       "      <td>0</td>\n",
       "      <td>0</td>\n",
       "    </tr>\n",
       "    <tr>\n",
       "      <th>4</th>\n",
       "      <td>13</td>\n",
       "      <td>78.02</td>\n",
       "      <td>az</td>\n",
       "      <td>v</td>\n",
       "      <td>n</td>\n",
       "      <td>f</td>\n",
       "      <td>d</td>\n",
       "      <td>h</td>\n",
       "      <td>d</td>\n",
       "      <td>n</td>\n",
       "      <td>...</td>\n",
       "      <td>0</td>\n",
       "      <td>0</td>\n",
       "      <td>0</td>\n",
       "      <td>0</td>\n",
       "      <td>0</td>\n",
       "      <td>0</td>\n",
       "      <td>0</td>\n",
       "      <td>0</td>\n",
       "      <td>0</td>\n",
       "      <td>0</td>\n",
       "    </tr>\n",
       "  </tbody>\n",
       "</table>\n",
       "<p>5 rows × 378 columns</p>\n",
       "</div>"
      ],
      "text/plain": [
       "   ID       y  X0 X1  X2 X3 X4 X5 X6 X8  ...  X375  X376  X377  X378  X379  \\\n",
       "0   0  130.81   k  v  at  a  d  u  j  o  ...     0     0     1     0     0   \n",
       "1   6   88.53   k  t  av  e  d  y  l  o  ...     1     0     0     0     0   \n",
       "2   7   76.26  az  w   n  c  d  x  j  x  ...     0     0     0     0     0   \n",
       "3   9   80.62  az  t   n  f  d  x  l  e  ...     0     0     0     0     0   \n",
       "4  13   78.02  az  v   n  f  d  h  d  n  ...     0     0     0     0     0   \n",
       "\n",
       "   X380  X382  X383  X384  X385  \n",
       "0     0     0     0     0     0  \n",
       "1     0     0     0     0     0  \n",
       "2     0     1     0     0     0  \n",
       "3     0     0     0     0     0  \n",
       "4     0     0     0     0     0  \n",
       "\n",
       "[5 rows x 378 columns]"
      ]
     },
     "execution_count": 2,
     "metadata": {},
     "output_type": "execute_result"
    }
   ],
   "source": [
    "df_train = pd.read_csv('https://raw.githubusercontent.com/nadiinchi/hse_cs_ml_course_2017_FTAD/master/materials/train.csv')\n",
    "print('Size of training set: {} rows and {} columns'.format(*df_train.shape))\n",
    "df_train.head()"
   ]
  },
  {
   "cell_type": "markdown",
   "metadata": {},
   "source": [
    "Распределение целевого признака:"
   ]
  },
  {
   "cell_type": "code",
   "execution_count": 3,
   "metadata": {
    "_cell_guid": "8aa66a00-591c-7cff-cc88-051bfcaa40c5"
   },
   "outputs": [
    {
     "name": "stdout",
     "output_type": "stream",
     "text": [
      "min: 72.11 max: 265.32 mean: 100.66931812782134 std: 12.6778749695168\n",
      "Count of values above 180: 1\n"
     ]
    },
    {
     "data": {
      "image/png": "[encoded data removed]",
      "text/plain": [
       "<Figure size 1080x360 with 1 Axes>"
      ]
     },
     "metadata": {
      "needs_background": "light"
     },
     "output_type": "display_data"
    }
   ],
   "source": [
    "y_train = df_train['y'].values\n",
    "plt.figure(figsize=(15, 5))\n",
    "plt.hist(y_train, bins=20)\n",
    "plt.xlabel('Target value in seconds')\n",
    "plt.ylabel('Occurences')\n",
    "plt.title('Distribution of the target value')\n",
    "\n",
    "print('min: {} max: {} mean: {} std: {}'.format(min(y_train), max(y_train), y_train.mean(), y_train.std()))\n",
    "print('Count of values above 180: {}'.format(np.sum(y_train > 200)))"
   ]
  },
  {
   "cell_type": "markdown",
   "metadata": {},
   "source": [
    "Число признаков и объектов:"
   ]
  },
  {
   "cell_type": "code",
   "execution_count": 4,
   "metadata": {
    "_cell_guid": "85c914e4-162a-e3be-ec91-1e687b8222e2"
   },
   "outputs": [
    {
     "name": "stdout",
     "output_type": "stream",
     "text": [
      "Number of features: 376\n",
      "Feature types:\n"
     ]
    },
    {
     "data": {
      "text/plain": [
       "int64     368\n",
       "object      8\n",
       "dtype: int64"
      ]
     },
     "execution_count": 4,
     "metadata": {},
     "output_type": "execute_result"
    }
   ],
   "source": [
    "cols = [c for c in df_train.columns if 'X' in c]\n",
    "print('Number of features: {}'.format(len(cols)))\n",
    "\n",
    "print('Feature types:')\n",
    "df_train[cols].dtypes.value_counts()"
   ]
  },
  {
   "cell_type": "markdown",
   "metadata": {},
   "source": [
    "Приведение данных к вещественному виду:"
   ]
  },
  {
   "cell_type": "code",
   "execution_count": 5,
   "metadata": {},
   "outputs": [
    {
     "name": "stderr",
     "output_type": "stream",
     "text": [
      "<ipython-input-5-86fbcd4c84a1>:10: SettingWithCopyWarning: \n",
      "A value is trying to be set on a copy of a slice from a DataFrame.\n",
      "Try using .loc[row_indexer,col_indexer] = value instead\n",
      "\n",
      "See the caveats in the documentation: https://pandas.pydata.org/pandas-docs/stable/user_guide/indexing.html#returning-a-view-versus-a-copy\n",
      "  x_train[column] = x_train[column].apply(mapper)\n"
     ]
    },
    {
     "data": {
      "text/html": [
       "<div>\n",
       "<style scoped>\n",
       "    .dataframe tbody tr th:only-of-type {\n",
       "        vertical-align: middle;\n",
       "    }\n",
       "\n",
       "    .dataframe tbody tr th {\n",
       "        vertical-align: top;\n",
       "    }\n",
       "\n",
       "    .dataframe thead th {\n",
       "        text-align: right;\n",
       "    }\n",
       "</style>\n",
       "<table border=\"1\" class=\"dataframe\">\n",
       "  <thead>\n",
       "    <tr style=\"text-align: right;\">\n",
       "      <th></th>\n",
       "      <th>X279</th>\n",
       "      <th>X314</th>\n",
       "      <th>X182</th>\n",
       "      <th>X324</th>\n",
       "      <th>X184</th>\n",
       "      <th>X157</th>\n",
       "      <th>X317</th>\n",
       "      <th>X75</th>\n",
       "      <th>X289</th>\n",
       "      <th>X371</th>\n",
       "      <th>...</th>\n",
       "      <th>X17</th>\n",
       "      <th>X142</th>\n",
       "      <th>X360</th>\n",
       "      <th>X159</th>\n",
       "      <th>X217</th>\n",
       "      <th>X243</th>\n",
       "      <th>X181</th>\n",
       "      <th>X250</th>\n",
       "      <th>X281</th>\n",
       "      <th>X267</th>\n",
       "    </tr>\n",
       "  </thead>\n",
       "  <tbody>\n",
       "    <tr>\n",
       "      <th>0</th>\n",
       "      <td>0</td>\n",
       "      <td>0</td>\n",
       "      <td>0</td>\n",
       "      <td>1</td>\n",
       "      <td>1</td>\n",
       "      <td>0</td>\n",
       "      <td>0</td>\n",
       "      <td>0</td>\n",
       "      <td>0</td>\n",
       "      <td>0</td>\n",
       "      <td>...</td>\n",
       "      <td>0</td>\n",
       "      <td>1</td>\n",
       "      <td>0</td>\n",
       "      <td>0</td>\n",
       "      <td>0</td>\n",
       "      <td>0</td>\n",
       "      <td>0</td>\n",
       "      <td>0</td>\n",
       "      <td>0</td>\n",
       "      <td>0</td>\n",
       "    </tr>\n",
       "    <tr>\n",
       "      <th>1</th>\n",
       "      <td>0</td>\n",
       "      <td>0</td>\n",
       "      <td>0</td>\n",
       "      <td>0</td>\n",
       "      <td>0</td>\n",
       "      <td>0</td>\n",
       "      <td>0</td>\n",
       "      <td>0</td>\n",
       "      <td>0</td>\n",
       "      <td>0</td>\n",
       "      <td>...</td>\n",
       "      <td>0</td>\n",
       "      <td>1</td>\n",
       "      <td>0</td>\n",
       "      <td>0</td>\n",
       "      <td>0</td>\n",
       "      <td>0</td>\n",
       "      <td>0</td>\n",
       "      <td>1</td>\n",
       "      <td>0</td>\n",
       "      <td>0</td>\n",
       "    </tr>\n",
       "    <tr>\n",
       "      <th>2</th>\n",
       "      <td>1</td>\n",
       "      <td>0</td>\n",
       "      <td>0</td>\n",
       "      <td>1</td>\n",
       "      <td>0</td>\n",
       "      <td>1</td>\n",
       "      <td>0</td>\n",
       "      <td>1</td>\n",
       "      <td>0</td>\n",
       "      <td>0</td>\n",
       "      <td>...</td>\n",
       "      <td>1</td>\n",
       "      <td>0</td>\n",
       "      <td>0</td>\n",
       "      <td>0</td>\n",
       "      <td>0</td>\n",
       "      <td>0</td>\n",
       "      <td>0</td>\n",
       "      <td>1</td>\n",
       "      <td>0</td>\n",
       "      <td>0</td>\n",
       "    </tr>\n",
       "    <tr>\n",
       "      <th>3</th>\n",
       "      <td>1</td>\n",
       "      <td>0</td>\n",
       "      <td>0</td>\n",
       "      <td>0</td>\n",
       "      <td>0</td>\n",
       "      <td>1</td>\n",
       "      <td>0</td>\n",
       "      <td>0</td>\n",
       "      <td>0</td>\n",
       "      <td>0</td>\n",
       "      <td>...</td>\n",
       "      <td>0</td>\n",
       "      <td>1</td>\n",
       "      <td>0</td>\n",
       "      <td>0</td>\n",
       "      <td>0</td>\n",
       "      <td>0</td>\n",
       "      <td>0</td>\n",
       "      <td>1</td>\n",
       "      <td>0</td>\n",
       "      <td>0</td>\n",
       "    </tr>\n",
       "    <tr>\n",
       "      <th>4</th>\n",
       "      <td>1</td>\n",
       "      <td>0</td>\n",
       "      <td>0</td>\n",
       "      <td>0</td>\n",
       "      <td>0</td>\n",
       "      <td>1</td>\n",
       "      <td>0</td>\n",
       "      <td>0</td>\n",
       "      <td>0</td>\n",
       "      <td>1</td>\n",
       "      <td>...</td>\n",
       "      <td>0</td>\n",
       "      <td>0</td>\n",
       "      <td>0</td>\n",
       "      <td>0</td>\n",
       "      <td>0</td>\n",
       "      <td>0</td>\n",
       "      <td>0</td>\n",
       "      <td>1</td>\n",
       "      <td>0</td>\n",
       "      <td>0</td>\n",
       "    </tr>\n",
       "  </tbody>\n",
       "</table>\n",
       "<p>5 rows × 376 columns</p>\n",
       "</div>"
      ],
      "text/plain": [
       "   X279  X314  X182  X324  X184  X157  X317  X75  X289  X371  ...  X17  X142  \\\n",
       "0     0     0     0     1     1     0     0    0     0     0  ...    0     1   \n",
       "1     0     0     0     0     0     0     0    0     0     0  ...    0     1   \n",
       "2     1     0     0     1     0     1     0    1     0     0  ...    1     0   \n",
       "3     1     0     0     0     0     1     0    0     0     0  ...    0     1   \n",
       "4     1     0     0     0     0     1     0    0     0     1  ...    0     0   \n",
       "\n",
       "   X360  X159  X217  X243  X181  X250  X281  X267  \n",
       "0     0     0     0     0     0     0     0     0  \n",
       "1     0     0     0     0     0     1     0     0  \n",
       "2     0     0     0     0     0     1     0     0  \n",
       "3     0     0     0     0     0     1     0     0  \n",
       "4     0     0     0     0     0     1     0     0  \n",
       "\n",
       "[5 rows x 376 columns]"
      ]
     },
     "execution_count": 5,
     "metadata": {},
     "output_type": "execute_result"
    }
   ],
   "source": [
    "usable_columns = list(set(df_train.columns) - set(['ID', 'y']))\n",
    "y_train = df_train['y'].values\n",
    "x_train = df_train[usable_columns]\n",
    "for column in usable_columns:\n",
    "    cardinality = len(np.unique(x_train[column]))\n",
    "    if cardinality == 1:\n",
    "        x_train.drop(column, axis=1) # Column with only one value is useless so we drop it\n",
    "    if cardinality > 2: # Column is categorical\n",
    "        mapper = lambda x: sum([ord(digit) for digit in x])\n",
    "        x_train[column] = x_train[column].apply(mapper)\n",
    "        \n",
    "x_train.head()"
   ]
  },
  {
   "cell_type": "markdown",
   "metadata": {},
   "source": [
    "## Разделение данных\n",
    "Разделим данные на три части. Первую будем использовать для настройки случайного леса и градиентного бустинга, вторую - для настройки композиции, третью - для итогового контроля."
   ]
  },
  {
   "cell_type": "code",
   "execution_count": 6,
   "metadata": {},
   "outputs": [
    {
     "data": {
      "text/plain": [
       "((4209, 376), (4209,))"
      ]
     },
     "execution_count": 6,
     "metadata": {},
     "output_type": "execute_result"
    }
   ],
   "source": [
    "x_train.shape, y_train.shape"
   ]
  },
  {
   "cell_type": "code",
   "execution_count": 7,
   "metadata": {},
   "outputs": [],
   "source": [
    "from sklearn.utils import shuffle"
   ]
  },
  {
   "cell_type": "code",
   "execution_count": 8,
   "metadata": {},
   "outputs": [],
   "source": [
    "x_train, y_train = shuffle(x_train, y_train, random_state=1)"
   ]
  },
  {
   "cell_type": "code",
   "execution_count": 9,
   "metadata": {},
   "outputs": [
    {
     "data": {
      "text/plain": [
       "((2000, 376), (2000,))"
      ]
     },
     "execution_count": 9,
     "metadata": {},
     "output_type": "execute_result"
    }
   ],
   "source": [
    "x1, y1 = x_train[:2000], y_train[:2000]\n",
    "x1.shape, y1.shape"
   ]
  },
  {
   "cell_type": "code",
   "execution_count": 10,
   "metadata": {},
   "outputs": [
    {
     "data": {
      "text/plain": [
       "((1000, 376), (1000,))"
      ]
     },
     "execution_count": 10,
     "metadata": {},
     "output_type": "execute_result"
    }
   ],
   "source": [
    "x2, y2 = x_train[2000:3000], y_train[2000:3000]\n",
    "x2.shape, y2.shape"
   ]
  },
  {
   "cell_type": "code",
   "execution_count": 11,
   "metadata": {},
   "outputs": [
    {
     "data": {
      "text/plain": [
       "((1209, 376), (1209,))"
      ]
     },
     "execution_count": 11,
     "metadata": {},
     "output_type": "execute_result"
    }
   ],
   "source": [
    "x3, y3 = x_train[3000:], y_train[3000:]\n",
    "x3.shape, y3.shape"
   ]
  },
  {
   "cell_type": "markdown",
   "metadata": {},
   "source": [
    "## Настройка моделей\n",
    "\n",
    "На занятиях мы обсуждали, что поскольку случайный лес и градиентный бустинг разрабатывались исходя из разных принципов, то и базовые алгоритмы - решающие деревья - им нужны разные. Отсюда вытекает, что какие-то гиперапараметры более важны, а какие-то - менее важны для каждого из этих алгоритмов. Для каждого из алгоритмов мы будем сначала подбирать наиболее важные для него гиперапраметры, а затем - втоостепенные.\n",
    "\n",
    "Для случайного леса самый важный гиперпараметр - max_features (сколько случайно выбранных признаков перебирать при построении вершины), потому что он влияет на то, насколько различными будут деревья (а это основная идея случайного леса). В частности, если вы меняете признаковое пространство (а значит, и число признаков), то этот гиперпараметр надо подбирать заново. После настройки max_features подбираются остальные гиперпараметры.\n",
    "\n",
    "Для градиентного бустинга самые важные гиперпараметры - число деревьев и глубина дерева. Глубина дерева задает, насколько слабыми или сильными будут отдельные деревья, а значит и то, насколько мы будем двигаться в сторону градиента. После этих гиперпараметров подбирают другие гиперпараметры. "
   ]
  },
  {
   "cell_type": "code",
   "execution_count": 12,
   "metadata": {},
   "outputs": [],
   "source": [
    "from sklearn.ensemble import RandomForestRegressor, GradientBoostingRegressor\n",
    "from sklearn.metrics import r2_score, make_scorer\n",
    "from sklearn.model_selection import GridSearchCV"
   ]
  },
  {
   "cell_type": "markdown",
   "metadata": {},
   "source": [
    "В этой части вам надо найти оптимальные гиперпараметры для случайного леса и градиентного бустинга, используя первую часть выборки (x1, y1).\n",
    "\n",
    "__Задание 1.__\n",
    "Начнем со случайного леса. \n",
    "1. (уже сделано ниже) Постройте график зависимости качества от числа деревьев в случайном лесе на кросс-валидации с 3 блоками. Выберите число деревьев для использования в дальнейшей настройке и при итоговом обучении модели.\n",
    "1. __(1.25 балла)__ Постройте график зависимости качества от max_features на кросс-валидации. Прокомментируйте график: ожидаете ли вы такое поведение, или результат нестандартный? Выберите оптимальное значение гиперпараметра.\n",
    "1. __(1.25 балла)__ С помощью кросс-валидации выберите оптимальные значения для max_depth, min_samples_leaf, min_samples_split. В этом пункте не нужно строить график, только выбрать лучшее значение. Обратите внимание, что в этом пункте нужно использовать max_features, выбранное на предыдущем шаге.\n",
    "1. __(0.5 балла)__ Обучите случайный лес с выбранными гиперпараметрами на всей выборке x1, y1.\n",
    "\n",
    "Указания: verbose=3 в GridSearchCV будет выводить значения качества на каждой обучаемой модели. Рекомендуется в экспериментах зафиксировать random_state у модели. Если вы перезапускаете ядро, старайтесь не перезапускать все ячейки перебора гиперпараметров (они могут долго считаться, кроме того, могут измениться оптимальные гиперпараметры, если вы не везде зафиксировали random state), перезапускайте только те ячейки, результаты которых используются дальше. В данном блоке это только ячейка, отвечающая за последний пункт (итоговое обучение случайного леса).\n",
    "\n",
    "Если вдруг получилось, что вы перезапустили ячейки с grid search, и у вас изменились оптимальные гиперпараметры, при этом ранее полученные гиперпараметры уже использованы ниже в ноутбуке, напишите об этом пояснение и не переделывайте другие задания."
   ]
  },
  {
   "cell_type": "code",
   "execution_count": 13,
   "metadata": {},
   "outputs": [
    {
     "name": "stderr",
     "output_type": "stream",
     "text": [
      "C:\\Python\\ANACONDA\\lib\\site-packages\\sklearn\\utils\\validation.py:67: FutureWarning: Pass scoring=make_scorer(r2_score) as keyword args. From version 0.25 passing these as positional arguments will result in an error\n",
      "  warnings.warn(\"Pass {} as keyword args. From version 0.25 \"\n"
     ]
    }
   ],
   "source": [
    "param_grid = {\"n_estimators\":2**np.arange(10)} #  логарифмическая шкала\n",
    "gs = GridSearchCV(RandomForestRegressor(random_state=1, warm_start=True), param_grid, make_scorer(r2_score), cv=3, verbose=3)"
   ]
  },
  {
   "cell_type": "code",
   "execution_count": 14,
   "metadata": {},
   "outputs": [
    {
     "name": "stderr",
     "output_type": "stream",
     "text": [
      "[Parallel(n_jobs=1)]: Using backend SequentialBackend with 1 concurrent workers.\n",
      "[Parallel(n_jobs=1)]: Done   1 out of   1 | elapsed:    0.0s remaining:    0.0s\n"
     ]
    },
    {
     "name": "stdout",
     "output_type": "stream",
     "text": [
      "Fitting 3 folds for each of 10 candidates, totalling 30 fits\n",
      "[CV] n_estimators=1 ..................................................\n",
      "[CV] ..................... n_estimators=1, score=-0.393, total=   0.1s\n",
      "[CV] n_estimators=1 ..................................................\n",
      "[CV] ..................... n_estimators=1, score=-1.448, total=   0.1s\n",
      "[CV] n_estimators=1 ..................................................\n",
      "[CV] ..................... n_estimators=1, score=-0.055, total=   0.1s\n",
      "[CV] n_estimators=2 ..................................................\n"
     ]
    },
    {
     "name": "stderr",
     "output_type": "stream",
     "text": [
      "[Parallel(n_jobs=1)]: Done   2 out of   2 | elapsed:    0.1s remaining:    0.0s\n"
     ]
    },
    {
     "name": "stdout",
     "output_type": "stream",
     "text": [
      "[CV] ...................... n_estimators=2, score=0.183, total=   0.1s\n",
      "[CV] n_estimators=2 ..................................................\n",
      "[CV] ..................... n_estimators=2, score=-0.285, total=   0.1s\n",
      "[CV] n_estimators=2 ..................................................\n",
      "[CV] ...................... n_estimators=2, score=0.146, total=   0.1s\n",
      "[CV] n_estimators=4 ..................................................\n",
      "[CV] ...................... n_estimators=4, score=0.352, total=   0.3s\n",
      "[CV] n_estimators=4 ..................................................\n",
      "[CV] ...................... n_estimators=4, score=0.293, total=   0.3s\n",
      "[CV] n_estimators=4 ..................................................\n",
      "[CV] ...................... n_estimators=4, score=0.265, total=   0.3s\n",
      "[CV] n_estimators=8 ..................................................\n",
      "[CV] ...................... n_estimators=8, score=0.460, total=   0.6s\n",
      "[CV] n_estimators=8 ..................................................\n",
      "[CV] ...................... n_estimators=8, score=0.442, total=   0.5s\n",
      "[CV] n_estimators=8 ..................................................\n",
      "[CV] ...................... n_estimators=8, score=0.346, total=   0.5s\n",
      "[CV] n_estimators=16 .................................................\n",
      "[CV] ..................... n_estimators=16, score=0.470, total=   1.1s\n",
      "[CV] n_estimators=16 .................................................\n",
      "[CV] ..................... n_estimators=16, score=0.495, total=   1.0s\n",
      "[CV] n_estimators=16 .................................................\n",
      "[CV] ..................... n_estimators=16, score=0.366, total=   1.0s\n",
      "[CV] n_estimators=32 .................................................\n",
      "[CV] ..................... n_estimators=32, score=0.487, total=   2.0s\n",
      "[CV] n_estimators=32 .................................................\n",
      "[CV] ..................... n_estimators=32, score=0.539, total=   2.0s\n",
      "[CV] n_estimators=32 .................................................\n",
      "[CV] ..................... n_estimators=32, score=0.372, total=   1.9s\n",
      "[CV] n_estimators=64 .................................................\n",
      "[CV] ..................... n_estimators=64, score=0.502, total=   3.9s\n",
      "[CV] n_estimators=64 .................................................\n",
      "[CV] ..................... n_estimators=64, score=0.561, total=   4.0s\n",
      "[CV] n_estimators=64 .................................................\n",
      "[CV] ..................... n_estimators=64, score=0.373, total=   3.9s\n",
      "[CV] n_estimators=128 ................................................\n",
      "[CV] .................... n_estimators=128, score=0.506, total=   8.0s\n",
      "[CV] n_estimators=128 ................................................\n",
      "[CV] .................... n_estimators=128, score=0.566, total=   9.3s\n",
      "[CV] n_estimators=128 ................................................\n",
      "[CV] .................... n_estimators=128, score=0.380, total=   8.8s\n",
      "[CV] n_estimators=256 ................................................\n",
      "[CV] .................... n_estimators=256, score=0.506, total=  16.8s\n",
      "[CV] n_estimators=256 ................................................\n",
      "[CV] .................... n_estimators=256, score=0.565, total=  13.5s\n",
      "[CV] n_estimators=256 ................................................\n",
      "[CV] .................... n_estimators=256, score=0.378, total=  15.9s\n",
      "[CV] n_estimators=512 ................................................\n",
      "[CV] .................... n_estimators=512, score=0.510, total=  31.3s\n",
      "[CV] n_estimators=512 ................................................\n",
      "[CV] .................... n_estimators=512, score=0.562, total=  32.0s\n",
      "[CV] n_estimators=512 ................................................\n",
      "[CV] .................... n_estimators=512, score=0.378, total=  30.9s\n"
     ]
    },
    {
     "name": "stderr",
     "output_type": "stream",
     "text": [
      "[Parallel(n_jobs=1)]: Done  30 out of  30 | elapsed:  3.2min finished\n"
     ]
    },
    {
     "data": {
      "text/plain": [
       "GridSearchCV(cv=3,\n",
       "             estimator=RandomForestRegressor(random_state=1, warm_start=True),\n",
       "             param_grid={'n_estimators': array([  1,   2,   4,   8,  16,  32,  64, 128, 256, 512], dtype=int32)},\n",
       "             scoring=make_scorer(r2_score), verbose=3)"
      ]
     },
     "execution_count": 14,
     "metadata": {},
     "output_type": "execute_result"
    }
   ],
   "source": [
    "gs.fit(x1, y1)"
   ]
  },
  {
   "cell_type": "code",
   "execution_count": 15,
   "metadata": {},
   "outputs": [
    {
     "data": {
      "text/plain": [
       "Text(0, 0.5, 'R2')"
      ]
     },
     "execution_count": 15,
     "metadata": {},
     "output_type": "execute_result"
    },
    {
     "data": {
      "image/png": "[encoded data removed]",
      "text/plain": [
       "<Figure size 432x288 with 1 Axes>"
      ]
     },
     "metadata": {
      "needs_background": "light"
     },
     "output_type": "display_data"
    }
   ],
   "source": [
    "plt.plot((param_grid[\"n_estimators\"]), gs.cv_results_['mean_test_score'])\n",
    "plt.xscale(\"log\")\n",
    "plt.xlabel(\"n_estimators\")\n",
    "plt.ylabel(\"R2\")"
   ]
  },
  {
   "cell_type": "markdown",
   "metadata": {},
   "source": [
    "Качество, как и ожидается, растет с увеличением числа базовых алгоритмов. Для валидации выберем 100 деревьев (быстро обучается и уже более-менее приналежит области стабильности качества), финальную модель будем обучать с 500 деревьями."
   ]
  },
  {
   "cell_type": "code",
   "execution_count": 16,
   "metadata": {},
   "outputs": [],
   "source": [
    "# базовая логарифмическая шкала для max_features\n",
    "param_grid = {\"max_features\":2**np.arange(1, 9)}"
   ]
  },
  {
   "cell_type": "code",
   "execution_count": 17,
   "metadata": {},
   "outputs": [
    {
     "name": "stderr",
     "output_type": "stream",
     "text": [
      "C:\\Python\\ANACONDA\\lib\\site-packages\\sklearn\\utils\\validation.py:67: FutureWarning: Pass scoring=make_scorer(r2_score) as keyword args. From version 0.25 passing these as positional arguments will result in an error\n",
      "  warnings.warn(\"Pass {} as keyword args. From version 0.25 \"\n"
     ]
    }
   ],
   "source": [
    "gs = GridSearchCV(RandomForestRegressor(n_estimators=100, random_state=1, warm_start=True), \n",
    "                  param_grid, make_scorer(r2_score), cv=3, verbose=3)"
   ]
  },
  {
   "cell_type": "code",
   "execution_count": 18,
   "metadata": {},
   "outputs": [
    {
     "name": "stderr",
     "output_type": "stream",
     "text": [
      "[Parallel(n_jobs=1)]: Using backend SequentialBackend with 1 concurrent workers.\n"
     ]
    },
    {
     "name": "stdout",
     "output_type": "stream",
     "text": [
      "Fitting 3 folds for each of 8 candidates, totalling 24 fits\n",
      "[CV] max_features=2 ..................................................\n",
      "[CV] ...................... max_features=2, score=0.437, total=   1.0s\n",
      "[CV] max_features=2 ..................................................\n"
     ]
    },
    {
     "name": "stderr",
     "output_type": "stream",
     "text": [
      "[Parallel(n_jobs=1)]: Done   1 out of   1 | elapsed:    0.9s remaining:    0.0s\n"
     ]
    },
    {
     "name": "stdout",
     "output_type": "stream",
     "text": [
      "[CV] ...................... max_features=2, score=0.550, total=   1.0s\n",
      "[CV] max_features=2 ..................................................\n"
     ]
    },
    {
     "name": "stderr",
     "output_type": "stream",
     "text": [
      "[Parallel(n_jobs=1)]: Done   2 out of   2 | elapsed:    1.9s remaining:    0.0s\n"
     ]
    },
    {
     "name": "stdout",
     "output_type": "stream",
     "text": [
      "[CV] ...................... max_features=2, score=0.298, total=   1.0s\n",
      "[CV] max_features=4 ..................................................\n",
      "[CV] ...................... max_features=4, score=0.459, total=   1.0s\n",
      "[CV] max_features=4 ..................................................\n",
      "[CV] ...................... max_features=4, score=0.577, total=   1.0s\n",
      "[CV] max_features=4 ..................................................\n",
      "[CV] ...................... max_features=4, score=0.318, total=   0.9s\n",
      "[CV] max_features=8 ..................................................\n",
      "[CV] ...................... max_features=8, score=0.479, total=   1.0s\n",
      "[CV] max_features=8 ..................................................\n",
      "[CV] ...................... max_features=8, score=0.609, total=   1.0s\n",
      "[CV] max_features=8 ..................................................\n",
      "[CV] ...................... max_features=8, score=0.341, total=   1.0s\n",
      "[CV] max_features=16 .................................................\n",
      "[CV] ..................... max_features=16, score=0.508, total=   1.1s\n",
      "[CV] max_features=16 .................................................\n",
      "[CV] ..................... max_features=16, score=0.606, total=   1.1s\n",
      "[CV] max_features=16 .................................................\n",
      "[CV] ..................... max_features=16, score=0.348, total=   1.2s\n",
      "[CV] max_features=32 .................................................\n",
      "[CV] ..................... max_features=32, score=0.504, total=   1.3s\n",
      "[CV] max_features=32 .................................................\n",
      "[CV] ..................... max_features=32, score=0.606, total=   1.3s\n",
      "[CV] max_features=32 .................................................\n",
      "[CV] ..................... max_features=32, score=0.366, total=   1.3s\n",
      "[CV] max_features=64 .................................................\n",
      "[CV] ..................... max_features=64, score=0.505, total=   1.8s\n",
      "[CV] max_features=64 .................................................\n",
      "[CV] ..................... max_features=64, score=0.599, total=   1.7s\n",
      "[CV] max_features=64 .................................................\n",
      "[CV] ..................... max_features=64, score=0.380, total=   1.7s\n",
      "[CV] max_features=128 ................................................\n",
      "[CV] .................... max_features=128, score=0.510, total=   2.5s\n",
      "[CV] max_features=128 ................................................\n",
      "[CV] .................... max_features=128, score=0.590, total=   2.6s\n",
      "[CV] max_features=128 ................................................\n",
      "[CV] .................... max_features=128, score=0.378, total=   2.5s\n",
      "[CV] max_features=256 ................................................\n",
      "[CV] .................... max_features=256, score=0.511, total=   4.2s\n",
      "[CV] max_features=256 ................................................\n",
      "[CV] .................... max_features=256, score=0.585, total=   4.4s\n",
      "[CV] max_features=256 ................................................\n",
      "[CV] .................... max_features=256, score=0.382, total=   4.4s\n"
     ]
    },
    {
     "name": "stderr",
     "output_type": "stream",
     "text": [
      "[Parallel(n_jobs=1)]: Done  24 out of  24 | elapsed:   42.0s finished\n"
     ]
    },
    {
     "data": {
      "text/plain": [
       "GridSearchCV(cv=3,\n",
       "             estimator=RandomForestRegressor(random_state=1, warm_start=True),\n",
       "             param_grid={'max_features': array([  2,   4,   8,  16,  32,  64, 128, 256], dtype=int32)},\n",
       "             scoring=make_scorer(r2_score), verbose=3)"
      ]
     },
     "execution_count": 18,
     "metadata": {},
     "output_type": "execute_result"
    }
   ],
   "source": [
    "gs.fit(x1, y1)"
   ]
  },
  {
   "cell_type": "code",
   "execution_count": 19,
   "metadata": {},
   "outputs": [
    {
     "data": {
      "text/plain": [
       "Text(0, 0.5, 'R2')"
      ]
     },
     "execution_count": 19,
     "metadata": {},
     "output_type": "execute_result"
    },
    {
     "data": {
      "image/png": "[encoded data removed]",
      "text/plain": [
       "<Figure size 432x288 with 1 Axes>"
      ]
     },
     "metadata": {
      "needs_background": "light"
     },
     "output_type": "display_data"
    }
   ],
   "source": [
    "plt.title(\"Зависимость качества от max_features\")\n",
    "plt.plot((param_grid[\"max_features\"]), gs.cv_results_['mean_test_score'])\n",
    "plt.xscale(\"log\")\n",
    "plt.xlabel(\"max_features\")\n",
    "plt.ylabel(\"R2\")"
   ]
  },
  {
   "cell_type": "code",
   "execution_count": 20,
   "metadata": {},
   "outputs": [
    {
     "data": {
      "text/plain": [
       "array([0.42833169, 0.45146055, 0.47633241, 0.48745077, 0.49202827,\n",
       "       0.49456446, 0.49267847, 0.49277926])"
      ]
     },
     "execution_count": 20,
     "metadata": {},
     "output_type": "execute_result"
    }
   ],
   "source": [
    "gs.cv_results_['mean_test_score']"
   ]
  },
  {
   "cell_type": "code",
   "execution_count": 21,
   "metadata": {},
   "outputs": [
    {
     "data": {
      "text/plain": [
       "array([  2,   4,   8,  16,  32,  64, 128, 256], dtype=int32)"
      ]
     },
     "execution_count": 21,
     "metadata": {},
     "output_type": "execute_result"
    }
   ],
   "source": [
    "param_grid[\"max_features\"]"
   ]
  },
  {
   "cell_type": "markdown",
   "metadata": {},
   "source": [
    "Результат соответствует ожиданиям -  поначалу повышение количества max_features приводит к повышению качества, но когда max_features достигает 64, качество начинает понижаться. Стоит взять max_features, равное 64, так как качество на нем максимально."
   ]
  },
  {
   "cell_type": "code",
   "execution_count": 22,
   "metadata": {},
   "outputs": [],
   "source": [
    "# базовая шкала для остальных гиперпараметров\n",
    "param_grid = {\"max_depth\":np.arange(1, 9, 2), \n",
    "              \"min_samples_leaf\":[1, 3, 9, 27], \n",
    "              \"min_samples_split\":[3, 9, 27, 81]}"
   ]
  },
  {
   "cell_type": "code",
   "execution_count": 23,
   "metadata": {},
   "outputs": [
    {
     "name": "stderr",
     "output_type": "stream",
     "text": [
      "C:\\Python\\ANACONDA\\lib\\site-packages\\sklearn\\utils\\validation.py:67: FutureWarning: Pass scoring=make_scorer(r2_score) as keyword args. From version 0.25 passing these as positional arguments will result in an error\n",
      "  warnings.warn(\"Pass {} as keyword args. From version 0.25 \"\n"
     ]
    }
   ],
   "source": [
    "gs = GridSearchCV(RandomForestRegressor(n_estimators=100, max_features=64, random_state=1, warm_start=True), param_grid, make_scorer(r2_score), cv=3, verbose=3)"
   ]
  },
  {
   "cell_type": "code",
   "execution_count": 24,
   "metadata": {},
   "outputs": [
    {
     "name": "stderr",
     "output_type": "stream",
     "text": [
      "[Parallel(n_jobs=1)]: Using backend SequentialBackend with 1 concurrent workers.\n"
     ]
    },
    {
     "name": "stdout",
     "output_type": "stream",
     "text": [
      "Fitting 3 folds for each of 64 candidates, totalling 192 fits\n",
      "[CV] max_depth=1, min_samples_leaf=1, min_samples_split=3 ............\n",
      "[CV]  max_depth=1, min_samples_leaf=1, min_samples_split=3, score=0.321, total=   0.4s\n",
      "[CV] max_depth=1, min_samples_leaf=1, min_samples_split=3 ............\n"
     ]
    },
    {
     "name": "stderr",
     "output_type": "stream",
     "text": [
      "[Parallel(n_jobs=1)]: Done   1 out of   1 | elapsed:    0.3s remaining:    0.0s\n"
     ]
    },
    {
     "name": "stdout",
     "output_type": "stream",
     "text": [
      "[CV]  max_depth=1, min_samples_leaf=1, min_samples_split=3, score=0.371, total=   0.4s\n",
      "[CV] max_depth=1, min_samples_leaf=1, min_samples_split=3 ............\n"
     ]
    },
    {
     "name": "stderr",
     "output_type": "stream",
     "text": [
      "[Parallel(n_jobs=1)]: Done   2 out of   2 | elapsed:    0.6s remaining:    0.0s\n"
     ]
    },
    {
     "name": "stdout",
     "output_type": "stream",
     "text": [
      "[CV]  max_depth=1, min_samples_leaf=1, min_samples_split=3, score=0.218, total=   0.4s\n",
      "[CV] max_depth=1, min_samples_leaf=1, min_samples_split=9 ............\n",
      "[CV]  max_depth=1, min_samples_leaf=1, min_samples_split=9, score=0.321, total=   0.3s\n",
      "[CV] max_depth=1, min_samples_leaf=1, min_samples_split=9 ............\n",
      "[CV]  max_depth=1, min_samples_leaf=1, min_samples_split=9, score=0.371, total=   0.4s\n",
      "[CV] max_depth=1, min_samples_leaf=1, min_samples_split=9 ............\n",
      "[CV]  max_depth=1, min_samples_leaf=1, min_samples_split=9, score=0.218, total=   0.3s\n",
      "[CV] max_depth=1, min_samples_leaf=1, min_samples_split=27 ...........\n",
      "[CV]  max_depth=1, min_samples_leaf=1, min_samples_split=27, score=0.321, total=   0.4s\n",
      "[CV] max_depth=1, min_samples_leaf=1, min_samples_split=27 ...........\n",
      "[CV]  max_depth=1, min_samples_leaf=1, min_samples_split=27, score=0.371, total=   0.3s\n",
      "[CV] max_depth=1, min_samples_leaf=1, min_samples_split=27 ...........\n",
      "[CV]  max_depth=1, min_samples_leaf=1, min_samples_split=27, score=0.218, total=   0.3s\n",
      "[CV] max_depth=1, min_samples_leaf=1, min_samples_split=81 ...........\n",
      "[CV]  max_depth=1, min_samples_leaf=1, min_samples_split=81, score=0.321, total=   0.4s\n",
      "[CV] max_depth=1, min_samples_leaf=1, min_samples_split=81 ...........\n",
      "[CV]  max_depth=1, min_samples_leaf=1, min_samples_split=81, score=0.371, total=   0.3s\n",
      "[CV] max_depth=1, min_samples_leaf=1, min_samples_split=81 ...........\n",
      "[CV]  max_depth=1, min_samples_leaf=1, min_samples_split=81, score=0.218, total=   0.4s\n",
      "[CV] max_depth=1, min_samples_leaf=3, min_samples_split=3 ............\n",
      "[CV]  max_depth=1, min_samples_leaf=3, min_samples_split=3, score=0.321, total=   0.4s\n",
      "[CV] max_depth=1, min_samples_leaf=3, min_samples_split=3 ............\n",
      "[CV]  max_depth=1, min_samples_leaf=3, min_samples_split=3, score=0.371, total=   0.4s\n",
      "[CV] max_depth=1, min_samples_leaf=3, min_samples_split=3 ............\n",
      "[CV]  max_depth=1, min_samples_leaf=3, min_samples_split=3, score=0.218, total=   0.3s\n",
      "[CV] max_depth=1, min_samples_leaf=3, min_samples_split=9 ............\n",
      "[CV]  max_depth=1, min_samples_leaf=3, min_samples_split=9, score=0.321, total=   0.4s\n",
      "[CV] max_depth=1, min_samples_leaf=3, min_samples_split=9 ............\n",
      "[CV]  max_depth=1, min_samples_leaf=3, min_samples_split=9, score=0.371, total=   0.4s\n",
      "[CV] max_depth=1, min_samples_leaf=3, min_samples_split=9 ............\n",
      "[CV]  max_depth=1, min_samples_leaf=3, min_samples_split=9, score=0.218, total=   0.3s\n",
      "[CV] max_depth=1, min_samples_leaf=3, min_samples_split=27 ...........\n",
      "[CV]  max_depth=1, min_samples_leaf=3, min_samples_split=27, score=0.321, total=   0.3s\n",
      "[CV] max_depth=1, min_samples_leaf=3, min_samples_split=27 ...........\n",
      "[CV]  max_depth=1, min_samples_leaf=3, min_samples_split=27, score=0.371, total=   0.4s\n",
      "[CV] max_depth=1, min_samples_leaf=3, min_samples_split=27 ...........\n",
      "[CV]  max_depth=1, min_samples_leaf=3, min_samples_split=27, score=0.218, total=   0.3s\n",
      "[CV] max_depth=1, min_samples_leaf=3, min_samples_split=81 ...........\n",
      "[CV]  max_depth=1, min_samples_leaf=3, min_samples_split=81, score=0.321, total=   0.3s\n",
      "[CV] max_depth=1, min_samples_leaf=3, min_samples_split=81 ...........\n",
      "[CV]  max_depth=1, min_samples_leaf=3, min_samples_split=81, score=0.371, total=   0.3s\n",
      "[CV] max_depth=1, min_samples_leaf=3, min_samples_split=81 ...........\n",
      "[CV]  max_depth=1, min_samples_leaf=3, min_samples_split=81, score=0.218, total=   0.3s\n",
      "[CV] max_depth=1, min_samples_leaf=9, min_samples_split=3 ............\n",
      "[CV]  max_depth=1, min_samples_leaf=9, min_samples_split=3, score=0.321, total=   0.3s\n",
      "[CV] max_depth=1, min_samples_leaf=9, min_samples_split=3 ............\n",
      "[CV]  max_depth=1, min_samples_leaf=9, min_samples_split=3, score=0.371, total=   0.4s\n",
      "[CV] max_depth=1, min_samples_leaf=9, min_samples_split=3 ............\n",
      "[CV]  max_depth=1, min_samples_leaf=9, min_samples_split=3, score=0.218, total=   0.3s\n",
      "[CV] max_depth=1, min_samples_leaf=9, min_samples_split=9 ............\n",
      "[CV]  max_depth=1, min_samples_leaf=9, min_samples_split=9, score=0.321, total=   0.3s\n",
      "[CV] max_depth=1, min_samples_leaf=9, min_samples_split=9 ............\n",
      "[CV]  max_depth=1, min_samples_leaf=9, min_samples_split=9, score=0.371, total=   0.4s\n",
      "[CV] max_depth=1, min_samples_leaf=9, min_samples_split=9 ............\n",
      "[CV]  max_depth=1, min_samples_leaf=9, min_samples_split=9, score=0.218, total=   0.3s\n",
      "[CV] max_depth=1, min_samples_leaf=9, min_samples_split=27 ...........\n",
      "[CV]  max_depth=1, min_samples_leaf=9, min_samples_split=27, score=0.321, total=   0.4s\n",
      "[CV] max_depth=1, min_samples_leaf=9, min_samples_split=27 ...........\n",
      "[CV]  max_depth=1, min_samples_leaf=9, min_samples_split=27, score=0.371, total=   0.3s\n",
      "[CV] max_depth=1, min_samples_leaf=9, min_samples_split=27 ...........\n",
      "[CV]  max_depth=1, min_samples_leaf=9, min_samples_split=27, score=0.218, total=   0.4s\n",
      "[CV] max_depth=1, min_samples_leaf=9, min_samples_split=81 ...........\n",
      "[CV]  max_depth=1, min_samples_leaf=9, min_samples_split=81, score=0.321, total=   0.4s\n",
      "[CV] max_depth=1, min_samples_leaf=9, min_samples_split=81 ...........\n",
      "[CV]  max_depth=1, min_samples_leaf=9, min_samples_split=81, score=0.371, total=   0.3s\n",
      "[CV] max_depth=1, min_samples_leaf=9, min_samples_split=81 ...........\n",
      "[CV]  max_depth=1, min_samples_leaf=9, min_samples_split=81, score=0.218, total=   0.3s\n",
      "[CV] max_depth=1, min_samples_leaf=27, min_samples_split=3 ...........\n",
      "[CV]  max_depth=1, min_samples_leaf=27, min_samples_split=3, score=0.319, total=   0.4s\n",
      "[CV] max_depth=1, min_samples_leaf=27, min_samples_split=3 ...........\n",
      "[CV]  max_depth=1, min_samples_leaf=27, min_samples_split=3, score=0.366, total=   0.3s\n",
      "[CV] max_depth=1, min_samples_leaf=27, min_samples_split=3 ...........\n",
      "[CV]  max_depth=1, min_samples_leaf=27, min_samples_split=3, score=0.218, total=   0.3s\n",
      "[CV] max_depth=1, min_samples_leaf=27, min_samples_split=9 ...........\n",
      "[CV]  max_depth=1, min_samples_leaf=27, min_samples_split=9, score=0.319, total=   0.4s\n",
      "[CV] max_depth=1, min_samples_leaf=27, min_samples_split=9 ...........\n",
      "[CV]  max_depth=1, min_samples_leaf=27, min_samples_split=9, score=0.366, total=   0.3s\n",
      "[CV] max_depth=1, min_samples_leaf=27, min_samples_split=9 ...........\n",
      "[CV]  max_depth=1, min_samples_leaf=27, min_samples_split=9, score=0.218, total=   0.4s\n",
      "[CV] max_depth=1, min_samples_leaf=27, min_samples_split=27 ..........\n",
      "[CV]  max_depth=1, min_samples_leaf=27, min_samples_split=27, score=0.319, total=   0.4s\n",
      "[CV] max_depth=1, min_samples_leaf=27, min_samples_split=27 ..........\n",
      "[CV]  max_depth=1, min_samples_leaf=27, min_samples_split=27, score=0.366, total=   0.3s\n",
      "[CV] max_depth=1, min_samples_leaf=27, min_samples_split=27 ..........\n",
      "[CV]  max_depth=1, min_samples_leaf=27, min_samples_split=27, score=0.218, total=   0.3s\n",
      "[CV] max_depth=1, min_samples_leaf=27, min_samples_split=81 ..........\n",
      "[CV]  max_depth=1, min_samples_leaf=27, min_samples_split=81, score=0.319, total=   0.4s\n",
      "[CV] max_depth=1, min_samples_leaf=27, min_samples_split=81 ..........\n",
      "[CV]  max_depth=1, min_samples_leaf=27, min_samples_split=81, score=0.366, total=   0.3s\n",
      "[CV] max_depth=1, min_samples_leaf=27, min_samples_split=81 ..........\n",
      "[CV]  max_depth=1, min_samples_leaf=27, min_samples_split=81, score=0.218, total=   0.4s\n",
      "[CV] max_depth=3, min_samples_leaf=1, min_samples_split=3 ............\n",
      "[CV]  max_depth=3, min_samples_leaf=1, min_samples_split=3, score=0.509, total=   0.5s\n",
      "[CV] max_depth=3, min_samples_leaf=1, min_samples_split=3 ............\n",
      "[CV]  max_depth=3, min_samples_leaf=1, min_samples_split=3, score=0.641, total=   0.5s\n",
      "[CV] max_depth=3, min_samples_leaf=1, min_samples_split=3 ............\n",
      "[CV]  max_depth=3, min_samples_leaf=1, min_samples_split=3, score=0.384, total=   0.5s\n",
      "[CV] max_depth=3, min_samples_leaf=1, min_samples_split=9 ............\n",
      "[CV]  max_depth=3, min_samples_leaf=1, min_samples_split=9, score=0.509, total=   0.5s\n",
      "[CV] max_depth=3, min_samples_leaf=1, min_samples_split=9 ............\n",
      "[CV]  max_depth=3, min_samples_leaf=1, min_samples_split=9, score=0.642, total=   0.5s\n",
      "[CV] max_depth=3, min_samples_leaf=1, min_samples_split=9 ............\n",
      "[CV]  max_depth=3, min_samples_leaf=1, min_samples_split=9, score=0.384, total=   0.5s\n",
      "[CV] max_depth=3, min_samples_leaf=1, min_samples_split=27 ...........\n",
      "[CV]  max_depth=3, min_samples_leaf=1, min_samples_split=27, score=0.508, total=   0.5s\n",
      "[CV] max_depth=3, min_samples_leaf=1, min_samples_split=27 ...........\n",
      "[CV]  max_depth=3, min_samples_leaf=1, min_samples_split=27, score=0.644, total=   0.5s\n",
      "[CV] max_depth=3, min_samples_leaf=1, min_samples_split=27 ...........\n",
      "[CV]  max_depth=3, min_samples_leaf=1, min_samples_split=27, score=0.381, total=   0.5s\n",
      "[CV] max_depth=3, min_samples_leaf=1, min_samples_split=81 ...........\n",
      "[CV]  max_depth=3, min_samples_leaf=1, min_samples_split=81, score=0.509, total=   0.5s\n",
      "[CV] max_depth=3, min_samples_leaf=1, min_samples_split=81 ...........\n",
      "[CV]  max_depth=3, min_samples_leaf=1, min_samples_split=81, score=0.647, total=   0.5s\n",
      "[CV] max_depth=3, min_samples_leaf=1, min_samples_split=81 ...........\n",
      "[CV]  max_depth=3, min_samples_leaf=1, min_samples_split=81, score=0.377, total=   0.5s\n",
      "[CV] max_depth=3, min_samples_leaf=3, min_samples_split=3 ............\n",
      "[CV]  max_depth=3, min_samples_leaf=3, min_samples_split=3, score=0.510, total=   0.5s\n",
      "[CV] max_depth=3, min_samples_leaf=3, min_samples_split=3 ............\n",
      "[CV]  max_depth=3, min_samples_leaf=3, min_samples_split=3, score=0.643, total=   0.5s\n",
      "[CV] max_depth=3, min_samples_leaf=3, min_samples_split=3 ............\n",
      "[CV]  max_depth=3, min_samples_leaf=3, min_samples_split=3, score=0.385, total=   0.5s\n",
      "[CV] max_depth=3, min_samples_leaf=3, min_samples_split=9 ............\n",
      "[CV]  max_depth=3, min_samples_leaf=3, min_samples_split=9, score=0.509, total=   0.5s\n",
      "[CV] max_depth=3, min_samples_leaf=3, min_samples_split=9 ............\n",
      "[CV]  max_depth=3, min_samples_leaf=3, min_samples_split=9, score=0.645, total=   0.5s\n",
      "[CV] max_depth=3, min_samples_leaf=3, min_samples_split=9 ............\n",
      "[CV]  max_depth=3, min_samples_leaf=3, min_samples_split=9, score=0.384, total=   0.5s\n",
      "[CV] max_depth=3, min_samples_leaf=3, min_samples_split=27 ...........\n",
      "[CV]  max_depth=3, min_samples_leaf=3, min_samples_split=27, score=0.509, total=   0.5s\n",
      "[CV] max_depth=3, min_samples_leaf=3, min_samples_split=27 ...........\n",
      "[CV]  max_depth=3, min_samples_leaf=3, min_samples_split=27, score=0.647, total=   0.5s\n",
      "[CV] max_depth=3, min_samples_leaf=3, min_samples_split=27 ...........\n",
      "[CV]  max_depth=3, min_samples_leaf=3, min_samples_split=27, score=0.382, total=   0.5s\n",
      "[CV] max_depth=3, min_samples_leaf=3, min_samples_split=81 ...........\n",
      "[CV]  max_depth=3, min_samples_leaf=3, min_samples_split=81, score=0.509, total=   0.5s\n",
      "[CV] max_depth=3, min_samples_leaf=3, min_samples_split=81 ...........\n",
      "[CV]  max_depth=3, min_samples_leaf=3, min_samples_split=81, score=0.647, total=   0.5s\n",
      "[CV] max_depth=3, min_samples_leaf=3, min_samples_split=81 ...........\n",
      "[CV]  max_depth=3, min_samples_leaf=3, min_samples_split=81, score=0.377, total=   0.5s\n",
      "[CV] max_depth=3, min_samples_leaf=9, min_samples_split=3 ............\n",
      "[CV]  max_depth=3, min_samples_leaf=9, min_samples_split=3, score=0.509, total=   0.5s\n",
      "[CV] max_depth=3, min_samples_leaf=9, min_samples_split=3 ............\n",
      "[CV]  max_depth=3, min_samples_leaf=9, min_samples_split=3, score=0.644, total=   0.5s\n",
      "[CV] max_depth=3, min_samples_leaf=9, min_samples_split=3 ............\n",
      "[CV]  max_depth=3, min_samples_leaf=9, min_samples_split=3, score=0.381, total=   0.5s\n",
      "[CV] max_depth=3, min_samples_leaf=9, min_samples_split=9 ............\n",
      "[CV]  max_depth=3, min_samples_leaf=9, min_samples_split=9, score=0.509, total=   0.5s\n",
      "[CV] max_depth=3, min_samples_leaf=9, min_samples_split=9 ............\n",
      "[CV]  max_depth=3, min_samples_leaf=9, min_samples_split=9, score=0.644, total=   0.5s\n",
      "[CV] max_depth=3, min_samples_leaf=9, min_samples_split=9 ............\n",
      "[CV]  max_depth=3, min_samples_leaf=9, min_samples_split=9, score=0.381, total=   0.5s\n",
      "[CV] max_depth=3, min_samples_leaf=9, min_samples_split=27 ...........\n",
      "[CV]  max_depth=3, min_samples_leaf=9, min_samples_split=27, score=0.507, total=   0.5s\n",
      "[CV] max_depth=3, min_samples_leaf=9, min_samples_split=27 ...........\n",
      "[CV]  max_depth=3, min_samples_leaf=9, min_samples_split=27, score=0.645, total=   0.5s\n",
      "[CV] max_depth=3, min_samples_leaf=9, min_samples_split=27 ...........\n",
      "[CV]  max_depth=3, min_samples_leaf=9, min_samples_split=27, score=0.382, total=   0.5s\n",
      "[CV] max_depth=3, min_samples_leaf=9, min_samples_split=81 ...........\n",
      "[CV]  max_depth=3, min_samples_leaf=9, min_samples_split=81, score=0.507, total=   0.5s\n",
      "[CV] max_depth=3, min_samples_leaf=9, min_samples_split=81 ...........\n",
      "[CV]  max_depth=3, min_samples_leaf=9, min_samples_split=81, score=0.646, total=   0.5s\n",
      "[CV] max_depth=3, min_samples_leaf=9, min_samples_split=81 ...........\n",
      "[CV]  max_depth=3, min_samples_leaf=9, min_samples_split=81, score=0.376, total=   0.5s\n",
      "[CV] max_depth=3, min_samples_leaf=27, min_samples_split=3 ...........\n",
      "[CV]  max_depth=3, min_samples_leaf=27, min_samples_split=3, score=0.501, total=   0.5s\n",
      "[CV] max_depth=3, min_samples_leaf=27, min_samples_split=3 ...........\n",
      "[CV]  max_depth=3, min_samples_leaf=27, min_samples_split=3, score=0.630, total=   0.5s\n",
      "[CV] max_depth=3, min_samples_leaf=27, min_samples_split=3 ...........\n",
      "[CV]  max_depth=3, min_samples_leaf=27, min_samples_split=3, score=0.369, total=   0.5s\n",
      "[CV] max_depth=3, min_samples_leaf=27, min_samples_split=9 ...........\n",
      "[CV]  max_depth=3, min_samples_leaf=27, min_samples_split=9, score=0.501, total=   0.5s\n",
      "[CV] max_depth=3, min_samples_leaf=27, min_samples_split=9 ...........\n",
      "[CV]  max_depth=3, min_samples_leaf=27, min_samples_split=9, score=0.630, total=   0.5s\n",
      "[CV] max_depth=3, min_samples_leaf=27, min_samples_split=9 ...........\n",
      "[CV]  max_depth=3, min_samples_leaf=27, min_samples_split=9, score=0.369, total=   0.4s\n",
      "[CV] max_depth=3, min_samples_leaf=27, min_samples_split=27 ..........\n",
      "[CV]  max_depth=3, min_samples_leaf=27, min_samples_split=27, score=0.501, total=   0.5s\n",
      "[CV] max_depth=3, min_samples_leaf=27, min_samples_split=27 ..........\n",
      "[CV]  max_depth=3, min_samples_leaf=27, min_samples_split=27, score=0.630, total=   0.5s\n",
      "[CV] max_depth=3, min_samples_leaf=27, min_samples_split=27 ..........\n",
      "[CV]  max_depth=3, min_samples_leaf=27, min_samples_split=27, score=0.369, total=   0.5s\n",
      "[CV] max_depth=3, min_samples_leaf=27, min_samples_split=81 ..........\n",
      "[CV]  max_depth=3, min_samples_leaf=27, min_samples_split=81, score=0.501, total=   0.5s\n",
      "[CV] max_depth=3, min_samples_leaf=27, min_samples_split=81 ..........\n",
      "[CV]  max_depth=3, min_samples_leaf=27, min_samples_split=81, score=0.629, total=   0.5s\n",
      "[CV] max_depth=3, min_samples_leaf=27, min_samples_split=81 ..........\n",
      "[CV]  max_depth=3, min_samples_leaf=27, min_samples_split=81, score=0.369, total=   0.5s\n",
      "[CV] max_depth=5, min_samples_leaf=1, min_samples_split=3 ............\n",
      "[CV]  max_depth=5, min_samples_leaf=1, min_samples_split=3, score=0.547, total=   0.6s\n",
      "[CV] max_depth=5, min_samples_leaf=1, min_samples_split=3 ............\n",
      "[CV]  max_depth=5, min_samples_leaf=1, min_samples_split=3, score=0.677, total=   0.6s\n",
      "[CV] max_depth=5, min_samples_leaf=1, min_samples_split=3 ............\n",
      "[CV]  max_depth=5, min_samples_leaf=1, min_samples_split=3, score=0.406, total=   0.6s\n",
      "[CV] max_depth=5, min_samples_leaf=1, min_samples_split=9 ............\n",
      "[CV]  max_depth=5, min_samples_leaf=1, min_samples_split=9, score=0.547, total=   0.6s\n",
      "[CV] max_depth=5, min_samples_leaf=1, min_samples_split=9 ............\n",
      "[CV]  max_depth=5, min_samples_leaf=1, min_samples_split=9, score=0.673, total=   0.6s\n",
      "[CV] max_depth=5, min_samples_leaf=1, min_samples_split=9 ............\n",
      "[CV]  max_depth=5, min_samples_leaf=1, min_samples_split=9, score=0.407, total=   0.6s\n",
      "[CV] max_depth=5, min_samples_leaf=1, min_samples_split=27 ...........\n",
      "[CV]  max_depth=5, min_samples_leaf=1, min_samples_split=27, score=0.548, total=   0.6s\n",
      "[CV] max_depth=5, min_samples_leaf=1, min_samples_split=27 ...........\n",
      "[CV]  max_depth=5, min_samples_leaf=1, min_samples_split=27, score=0.678, total=   0.6s\n",
      "[CV] max_depth=5, min_samples_leaf=1, min_samples_split=27 ...........\n",
      "[CV]  max_depth=5, min_samples_leaf=1, min_samples_split=27, score=0.406, total=   0.6s\n",
      "[CV] max_depth=5, min_samples_leaf=1, min_samples_split=81 ...........\n",
      "[CV]  max_depth=5, min_samples_leaf=1, min_samples_split=81, score=0.548, total=   0.6s\n",
      "[CV] max_depth=5, min_samples_leaf=1, min_samples_split=81 ...........\n",
      "[CV]  max_depth=5, min_samples_leaf=1, min_samples_split=81, score=0.680, total=   0.6s\n",
      "[CV] max_depth=5, min_samples_leaf=1, min_samples_split=81 ...........\n",
      "[CV]  max_depth=5, min_samples_leaf=1, min_samples_split=81, score=0.407, total=   0.6s\n",
      "[CV] max_depth=5, min_samples_leaf=3, min_samples_split=3 ............\n",
      "[CV]  max_depth=5, min_samples_leaf=3, min_samples_split=3, score=0.549, total=   0.6s\n",
      "[CV] max_depth=5, min_samples_leaf=3, min_samples_split=3 ............\n",
      "[CV]  max_depth=5, min_samples_leaf=3, min_samples_split=3, score=0.678, total=   0.6s\n",
      "[CV] max_depth=5, min_samples_leaf=3, min_samples_split=3 ............\n",
      "[CV]  max_depth=5, min_samples_leaf=3, min_samples_split=3, score=0.407, total=   0.6s\n",
      "[CV] max_depth=5, min_samples_leaf=3, min_samples_split=9 ............\n",
      "[CV]  max_depth=5, min_samples_leaf=3, min_samples_split=9, score=0.549, total=   0.6s\n",
      "[CV] max_depth=5, min_samples_leaf=3, min_samples_split=9 ............\n",
      "[CV]  max_depth=5, min_samples_leaf=3, min_samples_split=9, score=0.676, total=   0.6s\n",
      "[CV] max_depth=5, min_samples_leaf=3, min_samples_split=9 ............\n",
      "[CV]  max_depth=5, min_samples_leaf=3, min_samples_split=9, score=0.406, total=   0.6s\n",
      "[CV] max_depth=5, min_samples_leaf=3, min_samples_split=27 ...........\n",
      "[CV]  max_depth=5, min_samples_leaf=3, min_samples_split=27, score=0.550, total=   0.6s\n",
      "[CV] max_depth=5, min_samples_leaf=3, min_samples_split=27 ...........\n",
      "[CV]  max_depth=5, min_samples_leaf=3, min_samples_split=27, score=0.677, total=   0.6s\n",
      "[CV] max_depth=5, min_samples_leaf=3, min_samples_split=27 ...........\n",
      "[CV]  max_depth=5, min_samples_leaf=3, min_samples_split=27, score=0.406, total=   0.6s\n",
      "[CV] max_depth=5, min_samples_leaf=3, min_samples_split=81 ...........\n",
      "[CV]  max_depth=5, min_samples_leaf=3, min_samples_split=81, score=0.547, total=   0.6s\n",
      "[CV] max_depth=5, min_samples_leaf=3, min_samples_split=81 ...........\n",
      "[CV]  max_depth=5, min_samples_leaf=3, min_samples_split=81, score=0.680, total=   0.6s\n",
      "[CV] max_depth=5, min_samples_leaf=3, min_samples_split=81 ...........\n",
      "[CV]  max_depth=5, min_samples_leaf=3, min_samples_split=81, score=0.407, total=   0.6s\n",
      "[CV] max_depth=5, min_samples_leaf=9, min_samples_split=3 ............\n",
      "[CV]  max_depth=5, min_samples_leaf=9, min_samples_split=3, score=0.547, total=   0.6s\n",
      "[CV] max_depth=5, min_samples_leaf=9, min_samples_split=3 ............\n",
      "[CV]  max_depth=5, min_samples_leaf=9, min_samples_split=3, score=0.680, total=   0.6s\n",
      "[CV] max_depth=5, min_samples_leaf=9, min_samples_split=3 ............\n",
      "[CV]  max_depth=5, min_samples_leaf=9, min_samples_split=3, score=0.405, total=   0.6s\n",
      "[CV] max_depth=5, min_samples_leaf=9, min_samples_split=9 ............\n",
      "[CV]  max_depth=5, min_samples_leaf=9, min_samples_split=9, score=0.547, total=   0.6s\n",
      "[CV] max_depth=5, min_samples_leaf=9, min_samples_split=9 ............\n",
      "[CV]  max_depth=5, min_samples_leaf=9, min_samples_split=9, score=0.680, total=   0.6s\n",
      "[CV] max_depth=5, min_samples_leaf=9, min_samples_split=9 ............\n",
      "[CV]  max_depth=5, min_samples_leaf=9, min_samples_split=9, score=0.405, total=   0.6s\n",
      "[CV] max_depth=5, min_samples_leaf=9, min_samples_split=27 ...........\n",
      "[CV]  max_depth=5, min_samples_leaf=9, min_samples_split=27, score=0.545, total=   0.6s\n",
      "[CV] max_depth=5, min_samples_leaf=9, min_samples_split=27 ...........\n",
      "[CV]  max_depth=5, min_samples_leaf=9, min_samples_split=27, score=0.679, total=   0.6s\n",
      "[CV] max_depth=5, min_samples_leaf=9, min_samples_split=27 ...........\n",
      "[CV]  max_depth=5, min_samples_leaf=9, min_samples_split=27, score=0.404, total=   0.6s\n",
      "[CV] max_depth=5, min_samples_leaf=9, min_samples_split=81 ...........\n",
      "[CV]  max_depth=5, min_samples_leaf=9, min_samples_split=81, score=0.545, total=   0.6s\n",
      "[CV] max_depth=5, min_samples_leaf=9, min_samples_split=81 ...........\n",
      "[CV]  max_depth=5, min_samples_leaf=9, min_samples_split=81, score=0.680, total=   0.6s\n",
      "[CV] max_depth=5, min_samples_leaf=9, min_samples_split=81 ...........\n",
      "[CV]  max_depth=5, min_samples_leaf=9, min_samples_split=81, score=0.405, total=   0.6s\n",
      "[CV] max_depth=5, min_samples_leaf=27, min_samples_split=3 ...........\n",
      "[CV]  max_depth=5, min_samples_leaf=27, min_samples_split=3, score=0.533, total=   0.6s\n",
      "[CV] max_depth=5, min_samples_leaf=27, min_samples_split=3 ...........\n",
      "[CV]  max_depth=5, min_samples_leaf=27, min_samples_split=3, score=0.658, total=   0.6s\n",
      "[CV] max_depth=5, min_samples_leaf=27, min_samples_split=3 ...........\n",
      "[CV]  max_depth=5, min_samples_leaf=27, min_samples_split=3, score=0.397, total=   0.6s\n",
      "[CV] max_depth=5, min_samples_leaf=27, min_samples_split=9 ...........\n",
      "[CV]  max_depth=5, min_samples_leaf=27, min_samples_split=9, score=0.533, total=   0.6s\n",
      "[CV] max_depth=5, min_samples_leaf=27, min_samples_split=9 ...........\n",
      "[CV]  max_depth=5, min_samples_leaf=27, min_samples_split=9, score=0.658, total=   0.6s\n",
      "[CV] max_depth=5, min_samples_leaf=27, min_samples_split=9 ...........\n",
      "[CV]  max_depth=5, min_samples_leaf=27, min_samples_split=9, score=0.397, total=   0.6s\n",
      "[CV] max_depth=5, min_samples_leaf=27, min_samples_split=27 ..........\n",
      "[CV]  max_depth=5, min_samples_leaf=27, min_samples_split=27, score=0.533, total=   0.6s\n",
      "[CV] max_depth=5, min_samples_leaf=27, min_samples_split=27 ..........\n",
      "[CV]  max_depth=5, min_samples_leaf=27, min_samples_split=27, score=0.658, total=   0.6s\n",
      "[CV] max_depth=5, min_samples_leaf=27, min_samples_split=27 ..........\n",
      "[CV]  max_depth=5, min_samples_leaf=27, min_samples_split=27, score=0.397, total=   0.6s\n",
      "[CV] max_depth=5, min_samples_leaf=27, min_samples_split=81 ..........\n",
      "[CV]  max_depth=5, min_samples_leaf=27, min_samples_split=81, score=0.534, total=   0.6s\n",
      "[CV] max_depth=5, min_samples_leaf=27, min_samples_split=81 ..........\n",
      "[CV]  max_depth=5, min_samples_leaf=27, min_samples_split=81, score=0.657, total=   0.6s\n",
      "[CV] max_depth=5, min_samples_leaf=27, min_samples_split=81 ..........\n",
      "[CV]  max_depth=5, min_samples_leaf=27, min_samples_split=81, score=0.396, total=   0.6s\n",
      "[CV] max_depth=7, min_samples_leaf=1, min_samples_split=3 ............\n",
      "[CV]  max_depth=7, min_samples_leaf=1, min_samples_split=3, score=0.549, total=   0.8s\n",
      "[CV] max_depth=7, min_samples_leaf=1, min_samples_split=3 ............\n",
      "[CV]  max_depth=7, min_samples_leaf=1, min_samples_split=3, score=0.670, total=   0.8s\n",
      "[CV] max_depth=7, min_samples_leaf=1, min_samples_split=3 ............\n",
      "[CV]  max_depth=7, min_samples_leaf=1, min_samples_split=3, score=0.404, total=   0.8s\n",
      "[CV] max_depth=7, min_samples_leaf=1, min_samples_split=9 ............\n",
      "[CV]  max_depth=7, min_samples_leaf=1, min_samples_split=9, score=0.551, total=   0.7s\n",
      "[CV] max_depth=7, min_samples_leaf=1, min_samples_split=9 ............\n",
      "[CV]  max_depth=7, min_samples_leaf=1, min_samples_split=9, score=0.665, total=   0.7s\n",
      "[CV] max_depth=7, min_samples_leaf=1, min_samples_split=9 ............\n",
      "[CV]  max_depth=7, min_samples_leaf=1, min_samples_split=9, score=0.405, total=   0.8s\n",
      "[CV] max_depth=7, min_samples_leaf=1, min_samples_split=27 ...........\n",
      "[CV]  max_depth=7, min_samples_leaf=1, min_samples_split=27, score=0.552, total=   0.7s\n",
      "[CV] max_depth=7, min_samples_leaf=1, min_samples_split=27 ...........\n",
      "[CV]  max_depth=7, min_samples_leaf=1, min_samples_split=27, score=0.673, total=   0.7s\n",
      "[CV] max_depth=7, min_samples_leaf=1, min_samples_split=27 ...........\n",
      "[CV]  max_depth=7, min_samples_leaf=1, min_samples_split=27, score=0.407, total=   0.7s\n",
      "[CV] max_depth=7, min_samples_leaf=1, min_samples_split=81 ...........\n",
      "[CV]  max_depth=7, min_samples_leaf=1, min_samples_split=81, score=0.552, total=   0.7s\n",
      "[CV] max_depth=7, min_samples_leaf=1, min_samples_split=81 ...........\n",
      "[CV]  max_depth=7, min_samples_leaf=1, min_samples_split=81, score=0.679, total=   0.7s\n",
      "[CV] max_depth=7, min_samples_leaf=1, min_samples_split=81 ...........\n",
      "[CV]  max_depth=7, min_samples_leaf=1, min_samples_split=81, score=0.410, total=   0.7s\n",
      "[CV] max_depth=7, min_samples_leaf=3, min_samples_split=3 ............\n",
      "[CV]  max_depth=7, min_samples_leaf=3, min_samples_split=3, score=0.550, total=   0.8s\n",
      "[CV] max_depth=7, min_samples_leaf=3, min_samples_split=3 ............\n",
      "[CV]  max_depth=7, min_samples_leaf=3, min_samples_split=3, score=0.672, total=   0.7s\n",
      "[CV] max_depth=7, min_samples_leaf=3, min_samples_split=3 ............\n",
      "[CV]  max_depth=7, min_samples_leaf=3, min_samples_split=3, score=0.408, total=   0.7s\n",
      "[CV] max_depth=7, min_samples_leaf=3, min_samples_split=9 ............\n",
      "[CV]  max_depth=7, min_samples_leaf=3, min_samples_split=9, score=0.553, total=   0.7s\n",
      "[CV] max_depth=7, min_samples_leaf=3, min_samples_split=9 ............\n",
      "[CV]  max_depth=7, min_samples_leaf=3, min_samples_split=9, score=0.672, total=   0.7s\n",
      "[CV] max_depth=7, min_samples_leaf=3, min_samples_split=9 ............\n",
      "[CV]  max_depth=7, min_samples_leaf=3, min_samples_split=9, score=0.405, total=   0.7s\n",
      "[CV] max_depth=7, min_samples_leaf=3, min_samples_split=27 ...........\n",
      "[CV]  max_depth=7, min_samples_leaf=3, min_samples_split=27, score=0.552, total=   0.7s\n",
      "[CV] max_depth=7, min_samples_leaf=3, min_samples_split=27 ...........\n",
      "[CV]  max_depth=7, min_samples_leaf=3, min_samples_split=27, score=0.674, total=   0.4s\n",
      "[CV] max_depth=7, min_samples_leaf=3, min_samples_split=27 ...........\n",
      "[CV]  max_depth=7, min_samples_leaf=3, min_samples_split=27, score=0.408, total=   0.4s\n",
      "[CV] max_depth=7, min_samples_leaf=3, min_samples_split=81 ...........\n",
      "[CV]  max_depth=7, min_samples_leaf=3, min_samples_split=81, score=0.552, total=   0.5s\n",
      "[CV] max_depth=7, min_samples_leaf=3, min_samples_split=81 ...........\n",
      "[CV]  max_depth=7, min_samples_leaf=3, min_samples_split=81, score=0.680, total=   0.6s\n",
      "[CV] max_depth=7, min_samples_leaf=3, min_samples_split=81 ...........\n",
      "[CV]  max_depth=7, min_samples_leaf=3, min_samples_split=81, score=0.410, total=   0.6s\n",
      "[CV] max_depth=7, min_samples_leaf=9, min_samples_split=3 ............\n",
      "[CV]  max_depth=7, min_samples_leaf=9, min_samples_split=3, score=0.549, total=   0.7s\n",
      "[CV] max_depth=7, min_samples_leaf=9, min_samples_split=3 ............\n",
      "[CV]  max_depth=7, min_samples_leaf=9, min_samples_split=3, score=0.674, total=   0.8s\n",
      "[CV] max_depth=7, min_samples_leaf=9, min_samples_split=3 ............\n",
      "[CV]  max_depth=7, min_samples_leaf=9, min_samples_split=3, score=0.406, total=   0.5s\n",
      "[CV] max_depth=7, min_samples_leaf=9, min_samples_split=9 ............\n",
      "[CV]  max_depth=7, min_samples_leaf=9, min_samples_split=9, score=0.549, total=   0.4s\n",
      "[CV] max_depth=7, min_samples_leaf=9, min_samples_split=9 ............\n",
      "[CV]  max_depth=7, min_samples_leaf=9, min_samples_split=9, score=0.674, total=   0.5s\n",
      "[CV] max_depth=7, min_samples_leaf=9, min_samples_split=9 ............\n",
      "[CV]  max_depth=7, min_samples_leaf=9, min_samples_split=9, score=0.406, total=   0.5s\n",
      "[CV] max_depth=7, min_samples_leaf=9, min_samples_split=27 ...........\n",
      "[CV]  max_depth=7, min_samples_leaf=9, min_samples_split=27, score=0.549, total=   0.4s\n",
      "[CV] max_depth=7, min_samples_leaf=9, min_samples_split=27 ...........\n",
      "[CV]  max_depth=7, min_samples_leaf=9, min_samples_split=27, score=0.673, total=   0.4s\n",
      "[CV] max_depth=7, min_samples_leaf=9, min_samples_split=27 ...........\n",
      "[CV]  max_depth=7, min_samples_leaf=9, min_samples_split=27, score=0.406, total=   0.8s\n",
      "[CV] max_depth=7, min_samples_leaf=9, min_samples_split=81 ...........\n",
      "[CV]  max_depth=7, min_samples_leaf=9, min_samples_split=81, score=0.548, total=   0.4s\n",
      "[CV] max_depth=7, min_samples_leaf=9, min_samples_split=81 ...........\n",
      "[CV]  max_depth=7, min_samples_leaf=9, min_samples_split=81, score=0.677, total=   0.4s\n",
      "[CV] max_depth=7, min_samples_leaf=9, min_samples_split=81 ...........\n",
      "[CV]  max_depth=7, min_samples_leaf=9, min_samples_split=81, score=0.406, total=   0.4s\n",
      "[CV] max_depth=7, min_samples_leaf=27, min_samples_split=3 ...........\n",
      "[CV]  max_depth=7, min_samples_leaf=27, min_samples_split=3, score=0.537, total=   0.4s\n",
      "[CV] max_depth=7, min_samples_leaf=27, min_samples_split=3 ...........\n",
      "[CV]  max_depth=7, min_samples_leaf=27, min_samples_split=3, score=0.659, total=   0.4s\n",
      "[CV] max_depth=7, min_samples_leaf=27, min_samples_split=3 ...........\n",
      "[CV]  max_depth=7, min_samples_leaf=27, min_samples_split=3, score=0.398, total=   0.4s\n",
      "[CV] max_depth=7, min_samples_leaf=27, min_samples_split=9 ...........\n",
      "[CV]  max_depth=7, min_samples_leaf=27, min_samples_split=9, score=0.537, total=   0.6s\n",
      "[CV] max_depth=7, min_samples_leaf=27, min_samples_split=9 ...........\n",
      "[CV]  max_depth=7, min_samples_leaf=27, min_samples_split=9, score=0.659, total=   0.6s\n",
      "[CV] max_depth=7, min_samples_leaf=27, min_samples_split=9 ...........\n",
      "[CV]  max_depth=7, min_samples_leaf=27, min_samples_split=9, score=0.398, total=   0.6s\n",
      "[CV] max_depth=7, min_samples_leaf=27, min_samples_split=27 ..........\n",
      "[CV]  max_depth=7, min_samples_leaf=27, min_samples_split=27, score=0.537, total=   0.4s\n",
      "[CV] max_depth=7, min_samples_leaf=27, min_samples_split=27 ..........\n",
      "[CV]  max_depth=7, min_samples_leaf=27, min_samples_split=27, score=0.659, total=   0.4s\n",
      "[CV] max_depth=7, min_samples_leaf=27, min_samples_split=27 ..........\n",
      "[CV]  max_depth=7, min_samples_leaf=27, min_samples_split=27, score=0.398, total=   0.4s\n",
      "[CV] max_depth=7, min_samples_leaf=27, min_samples_split=81 ..........\n",
      "[CV]  max_depth=7, min_samples_leaf=27, min_samples_split=81, score=0.535, total=   0.3s\n",
      "[CV] max_depth=7, min_samples_leaf=27, min_samples_split=81 ..........\n",
      "[CV]  max_depth=7, min_samples_leaf=27, min_samples_split=81, score=0.658, total=   0.3s\n",
      "[CV] max_depth=7, min_samples_leaf=27, min_samples_split=81 ..........\n",
      "[CV]  max_depth=7, min_samples_leaf=27, min_samples_split=81, score=0.398, total=   0.3s\n"
     ]
    },
    {
     "name": "stderr",
     "output_type": "stream",
     "text": [
      "[Parallel(n_jobs=1)]: Done 192 out of 192 | elapsed:  1.6min finished\n"
     ]
    },
    {
     "data": {
      "text/plain": [
       "GridSearchCV(cv=3,\n",
       "             estimator=RandomForestRegressor(max_features=64, random_state=1,\n",
       "                                             warm_start=True),\n",
       "             param_grid={'max_depth': array([1, 3, 5, 7]),\n",
       "                         'min_samples_leaf': [1, 3, 9, 27],\n",
       "                         'min_samples_split': [3, 9, 27, 81]},\n",
       "             scoring=make_scorer(r2_score), verbose=3)"
      ]
     },
     "execution_count": 24,
     "metadata": {},
     "output_type": "execute_result"
    }
   ],
   "source": [
    "gs.fit(x1, y1)"
   ]
  },
  {
   "cell_type": "code",
   "execution_count": 25,
   "metadata": {},
   "outputs": [
    {
     "data": {
      "text/plain": [
       "{'max_depth': 7, 'min_samples_leaf': 3, 'min_samples_split': 81}"
      ]
     },
     "execution_count": 25,
     "metadata": {},
     "output_type": "execute_result"
    }
   ],
   "source": [
    "order = np.argsort(gs.cv_results_['mean_test_score'])\n",
    "cv_res = np.array(gs.cv_results_['params'])\n",
    "cv_res[np.array(order)][-1]"
   ]
  },
  {
   "cell_type": "markdown",
   "metadata": {},
   "source": [
    "Лучшие результаты получены при следующих значениях {'max_depth': 7, 'min_samples_leaf': 3, 'min_samples_split': 81}\n",
    "Обучаю случайный лес с выбранными параметрами."
   ]
  },
  {
   "cell_type": "code",
   "execution_count": 26,
   "metadata": {},
   "outputs": [],
   "source": [
    "rf_model = RandomForestRegressor(n_estimators=100, max_features=64, max_depth=7, min_samples_leaf=3, \n",
    "                                 min_samples_split=81, random_state=1)"
   ]
  },
  {
   "cell_type": "code",
   "execution_count": 27,
   "metadata": {},
   "outputs": [
    {
     "data": {
      "text/plain": [
       "RandomForestRegressor(max_depth=7, max_features=64, min_samples_leaf=3,\n",
       "                      min_samples_split=81, random_state=1)"
      ]
     },
     "execution_count": 27,
     "metadata": {},
     "output_type": "execute_result"
    }
   ],
   "source": [
    "rf_model.fit(x1,y1)"
   ]
  },
  {
   "cell_type": "markdown",
   "metadata": {},
   "source": [
    "__Задание 2.__\n",
    "\n",
    "Теперь настроим градиентный бустинг, используя ту же выборку x1, y1.\n",
    "\n",
    "1.  __(1.5 балла)__ Запустите кросс-валидацию для GradentBoostingRegressor по n_estimators и learning_rate. Постройте двумерный график или несколько одномерных (например, график качество-число деревьев при разных значениях длины шага). При построении графиков используйте логарифмическую шкалу по оси абсцисс (вызовите np.log2 или используйте plt.xscale(\"log\")). Прокомментируйте график: ожидаете ли вы такое поведение, или результат нестандартный? Выберите значения для использования при дальнейшей настройке и для финального обучения модели.\n",
    "1.  __(1.25 балла)__ Постройте график зависимости качества от max_depth на кросс-валидации. Прокомментируйте график: ожидаете ли вы такое поведение, или результат нестандартный? Выберите оптимальное значение гиперпараметра.\n",
    "1.  __(1.25 балла)__ Выберите оптимальные значения для min_samples_split, min_samples_leaf, max_features с помощью кросс-валидации. В этом пункте не нужно строить график. Обратите внимание, что в этом пункте нужно исползьзовать ранее выбранные гиперпараметры.\n",
    "1.  __(0.5 балла)__ Обучите итоговую модель с выбранными значениями гиперпараметров на всей выборке x1, y1.\n",
    "\n",
    "Примеры построения трехмерных графиков [здесь](https://matplotlib.org/mpl_toolkits/mplot3d/tutorial.html)."
   ]
  },
  {
   "cell_type": "code",
   "execution_count": 28,
   "metadata": {},
   "outputs": [],
   "source": [
    "# базовая шкала для числа деревьев и длины шага\n",
    "param_grid = {\"n_estimators\":2**np.arange(10), \"learning_rate\":0.1**np.arange(5)}"
   ]
  },
  {
   "cell_type": "code",
   "execution_count": 29,
   "metadata": {},
   "outputs": [
    {
     "name": "stderr",
     "output_type": "stream",
     "text": [
      "C:\\Python\\ANACONDA\\lib\\site-packages\\sklearn\\utils\\validation.py:67: FutureWarning: Pass scoring=make_scorer(r2_score) as keyword args. From version 0.25 passing these as positional arguments will result in an error\n",
      "  warnings.warn(\"Pass {} as keyword args. From version 0.25 \"\n"
     ]
    }
   ],
   "source": [
    "gs = GridSearchCV(GradientBoostingRegressor(random_state=1, warm_start=True), param_grid, \n",
    "                                            make_scorer(r2_score), cv=3, verbose=3)"
   ]
  },
  {
   "cell_type": "code",
   "execution_count": 30,
   "metadata": {},
   "outputs": [
    {
     "name": "stderr",
     "output_type": "stream",
     "text": [
      "[Parallel(n_jobs=1)]: Using backend SequentialBackend with 1 concurrent workers.\n",
      "[Parallel(n_jobs=1)]: Done   1 out of   1 | elapsed:    0.0s remaining:    0.0s\n",
      "[Parallel(n_jobs=1)]: Done   2 out of   2 | elapsed:    0.0s remaining:    0.0s\n"
     ]
    },
    {
     "name": "stdout",
     "output_type": "stream",
     "text": [
      "Fitting 3 folds for each of 50 candidates, totalling 150 fits\n",
      "[CV] learning_rate=1.0, n_estimators=1 ...............................\n",
      "[CV] ... learning_rate=1.0, n_estimators=1, score=0.546, total=   0.0s\n",
      "[CV] learning_rate=1.0, n_estimators=1 ...............................\n",
      "[CV] ... learning_rate=1.0, n_estimators=1, score=0.669, total=   0.0s\n",
      "[CV] learning_rate=1.0, n_estimators=1 ...............................\n",
      "[CV] ... learning_rate=1.0, n_estimators=1, score=0.408, total=   0.0s\n",
      "[CV] learning_rate=1.0, n_estimators=2 ...............................\n",
      "[CV] ... learning_rate=1.0, n_estimators=2, score=0.545, total=   0.0s\n",
      "[CV] learning_rate=1.0, n_estimators=2 ...............................\n",
      "[CV] ... learning_rate=1.0, n_estimators=2, score=0.649, total=   0.0s\n",
      "[CV] learning_rate=1.0, n_estimators=2 ...............................\n",
      "[CV] ... learning_rate=1.0, n_estimators=2, score=0.401, total=   0.0s\n",
      "[CV] learning_rate=1.0, n_estimators=4 ...............................\n",
      "[CV] ... learning_rate=1.0, n_estimators=4, score=0.513, total=   0.1s\n",
      "[CV] learning_rate=1.0, n_estimators=4 ...............................\n",
      "[CV] ... learning_rate=1.0, n_estimators=4, score=0.616, total=   0.1s\n",
      "[CV] learning_rate=1.0, n_estimators=4 ...............................\n",
      "[CV] ... learning_rate=1.0, n_estimators=4, score=0.411, total=   0.1s\n",
      "[CV] learning_rate=1.0, n_estimators=8 ...............................\n",
      "[CV] ... learning_rate=1.0, n_estimators=8, score=0.488, total=   0.1s\n",
      "[CV] learning_rate=1.0, n_estimators=8 ...............................\n",
      "[CV] ... learning_rate=1.0, n_estimators=8, score=0.559, total=   0.1s\n",
      "[CV] learning_rate=1.0, n_estimators=8 ...............................\n",
      "[CV] ... learning_rate=1.0, n_estimators=8, score=0.344, total=   0.1s\n",
      "[CV] learning_rate=1.0, n_estimators=16 ..............................\n",
      "[CV] .. learning_rate=1.0, n_estimators=16, score=0.391, total=   0.2s\n",
      "[CV] learning_rate=1.0, n_estimators=16 ..............................\n",
      "[CV] .. learning_rate=1.0, n_estimators=16, score=0.483, total=   0.2s\n",
      "[CV] learning_rate=1.0, n_estimators=16 ..............................\n",
      "[CV] .. learning_rate=1.0, n_estimators=16, score=0.303, total=   0.2s\n",
      "[CV] learning_rate=1.0, n_estimators=32 ..............................\n",
      "[CV] .. learning_rate=1.0, n_estimators=32, score=0.288, total=   0.3s\n",
      "[CV] learning_rate=1.0, n_estimators=32 ..............................\n",
      "[CV] .. learning_rate=1.0, n_estimators=32, score=0.381, total=   0.3s\n",
      "[CV] learning_rate=1.0, n_estimators=32 ..............................\n",
      "[CV] .. learning_rate=1.0, n_estimators=32, score=0.247, total=   0.3s\n",
      "[CV] learning_rate=1.0, n_estimators=64 ..............................\n",
      "[CV] .. learning_rate=1.0, n_estimators=64, score=0.170, total=   0.6s\n",
      "[CV] learning_rate=1.0, n_estimators=64 ..............................\n",
      "[CV] .. learning_rate=1.0, n_estimators=64, score=0.298, total=   0.6s\n",
      "[CV] learning_rate=1.0, n_estimators=64 ..............................\n",
      "[CV] .. learning_rate=1.0, n_estimators=64, score=0.207, total=   0.7s\n",
      "[CV] learning_rate=1.0, n_estimators=128 .............................\n",
      "[CV] . learning_rate=1.0, n_estimators=128, score=0.054, total=   1.3s\n",
      "[CV] learning_rate=1.0, n_estimators=128 .............................\n",
      "[CV] . learning_rate=1.0, n_estimators=128, score=0.197, total=   1.4s\n",
      "[CV] learning_rate=1.0, n_estimators=128 .............................\n",
      "[CV] . learning_rate=1.0, n_estimators=128, score=0.162, total=   1.4s\n",
      "[CV] learning_rate=1.0, n_estimators=256 .............................\n",
      "[CV]  learning_rate=1.0, n_estimators=256, score=-0.011, total=   2.7s\n",
      "[CV] learning_rate=1.0, n_estimators=256 .............................\n",
      "[CV] . learning_rate=1.0, n_estimators=256, score=0.124, total=   2.5s\n",
      "[CV] learning_rate=1.0, n_estimators=256 .............................\n",
      "[CV] . learning_rate=1.0, n_estimators=256, score=0.103, total=   2.7s\n",
      "[CV] learning_rate=1.0, n_estimators=512 .............................\n",
      "[CV]  learning_rate=1.0, n_estimators=512, score=-0.056, total=   5.5s\n",
      "[CV] learning_rate=1.0, n_estimators=512 .............................\n",
      "[CV] . learning_rate=1.0, n_estimators=512, score=0.059, total=   5.4s\n",
      "[CV] learning_rate=1.0, n_estimators=512 .............................\n",
      "[CV] . learning_rate=1.0, n_estimators=512, score=0.085, total=   5.7s\n",
      "[CV] learning_rate=0.1, n_estimators=1 ...............................\n",
      "[CV] ... learning_rate=0.1, n_estimators=1, score=0.101, total=   0.0s\n",
      "[CV] learning_rate=0.1, n_estimators=1 ...............................\n",
      "[CV] ... learning_rate=0.1, n_estimators=1, score=0.123, total=   0.0s\n",
      "[CV] learning_rate=0.1, n_estimators=1 ...............................\n",
      "[CV] ... learning_rate=0.1, n_estimators=1, score=0.081, total=   0.0s\n",
      "[CV] learning_rate=0.1, n_estimators=2 ...............................\n",
      "[CV] ... learning_rate=0.1, n_estimators=2, score=0.182, total=   0.0s\n",
      "[CV] learning_rate=0.1, n_estimators=2 ...............................\n",
      "[CV] ... learning_rate=0.1, n_estimators=2, score=0.229, total=   0.0s\n",
      "[CV] learning_rate=0.1, n_estimators=2 ...............................\n",
      "[CV] ... learning_rate=0.1, n_estimators=2, score=0.148, total=   0.0s\n",
      "[CV] learning_rate=0.1, n_estimators=4 ...............................\n",
      "[CV] ... learning_rate=0.1, n_estimators=4, score=0.303, total=   0.1s\n",
      "[CV] learning_rate=0.1, n_estimators=4 ...............................\n",
      "[CV] ... learning_rate=0.1, n_estimators=4, score=0.384, total=   0.1s\n",
      "[CV] learning_rate=0.1, n_estimators=4 ...............................\n",
      "[CV] ... learning_rate=0.1, n_estimators=4, score=0.246, total=   0.2s\n",
      "[CV] learning_rate=0.1, n_estimators=8 ...............................\n",
      "[CV] ... learning_rate=0.1, n_estimators=8, score=0.438, total=   0.1s\n",
      "[CV] learning_rate=0.1, n_estimators=8 ...............................\n",
      "[CV] ... learning_rate=0.1, n_estimators=8, score=0.555, total=   0.1s\n",
      "[CV] learning_rate=0.1, n_estimators=8 ...............................\n",
      "[CV] ... learning_rate=0.1, n_estimators=8, score=0.349, total=   0.1s\n",
      "[CV] learning_rate=0.1, n_estimators=16 ..............................\n",
      "[CV] .. learning_rate=0.1, n_estimators=16, score=0.523, total=   0.2s\n",
      "[CV] learning_rate=0.1, n_estimators=16 ..............................\n",
      "[CV] .. learning_rate=0.1, n_estimators=16, score=0.658, total=   0.2s\n",
      "[CV] learning_rate=0.1, n_estimators=16 ..............................\n",
      "[CV] .. learning_rate=0.1, n_estimators=16, score=0.405, total=   0.2s\n",
      "[CV] learning_rate=0.1, n_estimators=32 ..............................\n",
      "[CV] .. learning_rate=0.1, n_estimators=32, score=0.542, total=   0.3s\n",
      "[CV] learning_rate=0.1, n_estimators=32 ..............................\n",
      "[CV] .. learning_rate=0.1, n_estimators=32, score=0.673, total=   0.3s\n",
      "[CV] learning_rate=0.1, n_estimators=32 ..............................\n",
      "[CV] .. learning_rate=0.1, n_estimators=32, score=0.413, total=   0.4s\n",
      "[CV] learning_rate=0.1, n_estimators=64 ..............................\n",
      "[CV] .. learning_rate=0.1, n_estimators=64, score=0.544, total=   0.8s\n",
      "[CV] learning_rate=0.1, n_estimators=64 ..............................\n",
      "[CV] .. learning_rate=0.1, n_estimators=64, score=0.661, total=   0.9s\n",
      "[CV] learning_rate=0.1, n_estimators=64 ..............................\n",
      "[CV] .. learning_rate=0.1, n_estimators=64, score=0.414, total=   0.9s\n",
      "[CV] learning_rate=0.1, n_estimators=128 .............................\n",
      "[CV] . learning_rate=0.1, n_estimators=128, score=0.528, total=   1.8s\n",
      "[CV] learning_rate=0.1, n_estimators=128 .............................\n",
      "[CV] . learning_rate=0.1, n_estimators=128, score=0.634, total=   1.4s\n",
      "[CV] learning_rate=0.1, n_estimators=128 .............................\n",
      "[CV] . learning_rate=0.1, n_estimators=128, score=0.407, total=   1.4s\n",
      "[CV] learning_rate=0.1, n_estimators=256 .............................\n",
      "[CV] . learning_rate=0.1, n_estimators=256, score=0.510, total=   2.9s\n",
      "[CV] learning_rate=0.1, n_estimators=256 .............................\n",
      "[CV] . learning_rate=0.1, n_estimators=256, score=0.581, total=   3.4s\n",
      "[CV] learning_rate=0.1, n_estimators=256 .............................\n",
      "[CV] . learning_rate=0.1, n_estimators=256, score=0.390, total=   2.7s\n",
      "[CV] learning_rate=0.1, n_estimators=512 .............................\n",
      "[CV] . learning_rate=0.1, n_estimators=512, score=0.472, total=   5.8s\n",
      "[CV] learning_rate=0.1, n_estimators=512 .............................\n",
      "[CV] . learning_rate=0.1, n_estimators=512, score=0.504, total=   4.8s\n",
      "[CV] learning_rate=0.1, n_estimators=512 .............................\n",
      "[CV] . learning_rate=0.1, n_estimators=512, score=0.360, total=   5.1s\n",
      "[CV] learning_rate=0.010000000000000002, n_estimators=1 ..............\n",
      "[CV]  learning_rate=0.010000000000000002, n_estimators=1, score=0.010, total=   0.0s\n",
      "[CV] learning_rate=0.010000000000000002, n_estimators=1 ..............\n",
      "[CV]  learning_rate=0.010000000000000002, n_estimators=1, score=0.006, total=   0.0s\n",
      "[CV] learning_rate=0.010000000000000002, n_estimators=1 ..............\n",
      "[CV]  learning_rate=0.010000000000000002, n_estimators=1, score=0.005, total=   0.0s\n",
      "[CV] learning_rate=0.010000000000000002, n_estimators=2 ..............\n",
      "[CV]  learning_rate=0.010000000000000002, n_estimators=2, score=0.021, total=   0.0s\n",
      "[CV] learning_rate=0.010000000000000002, n_estimators=2 ..............\n",
      "[CV]  learning_rate=0.010000000000000002, n_estimators=2, score=0.020, total=   0.0s\n",
      "[CV] learning_rate=0.010000000000000002, n_estimators=2 ..............\n",
      "[CV]  learning_rate=0.010000000000000002, n_estimators=2, score=0.014, total=   0.0s\n",
      "[CV] learning_rate=0.010000000000000002, n_estimators=4 ..............\n",
      "[CV]  learning_rate=0.010000000000000002, n_estimators=4, score=0.041, total=   0.1s\n",
      "[CV] learning_rate=0.010000000000000002, n_estimators=4 ..............\n",
      "[CV]  learning_rate=0.010000000000000002, n_estimators=4, score=0.046, total=   0.0s\n",
      "[CV] learning_rate=0.010000000000000002, n_estimators=4 ..............\n",
      "[CV]  learning_rate=0.010000000000000002, n_estimators=4, score=0.031, total=   0.1s\n",
      "[CV] learning_rate=0.010000000000000002, n_estimators=8 ..............\n",
      "[CV]  learning_rate=0.010000000000000002, n_estimators=8, score=0.078, total=   0.1s\n",
      "[CV] learning_rate=0.010000000000000002, n_estimators=8 ..............\n",
      "[CV]  learning_rate=0.010000000000000002, n_estimators=8, score=0.095, total=   0.1s\n",
      "[CV] learning_rate=0.010000000000000002, n_estimators=8 ..............\n",
      "[CV]  learning_rate=0.010000000000000002, n_estimators=8, score=0.062, total=   0.1s\n",
      "[CV] learning_rate=0.010000000000000002, n_estimators=16 .............\n",
      "[CV]  learning_rate=0.010000000000000002, n_estimators=16, score=0.145, total=   0.2s\n",
      "[CV] learning_rate=0.010000000000000002, n_estimators=16 .............\n",
      "[CV]  learning_rate=0.010000000000000002, n_estimators=16, score=0.183, total=   0.2s\n",
      "[CV] learning_rate=0.010000000000000002, n_estimators=16 .............\n",
      "[CV]  learning_rate=0.010000000000000002, n_estimators=16, score=0.118, total=   0.2s\n",
      "[CV] learning_rate=0.010000000000000002, n_estimators=32 .............\n",
      "[CV]  learning_rate=0.010000000000000002, n_estimators=32, score=0.252, total=   0.3s\n",
      "[CV] learning_rate=0.010000000000000002, n_estimators=32 .............\n",
      "[CV]  learning_rate=0.010000000000000002, n_estimators=32, score=0.320, total=   0.3s\n",
      "[CV] learning_rate=0.010000000000000002, n_estimators=32 .............\n",
      "[CV]  learning_rate=0.010000000000000002, n_estimators=32, score=0.205, total=   0.3s\n",
      "[CV] learning_rate=0.010000000000000002, n_estimators=64 .............\n",
      "[CV]  learning_rate=0.010000000000000002, n_estimators=64, score=0.387, total=   0.7s\n",
      "[CV] learning_rate=0.010000000000000002, n_estimators=64 .............\n",
      "[CV]  learning_rate=0.010000000000000002, n_estimators=64, score=0.494, total=   0.7s\n",
      "[CV] learning_rate=0.010000000000000002, n_estimators=64 .............\n",
      "[CV]  learning_rate=0.010000000000000002, n_estimators=64, score=0.312, total=   0.8s\n",
      "[CV] learning_rate=0.010000000000000002, n_estimators=128 ............\n",
      "[CV]  learning_rate=0.010000000000000002, n_estimators=128, score=0.498, total=   1.2s\n",
      "[CV] learning_rate=0.010000000000000002, n_estimators=128 ............\n",
      "[CV]  learning_rate=0.010000000000000002, n_estimators=128, score=0.632, total=   1.2s\n",
      "[CV] learning_rate=0.010000000000000002, n_estimators=128 ............\n",
      "[CV]  learning_rate=0.010000000000000002, n_estimators=128, score=0.391, total=   1.2s\n",
      "[CV] learning_rate=0.010000000000000002, n_estimators=256 ............\n",
      "[CV]  learning_rate=0.010000000000000002, n_estimators=256, score=0.540, total=   2.3s\n",
      "[CV] learning_rate=0.010000000000000002, n_estimators=256 ............\n",
      "[CV]  learning_rate=0.010000000000000002, n_estimators=256, score=0.674, total=   2.3s\n",
      "[CV] learning_rate=0.010000000000000002, n_estimators=256 ............\n",
      "[CV]  learning_rate=0.010000000000000002, n_estimators=256, score=0.413, total=   2.6s\n",
      "[CV] learning_rate=0.010000000000000002, n_estimators=512 ............\n",
      "[CV]  learning_rate=0.010000000000000002, n_estimators=512, score=0.545, total=   5.2s\n",
      "[CV] learning_rate=0.010000000000000002, n_estimators=512 ............\n",
      "[CV]  learning_rate=0.010000000000000002, n_estimators=512, score=0.671, total=   4.9s\n",
      "[CV] learning_rate=0.010000000000000002, n_estimators=512 ............\n",
      "[CV]  learning_rate=0.010000000000000002, n_estimators=512, score=0.413, total=   9.9s\n",
      "[CV] learning_rate=0.0010000000000000002, n_estimators=1 .............\n",
      "[CV]  learning_rate=0.0010000000000000002, n_estimators=1, score=0.001, total=   0.1s\n",
      "[CV] learning_rate=0.0010000000000000002, n_estimators=1 .............\n",
      "[CV]  learning_rate=0.0010000000000000002, n_estimators=1, score=-0.006, total=   0.0s\n",
      "[CV] learning_rate=0.0010000000000000002, n_estimators=1 .............\n",
      "[CV]  learning_rate=0.0010000000000000002, n_estimators=1, score=-0.003, total=   0.0s\n",
      "[CV] learning_rate=0.0010000000000000002, n_estimators=2 .............\n",
      "[CV]  learning_rate=0.0010000000000000002, n_estimators=2, score=0.002, total=   0.1s\n",
      "[CV] learning_rate=0.0010000000000000002, n_estimators=2 .............\n",
      "[CV]  learning_rate=0.0010000000000000002, n_estimators=2, score=-0.004, total=   0.1s\n",
      "[CV] learning_rate=0.0010000000000000002, n_estimators=2 .............\n",
      "[CV]  learning_rate=0.0010000000000000002, n_estimators=2, score=-0.002, total=   0.1s\n",
      "[CV] learning_rate=0.0010000000000000002, n_estimators=4 .............\n",
      "[CV]  learning_rate=0.0010000000000000002, n_estimators=4, score=0.004, total=   0.1s\n",
      "[CV] learning_rate=0.0010000000000000002, n_estimators=4 .............\n",
      "[CV]  learning_rate=0.0010000000000000002, n_estimators=4, score=-0.002, total=   0.1s\n",
      "[CV] learning_rate=0.0010000000000000002, n_estimators=4 .............\n",
      "[CV]  learning_rate=0.0010000000000000002, n_estimators=4, score=-0.000, total=   0.1s\n",
      "[CV] learning_rate=0.0010000000000000002, n_estimators=8 .............\n",
      "[CV]  learning_rate=0.0010000000000000002, n_estimators=8, score=0.008, total=   0.2s\n",
      "[CV] learning_rate=0.0010000000000000002, n_estimators=8 .............\n",
      "[CV]  learning_rate=0.0010000000000000002, n_estimators=8, score=0.004, total=   0.2s\n",
      "[CV] learning_rate=0.0010000000000000002, n_estimators=8 .............\n",
      "[CV]  learning_rate=0.0010000000000000002, n_estimators=8, score=0.003, total=   0.2s\n",
      "[CV] learning_rate=0.0010000000000000002, n_estimators=16 ............\n",
      "[CV]  learning_rate=0.0010000000000000002, n_estimators=16, score=0.017, total=   0.3s\n",
      "[CV] learning_rate=0.0010000000000000002, n_estimators=16 ............\n",
      "[CV]  learning_rate=0.0010000000000000002, n_estimators=16, score=0.015, total=   0.3s\n",
      "[CV] learning_rate=0.0010000000000000002, n_estimators=16 ............\n",
      "[CV]  learning_rate=0.0010000000000000002, n_estimators=16, score=0.010, total=   0.3s\n",
      "[CV] learning_rate=0.0010000000000000002, n_estimators=32 ............\n",
      "[CV]  learning_rate=0.0010000000000000002, n_estimators=32, score=0.033, total=   0.6s\n",
      "[CV] learning_rate=0.0010000000000000002, n_estimators=32 ............\n",
      "[CV]  learning_rate=0.0010000000000000002, n_estimators=32, score=0.036, total=   0.7s\n",
      "[CV] learning_rate=0.0010000000000000002, n_estimators=32 ............\n",
      "[CV]  learning_rate=0.0010000000000000002, n_estimators=32, score=0.024, total=   0.6s\n",
      "[CV] learning_rate=0.0010000000000000002, n_estimators=64 ............\n",
      "[CV]  learning_rate=0.0010000000000000002, n_estimators=64, score=0.063, total=   1.3s\n",
      "[CV] learning_rate=0.0010000000000000002, n_estimators=64 ............\n",
      "[CV]  learning_rate=0.0010000000000000002, n_estimators=64, score=0.076, total=   1.1s\n",
      "[CV] learning_rate=0.0010000000000000002, n_estimators=64 ............\n",
      "[CV]  learning_rate=0.0010000000000000002, n_estimators=64, score=0.050, total=   1.1s\n",
      "[CV] learning_rate=0.0010000000000000002, n_estimators=128 ...........\n",
      "[CV]  learning_rate=0.0010000000000000002, n_estimators=128, score=0.119, total=   2.2s\n",
      "[CV] learning_rate=0.0010000000000000002, n_estimators=128 ...........\n",
      "[CV]  learning_rate=0.0010000000000000002, n_estimators=128, score=0.149, total=   2.3s\n",
      "[CV] learning_rate=0.0010000000000000002, n_estimators=128 ...........\n",
      "[CV]  learning_rate=0.0010000000000000002, n_estimators=128, score=0.096, total=   2.3s\n",
      "[CV] learning_rate=0.0010000000000000002, n_estimators=256 ...........\n",
      "[CV]  learning_rate=0.0010000000000000002, n_estimators=256, score=0.212, total=   4.5s\n",
      "[CV] learning_rate=0.0010000000000000002, n_estimators=256 ...........\n",
      "[CV]  learning_rate=0.0010000000000000002, n_estimators=256, score=0.270, total=   4.4s\n",
      "[CV] learning_rate=0.0010000000000000002, n_estimators=256 ...........\n",
      "[CV]  learning_rate=0.0010000000000000002, n_estimators=256, score=0.173, total=   4.5s\n",
      "[CV] learning_rate=0.0010000000000000002, n_estimators=512 ...........\n",
      "[CV]  learning_rate=0.0010000000000000002, n_estimators=512, score=0.342, total=   9.1s\n",
      "[CV] learning_rate=0.0010000000000000002, n_estimators=512 ...........\n",
      "[CV]  learning_rate=0.0010000000000000002, n_estimators=512, score=0.436, total=   8.7s\n",
      "[CV] learning_rate=0.0010000000000000002, n_estimators=512 ...........\n",
      "[CV]  learning_rate=0.0010000000000000002, n_estimators=512, score=0.277, total=   9.1s\n",
      "[CV] learning_rate=0.00010000000000000002, n_estimators=1 ............\n",
      "[CV]  learning_rate=0.00010000000000000002, n_estimators=1, score=-0.000, total=   0.0s\n",
      "[CV] learning_rate=0.00010000000000000002, n_estimators=1 ............\n",
      "[CV]  learning_rate=0.00010000000000000002, n_estimators=1, score=-0.007, total=   0.0s\n",
      "[CV] learning_rate=0.00010000000000000002, n_estimators=1 ............\n",
      "[CV]  learning_rate=0.00010000000000000002, n_estimators=1, score=-0.003, total=   0.0s\n",
      "[CV] learning_rate=0.00010000000000000002, n_estimators=2 ............\n",
      "[CV]  learning_rate=0.00010000000000000002, n_estimators=2, score=0.000, total=   0.0s\n",
      "[CV] learning_rate=0.00010000000000000002, n_estimators=2 ............\n",
      "[CV]  learning_rate=0.00010000000000000002, n_estimators=2, score=-0.007, total=   0.1s\n",
      "[CV] learning_rate=0.00010000000000000002, n_estimators=2 ............\n",
      "[CV]  learning_rate=0.00010000000000000002, n_estimators=2, score=-0.003, total=   0.1s\n",
      "[CV] learning_rate=0.00010000000000000002, n_estimators=4 ............\n",
      "[CV]  learning_rate=0.00010000000000000002, n_estimators=4, score=0.000, total=   0.1s\n",
      "[CV] learning_rate=0.00010000000000000002, n_estimators=4 ............\n",
      "[CV]  learning_rate=0.00010000000000000002, n_estimators=4, score=-0.007, total=   0.1s\n",
      "[CV] learning_rate=0.00010000000000000002, n_estimators=4 ............\n",
      "[CV]  learning_rate=0.00010000000000000002, n_estimators=4, score=-0.003, total=   0.1s\n",
      "[CV] learning_rate=0.00010000000000000002, n_estimators=8 ............\n",
      "[CV]  learning_rate=0.00010000000000000002, n_estimators=8, score=0.001, total=   0.2s\n",
      "[CV] learning_rate=0.00010000000000000002, n_estimators=8 ............\n",
      "[CV]  learning_rate=0.00010000000000000002, n_estimators=8, score=-0.006, total=   0.2s\n",
      "[CV] learning_rate=0.00010000000000000002, n_estimators=8 ............\n",
      "[CV]  learning_rate=0.00010000000000000002, n_estimators=8, score=-0.003, total=   0.2s\n",
      "[CV] learning_rate=0.00010000000000000002, n_estimators=16 ...........\n",
      "[CV]  learning_rate=0.00010000000000000002, n_estimators=16, score=0.002, total=   0.3s\n",
      "[CV] learning_rate=0.00010000000000000002, n_estimators=16 ...........\n",
      "[CV]  learning_rate=0.00010000000000000002, n_estimators=16, score=-0.005, total=   0.3s\n",
      "[CV] learning_rate=0.00010000000000000002, n_estimators=16 ...........\n",
      "[CV]  learning_rate=0.00010000000000000002, n_estimators=16, score=-0.002, total=   0.4s\n",
      "[CV] learning_rate=0.00010000000000000002, n_estimators=32 ...........\n",
      "[CV]  learning_rate=0.00010000000000000002, n_estimators=32, score=0.003, total=   0.6s\n",
      "[CV] learning_rate=0.00010000000000000002, n_estimators=32 ...........\n",
      "[CV]  learning_rate=0.00010000000000000002, n_estimators=32, score=-0.003, total=   0.6s\n",
      "[CV] learning_rate=0.00010000000000000002, n_estimators=32 ...........\n",
      "[CV]  learning_rate=0.00010000000000000002, n_estimators=32, score=-0.001, total=   0.6s\n",
      "[CV] learning_rate=0.00010000000000000002, n_estimators=64 ...........\n",
      "[CV]  learning_rate=0.00010000000000000002, n_estimators=64, score=0.007, total=   1.1s\n",
      "[CV] learning_rate=0.00010000000000000002, n_estimators=64 ...........\n",
      "[CV]  learning_rate=0.00010000000000000002, n_estimators=64, score=0.002, total=   1.2s\n",
      "[CV] learning_rate=0.00010000000000000002, n_estimators=64 ...........\n",
      "[CV]  learning_rate=0.00010000000000000002, n_estimators=64, score=0.002, total=   1.1s\n",
      "[CV] learning_rate=0.00010000000000000002, n_estimators=128 ..........\n",
      "[CV]  learning_rate=0.00010000000000000002, n_estimators=128, score=0.013, total=   2.3s\n",
      "[CV] learning_rate=0.00010000000000000002, n_estimators=128 ..........\n",
      "[CV]  learning_rate=0.00010000000000000002, n_estimators=128, score=0.010, total=   2.3s\n",
      "[CV] learning_rate=0.00010000000000000002, n_estimators=128 ..........\n",
      "[CV]  learning_rate=0.00010000000000000002, n_estimators=128, score=0.008, total=   2.2s\n",
      "[CV] learning_rate=0.00010000000000000002, n_estimators=256 ..........\n",
      "[CV]  learning_rate=0.00010000000000000002, n_estimators=256, score=0.026, total=   4.5s\n",
      "[CV] learning_rate=0.00010000000000000002, n_estimators=256 ..........\n",
      "[CV]  learning_rate=0.00010000000000000002, n_estimators=256, score=0.027, total=   4.6s\n",
      "[CV] learning_rate=0.00010000000000000002, n_estimators=256 ..........\n",
      "[CV]  learning_rate=0.00010000000000000002, n_estimators=256, score=0.019, total=   4.8s\n",
      "[CV] learning_rate=0.00010000000000000002, n_estimators=512 ..........\n",
      "[CV]  learning_rate=0.00010000000000000002, n_estimators=512, score=0.051, total=   9.5s\n",
      "[CV] learning_rate=0.00010000000000000002, n_estimators=512 ..........\n",
      "[CV]  learning_rate=0.00010000000000000002, n_estimators=512, score=0.060, total=   9.5s\n",
      "[CV] learning_rate=0.00010000000000000002, n_estimators=512 ..........\n",
      "[CV]  learning_rate=0.00010000000000000002, n_estimators=512, score=0.040, total=   9.1s\n"
     ]
    },
    {
     "name": "stderr",
     "output_type": "stream",
     "text": [
      "[Parallel(n_jobs=1)]: Done 150 out of 150 | elapsed:  3.5min finished\n"
     ]
    },
    {
     "data": {
      "text/plain": [
       "GridSearchCV(cv=3,\n",
       "             estimator=GradientBoostingRegressor(random_state=1,\n",
       "                                                 warm_start=True),\n",
       "             param_grid={'learning_rate': array([1.e+00, 1.e-01, 1.e-02, 1.e-03, 1.e-04]),\n",
       "                         'n_estimators': array([  1,   2,   4,   8,  16,  32,  64, 128, 256, 512], dtype=int32)},\n",
       "             scoring=make_scorer(r2_score), verbose=3)"
      ]
     },
     "execution_count": 30,
     "metadata": {},
     "output_type": "execute_result"
    }
   ],
   "source": [
    "gs.fit(x1,y1)"
   ]
  },
  {
   "cell_type": "code",
   "execution_count": 31,
   "metadata": {},
   "outputs": [
    {
     "data": {
      "image/png": "[encoded data removed]",
      "text/plain": [
       "<Figure size 432x288 with 1 Axes>"
      ]
     },
     "metadata": {
      "needs_background": "light"
     },
     "output_type": "display_data"
    }
   ],
   "source": [
    "r2_mean = gs.cv_results_['mean_test_score']\n",
    "r2_mean = np.array(r2_mean).reshape(len(param_grid[\"learning_rate\"]),len(param_grid[\"n_estimators\"]))\n",
    "_, ax = plt.subplots(1,1)\n",
    "\n",
    "for idx, val in enumerate(param_grid[\"learning_rate\"]):\n",
    "    ax.plot(param_grid[\"n_estimators\"], r2_mean[idx,:], '-o', label = str(val))\n",
    "\n",
    "ax.set_xlabel(\"n_estimators\")\n",
    "ax.set_ylabel('R2')\n",
    "ax.legend(loc=\"best\")\n",
    "ax.grid('on')"
   ]
  },
  {
   "cell_type": "markdown",
   "metadata": {},
   "source": [
    "График демонстрирует вполне ожидаемые результаты. Видно, что при маленьком learning_rate, например, 0.0001, модель показывает плохие результаты даже при большом количестве n_estimators. При большом learning_rate модель быстро переобучается при больших n_estimators. Выбираю learning_rate=0.01 и n_estimators=256, так как лучший результат на графике начинает достигаться именно с такими значениями."
   ]
  },
  {
   "cell_type": "code",
   "execution_count": 32,
   "metadata": {},
   "outputs": [
    {
     "data": {
      "image/png": "[encoded data removed]",
      "text/plain": [
       "<Figure size 432x288 with 1 Axes>"
      ]
     },
     "metadata": {
      "needs_background": "light"
     },
     "output_type": "display_data"
    }
   ],
   "source": [
    "r2_mean = gs.cv_results_['mean_test_score']\n",
    "r2_mean = np.array(r2_mean).reshape(len(param_grid[\"n_estimators\"]),len(param_grid[\"learning_rate\"]))\n",
    "_, ax = plt.subplots(1,1)\n",
    "\n",
    "for idx, val in enumerate(param_grid[\"n_estimators\"]):\n",
    "    ax.plot(param_grid[\"learning_rate\"], r2_mean[idx,:], '-o', label = str(val))\n",
    "\n",
    "ax.set_xlabel(\"learning_rate\")\n",
    "plt.xscale(\"log\")\n",
    "ax.set_ylabel('R2')\n",
    "ax.legend(loc=\"best\")\n",
    "ax.grid('on')"
   ]
  },
  {
   "cell_type": "markdown",
   "metadata": {},
   "source": [
    "Результаты на графике ожидаемы в том плане, что при повышении learning_rate качество падает (модель переобучается), а для маленьких значений n_estimators модель недообучается даже при большом learning_rate. Однако я не ожидала, что модели с большим количеством n_estimators будут показывать плохие результаты вне зависимости от learning_rate. Так как градиентный бустинг относительно устойчив к переобучению в части количества деревьев, возьму n_estimators = 256, как и решила в предудущем шаге."
   ]
  },
  {
   "cell_type": "code",
   "execution_count": 33,
   "metadata": {},
   "outputs": [
    {
     "data": {
      "text/plain": [
       "{'learning_rate': 0.010000000000000002, 'n_estimators': 512}"
      ]
     },
     "execution_count": 33,
     "metadata": {},
     "output_type": "execute_result"
    }
   ],
   "source": [
    "order = np.argsort(gs.cv_results_['mean_test_score'])\n",
    "cv_res = np.array(gs.cv_results_['params'])\n",
    "cv_res[np.array(order)][-1]"
   ]
  },
  {
   "cell_type": "code",
   "execution_count": 34,
   "metadata": {},
   "outputs": [],
   "source": [
    "# базовая шкала для max_depth\n",
    "param_grid = {\"max_depth\":np.arange(1, 9)}"
   ]
  },
  {
   "cell_type": "code",
   "execution_count": 35,
   "metadata": {},
   "outputs": [
    {
     "name": "stderr",
     "output_type": "stream",
     "text": [
      "C:\\Python\\ANACONDA\\lib\\site-packages\\sklearn\\utils\\validation.py:67: FutureWarning: Pass scoring=make_scorer(r2_score) as keyword args. From version 0.25 passing these as positional arguments will result in an error\n",
      "  warnings.warn(\"Pass {} as keyword args. From version 0.25 \"\n"
     ]
    }
   ],
   "source": [
    "gs = GridSearchCV(GradientBoostingRegressor(learning_rate=0.01 , n_estimators=256 , random_state=1, \n",
    "                                            warm_start=True), param_grid, make_scorer(r2_score), cv=3, verbose=3)"
   ]
  },
  {
   "cell_type": "code",
   "execution_count": 36,
   "metadata": {
    "scrolled": true
   },
   "outputs": [
    {
     "name": "stderr",
     "output_type": "stream",
     "text": [
      "[Parallel(n_jobs=1)]: Using backend SequentialBackend with 1 concurrent workers.\n"
     ]
    },
    {
     "name": "stdout",
     "output_type": "stream",
     "text": [
      "Fitting 3 folds for each of 8 candidates, totalling 24 fits\n",
      "[CV] max_depth=1 .....................................................\n",
      "[CV] ......................... max_depth=1, score=0.431, total=   1.7s\n",
      "[CV] max_depth=1 .....................................................\n"
     ]
    },
    {
     "name": "stderr",
     "output_type": "stream",
     "text": [
      "[Parallel(n_jobs=1)]: Done   1 out of   1 | elapsed:    1.7s remaining:    0.0s\n"
     ]
    },
    {
     "name": "stdout",
     "output_type": "stream",
     "text": [
      "[CV] ......................... max_depth=1, score=0.550, total=   1.8s\n",
      "[CV] max_depth=1 .....................................................\n"
     ]
    },
    {
     "name": "stderr",
     "output_type": "stream",
     "text": [
      "[Parallel(n_jobs=1)]: Done   2 out of   2 | elapsed:    3.5s remaining:    0.0s\n"
     ]
    },
    {
     "name": "stdout",
     "output_type": "stream",
     "text": [
      "[CV] ......................... max_depth=1, score=0.335, total=   1.8s\n",
      "[CV] max_depth=2 .....................................................\n",
      "[CV] ......................... max_depth=2, score=0.533, total=   3.2s\n",
      "[CV] max_depth=2 .....................................................\n",
      "[CV] ......................... max_depth=2, score=0.671, total=   3.1s\n",
      "[CV] max_depth=2 .....................................................\n",
      "[CV] ......................... max_depth=2, score=0.409, total=   3.2s\n",
      "[CV] max_depth=3 .....................................................\n",
      "[CV] ......................... max_depth=3, score=0.540, total=   4.6s\n",
      "[CV] max_depth=3 .....................................................\n",
      "[CV] ......................... max_depth=3, score=0.674, total=   4.6s\n",
      "[CV] max_depth=3 .....................................................\n",
      "[CV] ......................... max_depth=3, score=0.413, total=   4.6s\n",
      "[CV] max_depth=4 .....................................................\n",
      "[CV] ......................... max_depth=4, score=0.536, total=   5.9s\n",
      "[CV] max_depth=4 .....................................................\n",
      "[CV] ......................... max_depth=4, score=0.661, total=   5.7s\n",
      "[CV] max_depth=4 .....................................................\n",
      "[CV] ......................... max_depth=4, score=0.405, total=   5.8s\n",
      "[CV] max_depth=5 .....................................................\n",
      "[CV] ......................... max_depth=5, score=0.522, total=   6.9s\n",
      "[CV] max_depth=5 .....................................................\n",
      "[CV] ......................... max_depth=5, score=0.635, total=   6.9s\n",
      "[CV] max_depth=5 .....................................................\n",
      "[CV] ......................... max_depth=5, score=0.403, total=   7.3s\n",
      "[CV] max_depth=6 .....................................................\n",
      "[CV] ......................... max_depth=6, score=0.518, total=   8.1s\n",
      "[CV] max_depth=6 .....................................................\n",
      "[CV] ......................... max_depth=6, score=0.625, total=   8.0s\n",
      "[CV] max_depth=6 .....................................................\n",
      "[CV] ......................... max_depth=6, score=0.388, total=   8.4s\n",
      "[CV] max_depth=7 .....................................................\n",
      "[CV] ......................... max_depth=7, score=0.516, total=   9.2s\n",
      "[CV] max_depth=7 .....................................................\n",
      "[CV] ......................... max_depth=7, score=0.592, total=   9.4s\n",
      "[CV] max_depth=7 .....................................................\n",
      "[CV] ......................... max_depth=7, score=0.376, total=   9.6s\n",
      "[CV] max_depth=8 .....................................................\n",
      "[CV] ......................... max_depth=8, score=0.499, total=  10.8s\n",
      "[CV] max_depth=8 .....................................................\n",
      "[CV] ......................... max_depth=8, score=0.588, total=   7.6s\n",
      "[CV] max_depth=8 .....................................................\n",
      "[CV] ......................... max_depth=8, score=0.365, total=   5.7s\n"
     ]
    },
    {
     "name": "stderr",
     "output_type": "stream",
     "text": [
      "[Parallel(n_jobs=1)]: Done  24 out of  24 | elapsed:  2.4min finished\n"
     ]
    },
    {
     "data": {
      "text/plain": [
       "GridSearchCV(cv=3,\n",
       "             estimator=GradientBoostingRegressor(learning_rate=0.01,\n",
       "                                                 n_estimators=256,\n",
       "                                                 random_state=1,\n",
       "                                                 warm_start=True),\n",
       "             param_grid={'max_depth': array([1, 2, 3, 4, 5, 6, 7, 8])},\n",
       "             scoring=make_scorer(r2_score), verbose=3)"
      ]
     },
     "execution_count": 36,
     "metadata": {},
     "output_type": "execute_result"
    }
   ],
   "source": [
    "gs.fit(x1,y1)"
   ]
  },
  {
   "cell_type": "code",
   "execution_count": 37,
   "metadata": {},
   "outputs": [
    {
     "data": {
      "text/plain": [
       "Text(0, 0.5, 'R2')"
      ]
     },
     "execution_count": 37,
     "metadata": {},
     "output_type": "execute_result"
    },
    {
     "data": {
      "image/png": "[encoded data removed]",
      "text/plain": [
       "<Figure size 432x288 with 1 Axes>"
      ]
     },
     "metadata": {
      "needs_background": "light"
     },
     "output_type": "display_data"
    }
   ],
   "source": [
    "plt.title(\"Зависимость качества от max_depth\")\n",
    "plt.plot((param_grid[\"max_depth\"]), gs.cv_results_['mean_test_score'])\n",
    "plt.xlabel(\"max_depth\")\n",
    "plt.ylabel(\"R2\")"
   ]
  },
  {
   "cell_type": "code",
   "execution_count": 38,
   "metadata": {},
   "outputs": [
    {
     "data": {
      "text/plain": [
       "array([0.43880929, 0.53760462, 0.54210245, 0.53407071, 0.52011116,\n",
       "       0.51044952, 0.494833  , 0.48436736])"
      ]
     },
     "execution_count": 38,
     "metadata": {},
     "output_type": "execute_result"
    }
   ],
   "source": [
    "gs.cv_results_['mean_test_score']"
   ]
  },
  {
   "cell_type": "markdown",
   "metadata": {},
   "source": [
    "Результаты на графике вполне ожидаемы - сначала качество растет с повышением параметра максимальной глубины дерева, а затем падает в связи с тем, что модель, возможно, переобучается. Для того, чтобы избежать переобучения, возьму max_depth равный 3."
   ]
  },
  {
   "cell_type": "code",
   "execution_count": 39,
   "metadata": {},
   "outputs": [],
   "source": [
    "# базовая шкала для остальных гиперпараметров\n",
    "param_grid = {\"max_features\":2**np.arange(1, 9, 2), \"min_samples_leaf\":[1, 3, 9, 27], \n",
    "              \"min_samples_split\":[3, 9, 27, 81]}"
   ]
  },
  {
   "cell_type": "code",
   "execution_count": 40,
   "metadata": {},
   "outputs": [
    {
     "name": "stderr",
     "output_type": "stream",
     "text": [
      "C:\\Python\\ANACONDA\\lib\\site-packages\\sklearn\\utils\\validation.py:67: FutureWarning: Pass scoring=make_scorer(r2_score) as keyword args. From version 0.25 passing these as positional arguments will result in an error\n",
      "  warnings.warn(\"Pass {} as keyword args. From version 0.25 \"\n"
     ]
    }
   ],
   "source": [
    "gs = GridSearchCV(GradientBoostingRegressor(learning_rate=0.01 , n_estimators=256, \n",
    "                                            max_depth=3, random_state=1, warm_start=True), param_grid, \n",
    "                                            make_scorer(r2_score), cv=3, verbose=3)"
   ]
  },
  {
   "cell_type": "code",
   "execution_count": 41,
   "metadata": {},
   "outputs": [
    {
     "name": "stderr",
     "output_type": "stream",
     "text": [
      "[Parallel(n_jobs=1)]: Using backend SequentialBackend with 1 concurrent workers.\n",
      "[Parallel(n_jobs=1)]: Done   1 out of   1 | elapsed:    0.0s remaining:    0.0s\n"
     ]
    },
    {
     "name": "stdout",
     "output_type": "stream",
     "text": [
      "Fitting 3 folds for each of 64 candidates, totalling 192 fits\n",
      "[CV] max_features=2, min_samples_leaf=1, min_samples_split=3 .........\n",
      "[CV]  max_features=2, min_samples_leaf=1, min_samples_split=3, score=0.247, total=   0.1s\n",
      "[CV] max_features=2, min_samples_leaf=1, min_samples_split=3 .........\n",
      "[CV]  max_features=2, min_samples_leaf=1, min_samples_split=3, score=0.339, total=   0.1s\n",
      "[CV] max_features=2, min_samples_leaf=1, min_samples_split=3 .........\n",
      "[CV]  max_features=2, min_samples_leaf=1, min_samples_split=3, score=0.180, total=   0.1s\n",
      "[CV] max_features=2, min_samples_leaf=1, min_samples_split=9 .........\n"
     ]
    },
    {
     "name": "stderr",
     "output_type": "stream",
     "text": [
      "[Parallel(n_jobs=1)]: Done   2 out of   2 | elapsed:    0.1s remaining:    0.0s\n"
     ]
    },
    {
     "name": "stdout",
     "output_type": "stream",
     "text": [
      "[CV]  max_features=2, min_samples_leaf=1, min_samples_split=9, score=0.245, total=   0.1s\n",
      "[CV] max_features=2, min_samples_leaf=1, min_samples_split=9 .........\n",
      "[CV]  max_features=2, min_samples_leaf=1, min_samples_split=9, score=0.342, total=   0.1s\n",
      "[CV] max_features=2, min_samples_leaf=1, min_samples_split=9 .........\n",
      "[CV]  max_features=2, min_samples_leaf=1, min_samples_split=9, score=0.180, total=   0.1s\n",
      "[CV] max_features=2, min_samples_leaf=1, min_samples_split=27 ........\n",
      "[CV]  max_features=2, min_samples_leaf=1, min_samples_split=27, score=0.246, total=   0.1s\n",
      "[CV] max_features=2, min_samples_leaf=1, min_samples_split=27 ........\n",
      "[CV]  max_features=2, min_samples_leaf=1, min_samples_split=27, score=0.334, total=   0.1s\n",
      "[CV] max_features=2, min_samples_leaf=1, min_samples_split=27 ........\n",
      "[CV]  max_features=2, min_samples_leaf=1, min_samples_split=27, score=0.178, total=   0.1s\n",
      "[CV] max_features=2, min_samples_leaf=1, min_samples_split=81 ........\n",
      "[CV]  max_features=2, min_samples_leaf=1, min_samples_split=81, score=0.244, total=   0.1s\n",
      "[CV] max_features=2, min_samples_leaf=1, min_samples_split=81 ........\n",
      "[CV]  max_features=2, min_samples_leaf=1, min_samples_split=81, score=0.337, total=   0.1s\n",
      "[CV] max_features=2, min_samples_leaf=1, min_samples_split=81 ........\n",
      "[CV]  max_features=2, min_samples_leaf=1, min_samples_split=81, score=0.184, total=   0.1s\n",
      "[CV] max_features=2, min_samples_leaf=3, min_samples_split=3 .........\n",
      "[CV]  max_features=2, min_samples_leaf=3, min_samples_split=3, score=0.233, total=   0.1s\n",
      "[CV] max_features=2, min_samples_leaf=3, min_samples_split=3 .........\n",
      "[CV]  max_features=2, min_samples_leaf=3, min_samples_split=3, score=0.330, total=   0.1s\n",
      "[CV] max_features=2, min_samples_leaf=3, min_samples_split=3 .........\n",
      "[CV]  max_features=2, min_samples_leaf=3, min_samples_split=3, score=0.172, total=   0.1s\n",
      "[CV] max_features=2, min_samples_leaf=3, min_samples_split=9 .........\n",
      "[CV]  max_features=2, min_samples_leaf=3, min_samples_split=9, score=0.233, total=   0.1s\n",
      "[CV] max_features=2, min_samples_leaf=3, min_samples_split=9 .........\n",
      "[CV]  max_features=2, min_samples_leaf=3, min_samples_split=9, score=0.335, total=   0.1s\n",
      "[CV] max_features=2, min_samples_leaf=3, min_samples_split=9 .........\n",
      "[CV]  max_features=2, min_samples_leaf=3, min_samples_split=9, score=0.172, total=   0.1s\n",
      "[CV] max_features=2, min_samples_leaf=3, min_samples_split=27 ........\n",
      "[CV]  max_features=2, min_samples_leaf=3, min_samples_split=27, score=0.233, total=   0.1s\n",
      "[CV] max_features=2, min_samples_leaf=3, min_samples_split=27 ........\n",
      "[CV]  max_features=2, min_samples_leaf=3, min_samples_split=27, score=0.327, total=   0.1s\n",
      "[CV] max_features=2, min_samples_leaf=3, min_samples_split=27 ........\n",
      "[CV]  max_features=2, min_samples_leaf=3, min_samples_split=27, score=0.170, total=   0.1s\n",
      "[CV] max_features=2, min_samples_leaf=3, min_samples_split=81 ........\n",
      "[CV]  max_features=2, min_samples_leaf=3, min_samples_split=81, score=0.232, total=   0.1s\n",
      "[CV] max_features=2, min_samples_leaf=3, min_samples_split=81 ........\n",
      "[CV]  max_features=2, min_samples_leaf=3, min_samples_split=81, score=0.330, total=   0.1s\n",
      "[CV] max_features=2, min_samples_leaf=3, min_samples_split=81 ........\n",
      "[CV]  max_features=2, min_samples_leaf=3, min_samples_split=81, score=0.176, total=   0.1s\n",
      "[CV] max_features=2, min_samples_leaf=9, min_samples_split=3 .........\n",
      "[CV]  max_features=2, min_samples_leaf=9, min_samples_split=3, score=0.221, total=   0.1s\n",
      "[CV] max_features=2, min_samples_leaf=9, min_samples_split=3 .........\n",
      "[CV]  max_features=2, min_samples_leaf=9, min_samples_split=3, score=0.312, total=   0.1s\n",
      "[CV] max_features=2, min_samples_leaf=9, min_samples_split=3 .........\n",
      "[CV]  max_features=2, min_samples_leaf=9, min_samples_split=3, score=0.164, total=   0.1s\n",
      "[CV] max_features=2, min_samples_leaf=9, min_samples_split=9 .........\n",
      "[CV]  max_features=2, min_samples_leaf=9, min_samples_split=9, score=0.221, total=   0.1s\n",
      "[CV] max_features=2, min_samples_leaf=9, min_samples_split=9 .........\n",
      "[CV]  max_features=2, min_samples_leaf=9, min_samples_split=9, score=0.312, total=   0.1s\n",
      "[CV] max_features=2, min_samples_leaf=9, min_samples_split=9 .........\n",
      "[CV]  max_features=2, min_samples_leaf=9, min_samples_split=9, score=0.164, total=   0.1s\n",
      "[CV] max_features=2, min_samples_leaf=9, min_samples_split=27 ........\n",
      "[CV]  max_features=2, min_samples_leaf=9, min_samples_split=27, score=0.222, total=   0.1s\n",
      "[CV] max_features=2, min_samples_leaf=9, min_samples_split=27 ........\n",
      "[CV]  max_features=2, min_samples_leaf=9, min_samples_split=27, score=0.307, total=   0.1s\n",
      "[CV] max_features=2, min_samples_leaf=9, min_samples_split=27 ........\n",
      "[CV]  max_features=2, min_samples_leaf=9, min_samples_split=27, score=0.164, total=   0.1s\n",
      "[CV] max_features=2, min_samples_leaf=9, min_samples_split=81 ........\n",
      "[CV]  max_features=2, min_samples_leaf=9, min_samples_split=81, score=0.224, total=   0.1s\n",
      "[CV] max_features=2, min_samples_leaf=9, min_samples_split=81 ........\n",
      "[CV]  max_features=2, min_samples_leaf=9, min_samples_split=81, score=0.311, total=   0.1s\n",
      "[CV] max_features=2, min_samples_leaf=9, min_samples_split=81 ........\n",
      "[CV]  max_features=2, min_samples_leaf=9, min_samples_split=81, score=0.170, total=   0.1s\n",
      "[CV] max_features=2, min_samples_leaf=27, min_samples_split=3 ........\n",
      "[CV]  max_features=2, min_samples_leaf=27, min_samples_split=3, score=0.203, total=   0.1s\n",
      "[CV] max_features=2, min_samples_leaf=27, min_samples_split=3 ........\n",
      "[CV]  max_features=2, min_samples_leaf=27, min_samples_split=3, score=0.271, total=   0.1s\n",
      "[CV] max_features=2, min_samples_leaf=27, min_samples_split=3 ........\n",
      "[CV]  max_features=2, min_samples_leaf=27, min_samples_split=3, score=0.152, total=   0.1s\n",
      "[CV] max_features=2, min_samples_leaf=27, min_samples_split=9 ........\n",
      "[CV]  max_features=2, min_samples_leaf=27, min_samples_split=9, score=0.203, total=   0.1s\n",
      "[CV] max_features=2, min_samples_leaf=27, min_samples_split=9 ........\n",
      "[CV]  max_features=2, min_samples_leaf=27, min_samples_split=9, score=0.271, total=   0.1s\n",
      "[CV] max_features=2, min_samples_leaf=27, min_samples_split=9 ........\n",
      "[CV]  max_features=2, min_samples_leaf=27, min_samples_split=9, score=0.152, total=   0.1s\n",
      "[CV] max_features=2, min_samples_leaf=27, min_samples_split=27 .......\n",
      "[CV]  max_features=2, min_samples_leaf=27, min_samples_split=27, score=0.203, total=   0.1s\n",
      "[CV] max_features=2, min_samples_leaf=27, min_samples_split=27 .......\n",
      "[CV]  max_features=2, min_samples_leaf=27, min_samples_split=27, score=0.271, total=   0.1s\n",
      "[CV] max_features=2, min_samples_leaf=27, min_samples_split=27 .......\n",
      "[CV]  max_features=2, min_samples_leaf=27, min_samples_split=27, score=0.152, total=   0.1s\n",
      "[CV] max_features=2, min_samples_leaf=27, min_samples_split=81 .......\n",
      "[CV]  max_features=2, min_samples_leaf=27, min_samples_split=81, score=0.204, total=   0.1s\n",
      "[CV] max_features=2, min_samples_leaf=27, min_samples_split=81 .......\n",
      "[CV]  max_features=2, min_samples_leaf=27, min_samples_split=81, score=0.270, total=   0.1s\n",
      "[CV] max_features=2, min_samples_leaf=27, min_samples_split=81 .......\n",
      "[CV]  max_features=2, min_samples_leaf=27, min_samples_split=81, score=0.154, total=   0.1s\n",
      "[CV] max_features=8, min_samples_leaf=1, min_samples_split=3 .........\n",
      "[CV]  max_features=8, min_samples_leaf=1, min_samples_split=3, score=0.405, total=   0.2s\n",
      "[CV] max_features=8, min_samples_leaf=1, min_samples_split=3 .........\n",
      "[CV]  max_features=8, min_samples_leaf=1, min_samples_split=3, score=0.524, total=   0.2s\n",
      "[CV] max_features=8, min_samples_leaf=1, min_samples_split=3 .........\n",
      "[CV]  max_features=8, min_samples_leaf=1, min_samples_split=3, score=0.308, total=   0.1s\n",
      "[CV] max_features=8, min_samples_leaf=1, min_samples_split=9 .........\n",
      "[CV]  max_features=8, min_samples_leaf=1, min_samples_split=9, score=0.407, total=   0.2s\n",
      "[CV] max_features=8, min_samples_leaf=1, min_samples_split=9 .........\n",
      "[CV]  max_features=8, min_samples_leaf=1, min_samples_split=9, score=0.526, total=   0.2s\n",
      "[CV] max_features=8, min_samples_leaf=1, min_samples_split=9 .........\n",
      "[CV]  max_features=8, min_samples_leaf=1, min_samples_split=9, score=0.305, total=   0.1s\n",
      "[CV] max_features=8, min_samples_leaf=1, min_samples_split=27 ........\n",
      "[CV]  max_features=8, min_samples_leaf=1, min_samples_split=27, score=0.408, total=   0.2s\n",
      "[CV] max_features=8, min_samples_leaf=1, min_samples_split=27 ........\n",
      "[CV]  max_features=8, min_samples_leaf=1, min_samples_split=27, score=0.528, total=   0.2s\n",
      "[CV] max_features=8, min_samples_leaf=1, min_samples_split=27 ........\n",
      "[CV]  max_features=8, min_samples_leaf=1, min_samples_split=27, score=0.306, total=   0.2s\n",
      "[CV] max_features=8, min_samples_leaf=1, min_samples_split=81 ........\n",
      "[CV]  max_features=8, min_samples_leaf=1, min_samples_split=81, score=0.410, total=   0.2s\n",
      "[CV] max_features=8, min_samples_leaf=1, min_samples_split=81 ........\n",
      "[CV]  max_features=8, min_samples_leaf=1, min_samples_split=81, score=0.533, total=   0.2s\n",
      "[CV] max_features=8, min_samples_leaf=1, min_samples_split=81 ........\n",
      "[CV]  max_features=8, min_samples_leaf=1, min_samples_split=81, score=0.302, total=   0.2s\n",
      "[CV] max_features=8, min_samples_leaf=3, min_samples_split=3 .........\n",
      "[CV]  max_features=8, min_samples_leaf=3, min_samples_split=3, score=0.406, total=   0.2s\n",
      "[CV] max_features=8, min_samples_leaf=3, min_samples_split=3 .........\n",
      "[CV]  max_features=8, min_samples_leaf=3, min_samples_split=3, score=0.524, total=   0.2s\n",
      "[CV] max_features=8, min_samples_leaf=3, min_samples_split=3 .........\n",
      "[CV]  max_features=8, min_samples_leaf=3, min_samples_split=3, score=0.305, total=   0.2s\n",
      "[CV] max_features=8, min_samples_leaf=3, min_samples_split=9 .........\n",
      "[CV]  max_features=8, min_samples_leaf=3, min_samples_split=9, score=0.407, total=   0.2s\n",
      "[CV] max_features=8, min_samples_leaf=3, min_samples_split=9 .........\n",
      "[CV]  max_features=8, min_samples_leaf=3, min_samples_split=9, score=0.526, total=   0.2s\n",
      "[CV] max_features=8, min_samples_leaf=3, min_samples_split=9 .........\n",
      "[CV]  max_features=8, min_samples_leaf=3, min_samples_split=9, score=0.306, total=   0.2s\n",
      "[CV] max_features=8, min_samples_leaf=3, min_samples_split=27 ........\n",
      "[CV]  max_features=8, min_samples_leaf=3, min_samples_split=27, score=0.409, total=   0.1s\n",
      "[CV] max_features=8, min_samples_leaf=3, min_samples_split=27 ........\n",
      "[CV]  max_features=8, min_samples_leaf=3, min_samples_split=27, score=0.528, total=   0.2s\n",
      "[CV] max_features=8, min_samples_leaf=3, min_samples_split=27 ........\n",
      "[CV]  max_features=8, min_samples_leaf=3, min_samples_split=27, score=0.306, total=   0.2s\n",
      "[CV] max_features=8, min_samples_leaf=3, min_samples_split=81 ........\n",
      "[CV]  max_features=8, min_samples_leaf=3, min_samples_split=81, score=0.410, total=   0.2s\n",
      "[CV] max_features=8, min_samples_leaf=3, min_samples_split=81 ........\n",
      "[CV]  max_features=8, min_samples_leaf=3, min_samples_split=81, score=0.531, total=   0.1s\n",
      "[CV] max_features=8, min_samples_leaf=3, min_samples_split=81 ........\n",
      "[CV]  max_features=8, min_samples_leaf=3, min_samples_split=81, score=0.303, total=   0.2s\n",
      "[CV] max_features=8, min_samples_leaf=9, min_samples_split=3 .........\n",
      "[CV]  max_features=8, min_samples_leaf=9, min_samples_split=3, score=0.404, total=   0.1s\n",
      "[CV] max_features=8, min_samples_leaf=9, min_samples_split=3 .........\n",
      "[CV]  max_features=8, min_samples_leaf=9, min_samples_split=3, score=0.523, total=   0.2s\n",
      "[CV] max_features=8, min_samples_leaf=9, min_samples_split=3 .........\n",
      "[CV]  max_features=8, min_samples_leaf=9, min_samples_split=3, score=0.301, total=   0.1s\n",
      "[CV] max_features=8, min_samples_leaf=9, min_samples_split=9 .........\n",
      "[CV]  max_features=8, min_samples_leaf=9, min_samples_split=9, score=0.404, total=   0.1s\n",
      "[CV] max_features=8, min_samples_leaf=9, min_samples_split=9 .........\n",
      "[CV]  max_features=8, min_samples_leaf=9, min_samples_split=9, score=0.523, total=   0.2s\n",
      "[CV] max_features=8, min_samples_leaf=9, min_samples_split=9 .........\n",
      "[CV]  max_features=8, min_samples_leaf=9, min_samples_split=9, score=0.301, total=   0.2s\n",
      "[CV] max_features=8, min_samples_leaf=9, min_samples_split=27 ........\n",
      "[CV]  max_features=8, min_samples_leaf=9, min_samples_split=27, score=0.406, total=   0.2s\n",
      "[CV] max_features=8, min_samples_leaf=9, min_samples_split=27 ........\n",
      "[CV]  max_features=8, min_samples_leaf=9, min_samples_split=27, score=0.526, total=   0.2s\n",
      "[CV] max_features=8, min_samples_leaf=9, min_samples_split=27 ........\n",
      "[CV]  max_features=8, min_samples_leaf=9, min_samples_split=27, score=0.304, total=   0.1s\n",
      "[CV] max_features=8, min_samples_leaf=9, min_samples_split=81 ........\n",
      "[CV]  max_features=8, min_samples_leaf=9, min_samples_split=81, score=0.409, total=   0.2s\n",
      "[CV] max_features=8, min_samples_leaf=9, min_samples_split=81 ........\n",
      "[CV]  max_features=8, min_samples_leaf=9, min_samples_split=81, score=0.533, total=   0.2s\n",
      "[CV] max_features=8, min_samples_leaf=9, min_samples_split=81 ........\n",
      "[CV]  max_features=8, min_samples_leaf=9, min_samples_split=81, score=0.304, total=   0.1s\n",
      "[CV] max_features=8, min_samples_leaf=27, min_samples_split=3 ........\n",
      "[CV]  max_features=8, min_samples_leaf=27, min_samples_split=3, score=0.400, total=   0.2s\n",
      "[CV] max_features=8, min_samples_leaf=27, min_samples_split=3 ........\n",
      "[CV]  max_features=8, min_samples_leaf=27, min_samples_split=3, score=0.518, total=   0.2s\n",
      "[CV] max_features=8, min_samples_leaf=27, min_samples_split=3 ........\n",
      "[CV]  max_features=8, min_samples_leaf=27, min_samples_split=3, score=0.294, total=   0.2s\n",
      "[CV] max_features=8, min_samples_leaf=27, min_samples_split=9 ........\n",
      "[CV]  max_features=8, min_samples_leaf=27, min_samples_split=9, score=0.400, total=   0.2s\n",
      "[CV] max_features=8, min_samples_leaf=27, min_samples_split=9 ........\n",
      "[CV]  max_features=8, min_samples_leaf=27, min_samples_split=9, score=0.518, total=   0.1s\n",
      "[CV] max_features=8, min_samples_leaf=27, min_samples_split=9 ........\n",
      "[CV]  max_features=8, min_samples_leaf=27, min_samples_split=9, score=0.294, total=   0.2s\n",
      "[CV] max_features=8, min_samples_leaf=27, min_samples_split=27 .......\n",
      "[CV]  max_features=8, min_samples_leaf=27, min_samples_split=27, score=0.400, total=   0.2s\n",
      "[CV] max_features=8, min_samples_leaf=27, min_samples_split=27 .......\n",
      "[CV]  max_features=8, min_samples_leaf=27, min_samples_split=27, score=0.518, total=   0.2s\n",
      "[CV] max_features=8, min_samples_leaf=27, min_samples_split=27 .......\n",
      "[CV]  max_features=8, min_samples_leaf=27, min_samples_split=27, score=0.294, total=   0.1s\n",
      "[CV] max_features=8, min_samples_leaf=27, min_samples_split=81 .......\n",
      "[CV]  max_features=8, min_samples_leaf=27, min_samples_split=81, score=0.405, total=   0.2s\n",
      "[CV] max_features=8, min_samples_leaf=27, min_samples_split=81 .......\n",
      "[CV]  max_features=8, min_samples_leaf=27, min_samples_split=81, score=0.522, total=   0.1s\n",
      "[CV] max_features=8, min_samples_leaf=27, min_samples_split=81 .......\n",
      "[CV]  max_features=8, min_samples_leaf=27, min_samples_split=81, score=0.299, total=   0.2s\n",
      "[CV] max_features=32, min_samples_leaf=1, min_samples_split=3 ........\n",
      "[CV]  max_features=32, min_samples_leaf=1, min_samples_split=3, score=0.521, total=   0.3s\n",
      "[CV] max_features=32, min_samples_leaf=1, min_samples_split=3 ........\n",
      "[CV]  max_features=32, min_samples_leaf=1, min_samples_split=3, score=0.651, total=   0.3s\n",
      "[CV] max_features=32, min_samples_leaf=1, min_samples_split=3 ........\n",
      "[CV]  max_features=32, min_samples_leaf=1, min_samples_split=3, score=0.392, total=   0.3s\n",
      "[CV] max_features=32, min_samples_leaf=1, min_samples_split=9 ........\n",
      "[CV]  max_features=32, min_samples_leaf=1, min_samples_split=9, score=0.521, total=   0.3s\n",
      "[CV] max_features=32, min_samples_leaf=1, min_samples_split=9 ........\n",
      "[CV]  max_features=32, min_samples_leaf=1, min_samples_split=9, score=0.651, total=   0.4s\n",
      "[CV] max_features=32, min_samples_leaf=1, min_samples_split=9 ........\n",
      "[CV]  max_features=32, min_samples_leaf=1, min_samples_split=9, score=0.394, total=   0.3s\n",
      "[CV] max_features=32, min_samples_leaf=1, min_samples_split=27 .......\n",
      "[CV]  max_features=32, min_samples_leaf=1, min_samples_split=27, score=0.521, total=   0.3s\n",
      "[CV] max_features=32, min_samples_leaf=1, min_samples_split=27 .......\n",
      "[CV]  max_features=32, min_samples_leaf=1, min_samples_split=27, score=0.652, total=   0.3s\n",
      "[CV] max_features=32, min_samples_leaf=1, min_samples_split=27 .......\n",
      "[CV]  max_features=32, min_samples_leaf=1, min_samples_split=27, score=0.393, total=   0.3s\n",
      "[CV] max_features=32, min_samples_leaf=1, min_samples_split=81 .......\n",
      "[CV]  max_features=32, min_samples_leaf=1, min_samples_split=81, score=0.520, total=   0.3s\n",
      "[CV] max_features=32, min_samples_leaf=1, min_samples_split=81 .......\n",
      "[CV]  max_features=32, min_samples_leaf=1, min_samples_split=81, score=0.651, total=   0.3s\n",
      "[CV] max_features=32, min_samples_leaf=1, min_samples_split=81 .......\n",
      "[CV]  max_features=32, min_samples_leaf=1, min_samples_split=81, score=0.392, total=   0.3s\n",
      "[CV] max_features=32, min_samples_leaf=3, min_samples_split=3 ........\n",
      "[CV]  max_features=32, min_samples_leaf=3, min_samples_split=3, score=0.522, total=   0.3s\n",
      "[CV] max_features=32, min_samples_leaf=3, min_samples_split=3 ........\n",
      "[CV]  max_features=32, min_samples_leaf=3, min_samples_split=3, score=0.654, total=   0.3s\n",
      "[CV] max_features=32, min_samples_leaf=3, min_samples_split=3 ........\n",
      "[CV]  max_features=32, min_samples_leaf=3, min_samples_split=3, score=0.393, total=   0.3s\n",
      "[CV] max_features=32, min_samples_leaf=3, min_samples_split=9 ........\n",
      "[CV]  max_features=32, min_samples_leaf=3, min_samples_split=9, score=0.523, total=   0.3s\n",
      "[CV] max_features=32, min_samples_leaf=3, min_samples_split=9 ........\n",
      "[CV]  max_features=32, min_samples_leaf=3, min_samples_split=9, score=0.653, total=   0.3s\n",
      "[CV] max_features=32, min_samples_leaf=3, min_samples_split=9 ........\n",
      "[CV]  max_features=32, min_samples_leaf=3, min_samples_split=9, score=0.394, total=   0.3s\n",
      "[CV] max_features=32, min_samples_leaf=3, min_samples_split=27 .......\n",
      "[CV]  max_features=32, min_samples_leaf=3, min_samples_split=27, score=0.523, total=   0.3s\n",
      "[CV] max_features=32, min_samples_leaf=3, min_samples_split=27 .......\n",
      "[CV]  max_features=32, min_samples_leaf=3, min_samples_split=27, score=0.654, total=   0.3s\n",
      "[CV] max_features=32, min_samples_leaf=3, min_samples_split=27 .......\n",
      "[CV]  max_features=32, min_samples_leaf=3, min_samples_split=27, score=0.392, total=   0.3s\n",
      "[CV] max_features=32, min_samples_leaf=3, min_samples_split=81 .......\n",
      "[CV]  max_features=32, min_samples_leaf=3, min_samples_split=81, score=0.522, total=   0.3s\n",
      "[CV] max_features=32, min_samples_leaf=3, min_samples_split=81 .......\n",
      "[CV]  max_features=32, min_samples_leaf=3, min_samples_split=81, score=0.651, total=   0.3s\n",
      "[CV] max_features=32, min_samples_leaf=3, min_samples_split=81 .......\n",
      "[CV]  max_features=32, min_samples_leaf=3, min_samples_split=81, score=0.392, total=   0.3s\n",
      "[CV] max_features=32, min_samples_leaf=9, min_samples_split=3 ........\n",
      "[CV]  max_features=32, min_samples_leaf=9, min_samples_split=3, score=0.522, total=   0.3s\n",
      "[CV] max_features=32, min_samples_leaf=9, min_samples_split=3 ........\n",
      "[CV]  max_features=32, min_samples_leaf=9, min_samples_split=3, score=0.656, total=   0.3s\n",
      "[CV] max_features=32, min_samples_leaf=9, min_samples_split=3 ........\n",
      "[CV]  max_features=32, min_samples_leaf=9, min_samples_split=3, score=0.392, total=   0.3s\n",
      "[CV] max_features=32, min_samples_leaf=9, min_samples_split=9 ........\n",
      "[CV]  max_features=32, min_samples_leaf=9, min_samples_split=9, score=0.522, total=   0.3s\n",
      "[CV] max_features=32, min_samples_leaf=9, min_samples_split=9 ........\n",
      "[CV]  max_features=32, min_samples_leaf=9, min_samples_split=9, score=0.656, total=   0.3s\n",
      "[CV] max_features=32, min_samples_leaf=9, min_samples_split=9 ........\n",
      "[CV]  max_features=32, min_samples_leaf=9, min_samples_split=9, score=0.392, total=   0.3s\n",
      "[CV] max_features=32, min_samples_leaf=9, min_samples_split=27 .......\n",
      "[CV]  max_features=32, min_samples_leaf=9, min_samples_split=27, score=0.521, total=   0.3s\n",
      "[CV] max_features=32, min_samples_leaf=9, min_samples_split=27 .......\n",
      "[CV]  max_features=32, min_samples_leaf=9, min_samples_split=27, score=0.655, total=   0.3s\n",
      "[CV] max_features=32, min_samples_leaf=9, min_samples_split=27 .......\n",
      "[CV]  max_features=32, min_samples_leaf=9, min_samples_split=27, score=0.391, total=   0.3s\n",
      "[CV] max_features=32, min_samples_leaf=9, min_samples_split=81 .......\n",
      "[CV]  max_features=32, min_samples_leaf=9, min_samples_split=81, score=0.520, total=   0.3s\n",
      "[CV] max_features=32, min_samples_leaf=9, min_samples_split=81 .......\n",
      "[CV]  max_features=32, min_samples_leaf=9, min_samples_split=81, score=0.652, total=   0.4s\n",
      "[CV] max_features=32, min_samples_leaf=9, min_samples_split=81 .......\n",
      "[CV]  max_features=32, min_samples_leaf=9, min_samples_split=81, score=0.391, total=   0.3s\n",
      "[CV] max_features=32, min_samples_leaf=27, min_samples_split=3 .......\n",
      "[CV]  max_features=32, min_samples_leaf=27, min_samples_split=3, score=0.519, total=   0.4s\n",
      "[CV] max_features=32, min_samples_leaf=27, min_samples_split=3 .......\n",
      "[CV]  max_features=32, min_samples_leaf=27, min_samples_split=3, score=0.653, total=   0.3s\n",
      "[CV] max_features=32, min_samples_leaf=27, min_samples_split=3 .......\n",
      "[CV]  max_features=32, min_samples_leaf=27, min_samples_split=3, score=0.389, total=   0.3s\n",
      "[CV] max_features=32, min_samples_leaf=27, min_samples_split=9 .......\n",
      "[CV]  max_features=32, min_samples_leaf=27, min_samples_split=9, score=0.519, total=   0.3s\n",
      "[CV] max_features=32, min_samples_leaf=27, min_samples_split=9 .......\n",
      "[CV]  max_features=32, min_samples_leaf=27, min_samples_split=9, score=0.653, total=   0.3s\n",
      "[CV] max_features=32, min_samples_leaf=27, min_samples_split=9 .......\n",
      "[CV]  max_features=32, min_samples_leaf=27, min_samples_split=9, score=0.389, total=   0.3s\n",
      "[CV] max_features=32, min_samples_leaf=27, min_samples_split=27 ......\n",
      "[CV]  max_features=32, min_samples_leaf=27, min_samples_split=27, score=0.519, total=   0.3s\n",
      "[CV] max_features=32, min_samples_leaf=27, min_samples_split=27 ......\n",
      "[CV]  max_features=32, min_samples_leaf=27, min_samples_split=27, score=0.653, total=   0.3s\n",
      "[CV] max_features=32, min_samples_leaf=27, min_samples_split=27 ......\n",
      "[CV]  max_features=32, min_samples_leaf=27, min_samples_split=27, score=0.389, total=   0.3s\n",
      "[CV] max_features=32, min_samples_leaf=27, min_samples_split=81 ......\n",
      "[CV]  max_features=32, min_samples_leaf=27, min_samples_split=81, score=0.518, total=   0.3s\n",
      "[CV] max_features=32, min_samples_leaf=27, min_samples_split=81 ......\n",
      "[CV]  max_features=32, min_samples_leaf=27, min_samples_split=81, score=0.652, total=   0.3s\n",
      "[CV] max_features=32, min_samples_leaf=27, min_samples_split=81 ......\n",
      "[CV]  max_features=32, min_samples_leaf=27, min_samples_split=81, score=0.389, total=   0.3s\n",
      "[CV] max_features=128, min_samples_leaf=1, min_samples_split=3 .......\n",
      "[CV]  max_features=128, min_samples_leaf=1, min_samples_split=3, score=0.543, total=   0.9s\n",
      "[CV] max_features=128, min_samples_leaf=1, min_samples_split=3 .......\n",
      "[CV]  max_features=128, min_samples_leaf=1, min_samples_split=3, score=0.674, total=   0.9s\n",
      "[CV] max_features=128, min_samples_leaf=1, min_samples_split=3 .......\n",
      "[CV]  max_features=128, min_samples_leaf=1, min_samples_split=3, score=0.410, total=   1.0s\n",
      "[CV] max_features=128, min_samples_leaf=1, min_samples_split=9 .......\n",
      "[CV]  max_features=128, min_samples_leaf=1, min_samples_split=9, score=0.544, total=   0.9s\n",
      "[CV] max_features=128, min_samples_leaf=1, min_samples_split=9 .......\n",
      "[CV]  max_features=128, min_samples_leaf=1, min_samples_split=9, score=0.675, total=   0.9s\n",
      "[CV] max_features=128, min_samples_leaf=1, min_samples_split=9 .......\n",
      "[CV]  max_features=128, min_samples_leaf=1, min_samples_split=9, score=0.411, total=   0.9s\n",
      "[CV] max_features=128, min_samples_leaf=1, min_samples_split=27 ......\n",
      "[CV]  max_features=128, min_samples_leaf=1, min_samples_split=27, score=0.544, total=   0.9s\n",
      "[CV] max_features=128, min_samples_leaf=1, min_samples_split=27 ......\n",
      "[CV]  max_features=128, min_samples_leaf=1, min_samples_split=27, score=0.674, total=   0.9s\n",
      "[CV] max_features=128, min_samples_leaf=1, min_samples_split=27 ......\n",
      "[CV]  max_features=128, min_samples_leaf=1, min_samples_split=27, score=0.411, total=   0.9s\n",
      "[CV] max_features=128, min_samples_leaf=1, min_samples_split=81 ......\n",
      "[CV]  max_features=128, min_samples_leaf=1, min_samples_split=81, score=0.544, total=   0.9s\n",
      "[CV] max_features=128, min_samples_leaf=1, min_samples_split=81 ......\n",
      "[CV]  max_features=128, min_samples_leaf=1, min_samples_split=81, score=0.674, total=   0.9s\n",
      "[CV] max_features=128, min_samples_leaf=1, min_samples_split=81 ......\n",
      "[CV]  max_features=128, min_samples_leaf=1, min_samples_split=81, score=0.410, total=   1.0s\n",
      "[CV] max_features=128, min_samples_leaf=3, min_samples_split=3 .......\n",
      "[CV]  max_features=128, min_samples_leaf=3, min_samples_split=3, score=0.545, total=   1.1s\n",
      "[CV] max_features=128, min_samples_leaf=3, min_samples_split=3 .......\n",
      "[CV]  max_features=128, min_samples_leaf=3, min_samples_split=3, score=0.673, total=   1.7s\n",
      "[CV] max_features=128, min_samples_leaf=3, min_samples_split=3 .......\n",
      "[CV]  max_features=128, min_samples_leaf=3, min_samples_split=3, score=0.412, total=   1.6s\n",
      "[CV] max_features=128, min_samples_leaf=3, min_samples_split=9 .......\n",
      "[CV]  max_features=128, min_samples_leaf=3, min_samples_split=9, score=0.546, total=   1.4s\n",
      "[CV] max_features=128, min_samples_leaf=3, min_samples_split=9 .......\n",
      "[CV]  max_features=128, min_samples_leaf=3, min_samples_split=9, score=0.674, total=   1.1s\n",
      "[CV] max_features=128, min_samples_leaf=3, min_samples_split=9 .......\n",
      "[CV]  max_features=128, min_samples_leaf=3, min_samples_split=9, score=0.411, total=   1.2s\n",
      "[CV] max_features=128, min_samples_leaf=3, min_samples_split=27 ......\n",
      "[CV]  max_features=128, min_samples_leaf=3, min_samples_split=27, score=0.545, total=   1.1s\n",
      "[CV] max_features=128, min_samples_leaf=3, min_samples_split=27 ......\n",
      "[CV]  max_features=128, min_samples_leaf=3, min_samples_split=27, score=0.675, total=   1.1s\n",
      "[CV] max_features=128, min_samples_leaf=3, min_samples_split=27 ......\n",
      "[CV]  max_features=128, min_samples_leaf=3, min_samples_split=27, score=0.412, total=   1.1s\n",
      "[CV] max_features=128, min_samples_leaf=3, min_samples_split=81 ......\n",
      "[CV]  max_features=128, min_samples_leaf=3, min_samples_split=81, score=0.546, total=   1.1s\n",
      "[CV] max_features=128, min_samples_leaf=3, min_samples_split=81 ......\n",
      "[CV]  max_features=128, min_samples_leaf=3, min_samples_split=81, score=0.674, total=   1.1s\n",
      "[CV] max_features=128, min_samples_leaf=3, min_samples_split=81 ......\n",
      "[CV]  max_features=128, min_samples_leaf=3, min_samples_split=81, score=0.412, total=   1.2s\n",
      "[CV] max_features=128, min_samples_leaf=9, min_samples_split=3 .......\n",
      "[CV]  max_features=128, min_samples_leaf=9, min_samples_split=3, score=0.544, total=   1.4s\n",
      "[CV] max_features=128, min_samples_leaf=9, min_samples_split=3 .......\n",
      "[CV]  max_features=128, min_samples_leaf=9, min_samples_split=3, score=0.673, total=   1.4s\n",
      "[CV] max_features=128, min_samples_leaf=9, min_samples_split=3 .......\n",
      "[CV]  max_features=128, min_samples_leaf=9, min_samples_split=3, score=0.409, total=   1.2s\n",
      "[CV] max_features=128, min_samples_leaf=9, min_samples_split=9 .......\n",
      "[CV]  max_features=128, min_samples_leaf=9, min_samples_split=9, score=0.544, total=   1.2s\n",
      "[CV] max_features=128, min_samples_leaf=9, min_samples_split=9 .......\n",
      "[CV]  max_features=128, min_samples_leaf=9, min_samples_split=9, score=0.673, total=   1.2s\n",
      "[CV] max_features=128, min_samples_leaf=9, min_samples_split=9 .......\n",
      "[CV]  max_features=128, min_samples_leaf=9, min_samples_split=9, score=0.409, total=   1.2s\n",
      "[CV] max_features=128, min_samples_leaf=9, min_samples_split=27 ......\n",
      "[CV]  max_features=128, min_samples_leaf=9, min_samples_split=27, score=0.544, total=   1.2s\n",
      "[CV] max_features=128, min_samples_leaf=9, min_samples_split=27 ......\n",
      "[CV]  max_features=128, min_samples_leaf=9, min_samples_split=27, score=0.674, total=   1.1s\n",
      "[CV] max_features=128, min_samples_leaf=9, min_samples_split=27 ......\n",
      "[CV]  max_features=128, min_samples_leaf=9, min_samples_split=27, score=0.410, total=   1.2s\n",
      "[CV] max_features=128, min_samples_leaf=9, min_samples_split=81 ......\n",
      "[CV]  max_features=128, min_samples_leaf=9, min_samples_split=81, score=0.544, total=   1.2s\n",
      "[CV] max_features=128, min_samples_leaf=9, min_samples_split=81 ......\n",
      "[CV]  max_features=128, min_samples_leaf=9, min_samples_split=81, score=0.674, total=   1.1s\n",
      "[CV] max_features=128, min_samples_leaf=9, min_samples_split=81 ......\n",
      "[CV]  max_features=128, min_samples_leaf=9, min_samples_split=81, score=0.410, total=   1.2s\n",
      "[CV] max_features=128, min_samples_leaf=27, min_samples_split=3 ......\n",
      "[CV]  max_features=128, min_samples_leaf=27, min_samples_split=3, score=0.542, total=   1.0s\n",
      "[CV] max_features=128, min_samples_leaf=27, min_samples_split=3 ......\n",
      "[CV]  max_features=128, min_samples_leaf=27, min_samples_split=3, score=0.677, total=   0.9s\n",
      "[CV] max_features=128, min_samples_leaf=27, min_samples_split=3 ......\n",
      "[CV]  max_features=128, min_samples_leaf=27, min_samples_split=3, score=0.407, total=   1.0s\n",
      "[CV] max_features=128, min_samples_leaf=27, min_samples_split=9 ......\n",
      "[CV]  max_features=128, min_samples_leaf=27, min_samples_split=9, score=0.542, total=   0.9s\n",
      "[CV] max_features=128, min_samples_leaf=27, min_samples_split=9 ......\n",
      "[CV]  max_features=128, min_samples_leaf=27, min_samples_split=9, score=0.677, total=   0.9s\n",
      "[CV] max_features=128, min_samples_leaf=27, min_samples_split=9 ......\n",
      "[CV]  max_features=128, min_samples_leaf=27, min_samples_split=9, score=0.407, total=   0.9s\n",
      "[CV] max_features=128, min_samples_leaf=27, min_samples_split=27 .....\n",
      "[CV]  max_features=128, min_samples_leaf=27, min_samples_split=27, score=0.542, total=   0.9s\n",
      "[CV] max_features=128, min_samples_leaf=27, min_samples_split=27 .....\n",
      "[CV]  max_features=128, min_samples_leaf=27, min_samples_split=27, score=0.677, total=   0.9s\n",
      "[CV] max_features=128, min_samples_leaf=27, min_samples_split=27 .....\n",
      "[CV]  max_features=128, min_samples_leaf=27, min_samples_split=27, score=0.407, total=   0.9s\n",
      "[CV] max_features=128, min_samples_leaf=27, min_samples_split=81 .....\n",
      "[CV]  max_features=128, min_samples_leaf=27, min_samples_split=81, score=0.542, total=   0.9s\n",
      "[CV] max_features=128, min_samples_leaf=27, min_samples_split=81 .....\n",
      "[CV]  max_features=128, min_samples_leaf=27, min_samples_split=81, score=0.677, total=   0.9s\n",
      "[CV] max_features=128, min_samples_leaf=27, min_samples_split=81 .....\n",
      "[CV]  max_features=128, min_samples_leaf=27, min_samples_split=81, score=0.406, total=   0.9s\n"
     ]
    },
    {
     "name": "stderr",
     "output_type": "stream",
     "text": [
      "[Parallel(n_jobs=1)]: Done 192 out of 192 | elapsed:  1.3min finished\n"
     ]
    },
    {
     "data": {
      "text/plain": [
       "GridSearchCV(cv=3,\n",
       "             estimator=GradientBoostingRegressor(learning_rate=0.01,\n",
       "                                                 n_estimators=256,\n",
       "                                                 random_state=1,\n",
       "                                                 warm_start=True),\n",
       "             param_grid={'max_features': array([  2,   8,  32, 128], dtype=int32),\n",
       "                         'min_samples_leaf': [1, 3, 9, 27],\n",
       "                         'min_samples_split': [3, 9, 27, 81]},\n",
       "             scoring=make_scorer(r2_score), verbose=3)"
      ]
     },
     "execution_count": 41,
     "metadata": {},
     "output_type": "execute_result"
    }
   ],
   "source": [
    "gs.fit(x1,y1)"
   ]
  },
  {
   "cell_type": "code",
   "execution_count": 42,
   "metadata": {},
   "outputs": [
    {
     "data": {
      "text/plain": [
       "{'max_features': 128, 'min_samples_leaf': 3, 'min_samples_split': 27}"
      ]
     },
     "execution_count": 42,
     "metadata": {},
     "output_type": "execute_result"
    }
   ],
   "source": [
    "order = np.argsort(gs.cv_results_['mean_test_score'])\n",
    "cv_res = np.array(gs.cv_results_['params'])\n",
    "cv_res[np.array(order)][-1]"
   ]
  },
  {
   "cell_type": "code",
   "execution_count": 43,
   "metadata": {},
   "outputs": [],
   "source": [
    "gb_model = GradientBoostingRegressor(learning_rate=0.01 , n_estimators=256, max_depth=3, \n",
    "                                     max_features=128, min_samples_leaf=3, min_samples_split=81, random_state=1)"
   ]
  },
  {
   "cell_type": "code",
   "execution_count": 44,
   "metadata": {},
   "outputs": [
    {
     "data": {
      "text/plain": [
       "GradientBoostingRegressor(learning_rate=0.01, max_features=128,\n",
       "                          min_samples_leaf=3, min_samples_split=81,\n",
       "                          n_estimators=256, random_state=1)"
      ]
     },
     "execution_count": 44,
     "metadata": {},
     "output_type": "execute_result"
    }
   ],
   "source": [
    "gb_model.fit(x1, y1)"
   ]
  },
  {
   "cell_type": "markdown",
   "metadata": {},
   "source": [
    "__Задание 3.__\n",
    "\n",
    " __(1 балл)__ Выведите качество случайного леса и градиентного бустинга на x2, y2, а также качество модели, представляющей собой усреднение предсказаний двух обученных моделей. Какой из трех вариантов работает лучше?"
   ]
  },
  {
   "cell_type": "code",
   "execution_count": 45,
   "metadata": {},
   "outputs": [
    {
     "data": {
      "text/plain": [
       "0.5582223506501627"
      ]
     },
     "execution_count": 45,
     "metadata": {},
     "output_type": "execute_result"
    }
   ],
   "source": [
    "from sklearn.metrics import r2_score\n",
    "r2_score(y2,rf_model.predict(x2))"
   ]
  },
  {
   "cell_type": "code",
   "execution_count": 46,
   "metadata": {},
   "outputs": [
    {
     "data": {
      "text/plain": [
       "0.5571971649602394"
      ]
     },
     "execution_count": 46,
     "metadata": {},
     "output_type": "execute_result"
    }
   ],
   "source": [
    "r2_score(y2,gb_model.predict(x2))"
   ]
  },
  {
   "cell_type": "code",
   "execution_count": 47,
   "metadata": {},
   "outputs": [],
   "source": [
    "mean_model = (rf_model.predict(x2)+gb_model.predict(x2))/2.0"
   ]
  },
  {
   "cell_type": "code",
   "execution_count": 48,
   "metadata": {},
   "outputs": [
    {
     "data": {
      "text/plain": [
       "0.5591526644127611"
      ]
     },
     "execution_count": 48,
     "metadata": {},
     "output_type": "execute_result"
    }
   ],
   "source": [
    "r2_score(y2,mean_model)"
   ]
  },
  {
   "cell_type": "markdown",
   "metadata": {},
   "source": [
    "Лучше всего работает модель, представляющая собой усреднение предсказаний случайного леса и градиентного бустинга."
   ]
  },
  {
   "cell_type": "markdown",
   "metadata": {},
   "source": [
    "__Задание 4.__\n",
    "\n",
    " __(1 балл)__  Реализуйте блендинг. Обучите линейную регрессию на признаках - выходах двух моделей по выборке x2, y2. "
   ]
  },
  {
   "cell_type": "code",
   "execution_count": 49,
   "metadata": {},
   "outputs": [],
   "source": [
    "from sklearn.linear_model import LinearRegression"
   ]
  },
  {
   "cell_type": "code",
   "execution_count": 50,
   "metadata": {},
   "outputs": [],
   "source": [
    "x2_rf = rf_model.predict(x2)\n",
    "x2_gb = gb_model.predict(x2)"
   ]
  },
  {
   "cell_type": "code",
   "execution_count": 51,
   "metadata": {},
   "outputs": [],
   "source": [
    "x2_blend = np.array([x2_rf,x2_gb]).reshape(-1,2)"
   ]
  },
  {
   "cell_type": "code",
   "execution_count": 52,
   "metadata": {},
   "outputs": [
    {
     "data": {
      "text/plain": [
       "(1000, 2)"
      ]
     },
     "execution_count": 52,
     "metadata": {},
     "output_type": "execute_result"
    }
   ],
   "source": [
    "x2_blend.shape"
   ]
  },
  {
   "cell_type": "code",
   "execution_count": 53,
   "metadata": {},
   "outputs": [],
   "source": [
    "lr_model = LinearRegression(normalize=True)"
   ]
  },
  {
   "cell_type": "code",
   "execution_count": 54,
   "metadata": {},
   "outputs": [
    {
     "data": {
      "text/plain": [
       "LinearRegression(normalize=True)"
      ]
     },
     "execution_count": 54,
     "metadata": {},
     "output_type": "execute_result"
    }
   ],
   "source": [
    "lr_model.fit(x2_blend, y2)"
   ]
  },
  {
   "cell_type": "markdown",
   "metadata": {},
   "source": [
    "__Задание 5.__\n",
    "\n",
    " __(0.5 балла)__ Выведите качество случайного леса и градиентного бустинга на x3, y3, качество модели, представляющей собой усреднение предсказаний двух обученных моделей, а также качество блендинга. Какая из четырех моделей работает лучше? Работает ли блендинг лучше усреднения? Выведите веса блендинга, какой из базовых алгоритмов вносит большой вклад в итоговую модель?"
   ]
  },
  {
   "cell_type": "code",
   "execution_count": 55,
   "metadata": {},
   "outputs": [
    {
     "data": {
      "text/plain": [
       "0.6092559546814411"
      ]
     },
     "execution_count": 55,
     "metadata": {},
     "output_type": "execute_result"
    }
   ],
   "source": [
    "r2_score(y3,rf_model.predict(x3))"
   ]
  },
  {
   "cell_type": "code",
   "execution_count": 56,
   "metadata": {},
   "outputs": [
    {
     "data": {
      "text/plain": [
       "0.608197310324434"
      ]
     },
     "execution_count": 56,
     "metadata": {},
     "output_type": "execute_result"
    }
   ],
   "source": [
    "r2_score(y3,gb_model.predict(x3))"
   ]
  },
  {
   "cell_type": "code",
   "execution_count": 57,
   "metadata": {},
   "outputs": [
    {
     "data": {
      "text/plain": [
       "0.6102623871748524"
      ]
     },
     "execution_count": 57,
     "metadata": {},
     "output_type": "execute_result"
    }
   ],
   "source": [
    "mean_model = (rf_model.predict(x3)+gb_model.predict(x3))/2.0\n",
    "r2_score(y3,mean_model)"
   ]
  },
  {
   "cell_type": "code",
   "execution_count": 58,
   "metadata": {},
   "outputs": [],
   "source": [
    "x3_blend = np.array([rf_model.predict(x3),gb_model.predict(x3)]).reshape(-1,2)"
   ]
  },
  {
   "cell_type": "code",
   "execution_count": 59,
   "metadata": {},
   "outputs": [
    {
     "data": {
      "text/plain": [
       "-0.0030055397356343327"
      ]
     },
     "execution_count": 59,
     "metadata": {},
     "output_type": "execute_result"
    }
   ],
   "source": [
    "r2_score(y3,lr_model.predict(x3_blend))"
   ]
  },
  {
   "cell_type": "markdown",
   "metadata": {},
   "source": [
    "Лучше всего работает модель, представляющая собой усреднение предсказаний случайного леса и градиентного бустинга. Блендинг показал плохой результат."
   ]
  },
  {
   "cell_type": "code",
   "execution_count": 60,
   "metadata": {},
   "outputs": [
    {
     "data": {
      "text/plain": [
       "array([-0.01464327, -0.00496229])"
      ]
     },
     "execution_count": 60,
     "metadata": {},
     "output_type": "execute_result"
    }
   ],
   "source": [
    "lr_model.coef_"
   ]
  },
  {
   "cell_type": "code",
   "execution_count": 61,
   "metadata": {},
   "outputs": [
    {
     "data": {
      "text/plain": [
       "102.81648415888243"
      ]
     },
     "execution_count": 61,
     "metadata": {},
     "output_type": "execute_result"
    }
   ],
   "source": [
    "lr_model.intercept_"
   ]
  },
  {
   "cell_type": "markdown",
   "metadata": {},
   "source": [
    " В итоговой модели больший вес имеет случайный лес."
   ]
  },
  {
   "cell_type": "code",
   "execution_count": null,
   "metadata": {},
   "outputs": [],
   "source": []
  }
 ],
 "metadata": {
  "_change_revision": 113,
  "_is_fork": false,
  "kernelspec": {
   "display_name": "Python 3",
   "language": "python",
   "name": "python3"
  },
  "language_info": {
   "codemirror_mode": {
    "name": "ipython",
    "version": 3
   },
   "file_extension": ".py",
   "mimetype": "text/x-python",
   "name": "python",
   "nbconvert_exporter": "python",
   "pygments_lexer": "ipython3",
   "version": "3.8.5"
  }
 },
 "nbformat": 4,
 "nbformat_minor": 1
}
